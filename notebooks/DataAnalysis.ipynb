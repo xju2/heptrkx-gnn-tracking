{
 "cells": [
  {
   "cell_type": "markdown",
   "metadata": {},
   "source": [
    "Use k-component method to perform the post-processing"
   ]
  },
  {
   "cell_type": "code",
   "execution_count": 3,
   "metadata": {},
   "outputs": [],
   "source": [
    "import numpy as np\n",
    "import pandas as pd\n",
    "import matplotlib.pyplot as plt\n",
    "\n",
    "import trackml.dataset"
   ]
  },
  {
   "cell_type": "markdown",
   "metadata": {},
   "source": [
    "## Load the data"
   ]
  },
  {
   "cell_type": "code",
   "execution_count": 4,
   "metadata": {},
   "outputs": [],
   "source": [
    "data_dir = '/global/homes/x/xju/atlas/heptrkx/trackml_inputs/train_all'\n",
    "black_list_dir = '/global/homes/x/xju/atlas/heptrkx/trackml_inputs/blacklist'"
   ]
  },
  {
   "cell_type": "code",
   "execution_count": 5,
   "metadata": {},
   "outputs": [],
   "source": [
    "evtid = 6600\n",
    "prefix = os.path.join(data_dir, 'event{:09d}'.format(evtid))\n",
    "prefix_bl = os.path.join(black_list_dir, 'event{:09d}-blacklist_'.format(evtid))"
   ]
  },
  {
   "cell_type": "code",
   "execution_count": 6,
   "metadata": {},
   "outputs": [],
   "source": [
    "hits_exclude = pd.read_csv(prefix_bl+'hits.csv')\n",
    "particles_exclude = pd.read_csv(prefix_bl+'particles.csv')"
   ]
  },
  {
   "cell_type": "code",
   "execution_count": 7,
   "metadata": {},
   "outputs": [],
   "source": [
    "hits, particles, truth = trackml.dataset.load_event(\n",
    "    prefix, parts=['hits', 'particles', 'truth'])"
   ]
  },
  {
   "cell_type": "code",
   "execution_count": 8,
   "metadata": {},
   "outputs": [],
   "source": [
    "hits = hits[~hits['hit_id'].isin(hits_exclude['hit_id'])]\n",
    "particles = particles[~particles['particle_id'].isin(particles_exclude['particle_id'])]"
   ]
  },
  {
   "cell_type": "code",
   "execution_count": 9,
   "metadata": {},
   "outputs": [
    {
     "data": {
      "text/plain": [
       "(113668, 7)"
      ]
     },
     "execution_count": 9,
     "metadata": {},
     "output_type": "execute_result"
    }
   ],
   "source": [
    "hits.shape"
   ]
  },
  {
   "cell_type": "code",
   "execution_count": 10,
   "metadata": {},
   "outputs": [
    {
     "data": {
      "text/plain": [
       "(11170, 9)"
      ]
     },
     "execution_count": 10,
     "metadata": {},
     "output_type": "execute_result"
    }
   ],
   "source": [
    "particles.shape"
   ]
  },
  {
   "cell_type": "code",
   "execution_count": 11,
   "metadata": {},
   "outputs": [],
   "source": [
    "tot_particles = particles.shape[0]"
   ]
  },
  {
   "cell_type": "code",
   "execution_count": 12,
   "metadata": {},
   "outputs": [],
   "source": [
    "px = particles.px\n",
    "py = particles.py\n",
    "pt = np.sqrt(px**2 + py**2)\n",
    "particles = particles.assign(pt=pt)"
   ]
  },
  {
   "cell_type": "markdown",
   "metadata": {},
   "source": [
    "## remove particles that do not leave a hit"
   ]
  },
  {
   "cell_type": "code",
   "execution_count": 13,
   "metadata": {},
   "outputs": [],
   "source": [
    "truth_particles = particles.merge(truth, on='particle_id', how='left')"
   ]
  },
  {
   "cell_type": "code",
   "execution_count": 14,
   "metadata": {},
   "outputs": [],
   "source": [
    "reconstructable_particles = truth_particles[~np.isnan(truth_particles.weight)]"
   ]
  },
  {
   "cell_type": "code",
   "execution_count": 15,
   "metadata": {},
   "outputs": [
    {
     "data": {
      "text/plain": [
       "(95687, 18)"
      ]
     },
     "execution_count": 15,
     "metadata": {},
     "output_type": "execute_result"
    }
   ],
   "source": [
    "reconstructable_particles.shape"
   ]
  },
  {
   "cell_type": "code",
   "execution_count": 16,
   "metadata": {},
   "outputs": [
    {
     "data": {
      "text/html": [
       "<div>\n",
       "<style scoped>\n",
       "    .dataframe tbody tr th:only-of-type {\n",
       "        vertical-align: middle;\n",
       "    }\n",
       "\n",
       "    .dataframe tbody tr th {\n",
       "        vertical-align: top;\n",
       "    }\n",
       "\n",
       "    .dataframe thead th {\n",
       "        text-align: right;\n",
       "    }\n",
       "</style>\n",
       "<table border=\"1\" class=\"dataframe\">\n",
       "  <thead>\n",
       "    <tr style=\"text-align: right;\">\n",
       "      <th></th>\n",
       "      <th>particle_id</th>\n",
       "      <th>vx</th>\n",
       "      <th>vy</th>\n",
       "      <th>vz</th>\n",
       "      <th>px</th>\n",
       "      <th>py</th>\n",
       "      <th>pz</th>\n",
       "      <th>q</th>\n",
       "      <th>nhits</th>\n",
       "      <th>pt</th>\n",
       "      <th>hit_id</th>\n",
       "      <th>tx</th>\n",
       "      <th>ty</th>\n",
       "      <th>tz</th>\n",
       "      <th>tpx</th>\n",
       "      <th>tpy</th>\n",
       "      <th>tpz</th>\n",
       "      <th>weight</th>\n",
       "    </tr>\n",
       "  </thead>\n",
       "  <tbody>\n",
       "    <tr>\n",
       "      <th>0</th>\n",
       "      <td>4503668346847232</td>\n",
       "      <td>-0.024631</td>\n",
       "      <td>-0.000457</td>\n",
       "      <td>6.72595</td>\n",
       "      <td>-0.505992</td>\n",
       "      <td>-1.59523</td>\n",
       "      <td>1.72873</td>\n",
       "      <td>-1</td>\n",
       "      <td>12</td>\n",
       "      <td>1.673555</td>\n",
       "      <td>20402.0</td>\n",
       "      <td>-9.643060</td>\n",
       "      <td>-30.945400</td>\n",
       "      <td>40.205601</td>\n",
       "      <td>-0.487816</td>\n",
       "      <td>-1.60070</td>\n",
       "      <td>1.72855</td>\n",
       "      <td>0.000039</td>\n",
       "    </tr>\n",
       "    <tr>\n",
       "      <th>1</th>\n",
       "      <td>4503668346847232</td>\n",
       "      <td>-0.024631</td>\n",
       "      <td>-0.000457</td>\n",
       "      <td>6.72595</td>\n",
       "      <td>-0.505992</td>\n",
       "      <td>-1.59523</td>\n",
       "      <td>1.72873</td>\n",
       "      <td>-1</td>\n",
       "      <td>12</td>\n",
       "      <td>1.673555</td>\n",
       "      <td>28815.0</td>\n",
       "      <td>-20.957300</td>\n",
       "      <td>-69.141403</td>\n",
       "      <td>81.379601</td>\n",
       "      <td>-0.462740</td>\n",
       "      <td>-1.60673</td>\n",
       "      <td>1.72910</td>\n",
       "      <td>0.000033</td>\n",
       "    </tr>\n",
       "    <tr>\n",
       "      <th>2</th>\n",
       "      <td>4503668346847232</td>\n",
       "      <td>-0.024631</td>\n",
       "      <td>-0.000457</td>\n",
       "      <td>6.72595</td>\n",
       "      <td>-0.505992</td>\n",
       "      <td>-1.59523</td>\n",
       "      <td>1.72873</td>\n",
       "      <td>-1</td>\n",
       "      <td>12</td>\n",
       "      <td>1.673555</td>\n",
       "      <td>35081.0</td>\n",
       "      <td>-32.765400</td>\n",
       "      <td>-111.283997</td>\n",
       "      <td>126.685997</td>\n",
       "      <td>-0.438239</td>\n",
       "      <td>-1.61292</td>\n",
       "      <td>1.72897</td>\n",
       "      <td>0.000028</td>\n",
       "    </tr>\n",
       "    <tr>\n",
       "      <th>3</th>\n",
       "      <td>4503668346847232</td>\n",
       "      <td>-0.024631</td>\n",
       "      <td>-0.000457</td>\n",
       "      <td>6.72595</td>\n",
       "      <td>-0.505992</td>\n",
       "      <td>-1.59523</td>\n",
       "      <td>1.72873</td>\n",
       "      <td>-1</td>\n",
       "      <td>12</td>\n",
       "      <td>1.673555</td>\n",
       "      <td>41335.0</td>\n",
       "      <td>-46.579102</td>\n",
       "      <td>-164.350006</td>\n",
       "      <td>183.412994</td>\n",
       "      <td>-0.404453</td>\n",
       "      <td>-1.62118</td>\n",
       "      <td>1.72873</td>\n",
       "      <td>0.000023</td>\n",
       "    </tr>\n",
       "    <tr>\n",
       "      <th>4</th>\n",
       "      <td>4503668346847232</td>\n",
       "      <td>-0.024631</td>\n",
       "      <td>-0.000457</td>\n",
       "      <td>6.72595</td>\n",
       "      <td>-0.505992</td>\n",
       "      <td>-1.59523</td>\n",
       "      <td>1.72873</td>\n",
       "      <td>-1</td>\n",
       "      <td>12</td>\n",
       "      <td>1.673555</td>\n",
       "      <td>41347.0</td>\n",
       "      <td>-47.028702</td>\n",
       "      <td>-166.154999</td>\n",
       "      <td>185.337006</td>\n",
       "      <td>-0.403087</td>\n",
       "      <td>-1.62212</td>\n",
       "      <td>1.72811</td>\n",
       "      <td>0.000020</td>\n",
       "    </tr>\n",
       "  </tbody>\n",
       "</table>\n",
       "</div>"
      ],
      "text/plain": [
       "        particle_id        vx        vy       vz        px       py       pz  \\\n",
       "0  4503668346847232 -0.024631 -0.000457  6.72595 -0.505992 -1.59523  1.72873   \n",
       "1  4503668346847232 -0.024631 -0.000457  6.72595 -0.505992 -1.59523  1.72873   \n",
       "2  4503668346847232 -0.024631 -0.000457  6.72595 -0.505992 -1.59523  1.72873   \n",
       "3  4503668346847232 -0.024631 -0.000457  6.72595 -0.505992 -1.59523  1.72873   \n",
       "4  4503668346847232 -0.024631 -0.000457  6.72595 -0.505992 -1.59523  1.72873   \n",
       "\n",
       "   q  nhits        pt   hit_id         tx          ty          tz       tpx  \\\n",
       "0 -1     12  1.673555  20402.0  -9.643060  -30.945400   40.205601 -0.487816   \n",
       "1 -1     12  1.673555  28815.0 -20.957300  -69.141403   81.379601 -0.462740   \n",
       "2 -1     12  1.673555  35081.0 -32.765400 -111.283997  126.685997 -0.438239   \n",
       "3 -1     12  1.673555  41335.0 -46.579102 -164.350006  183.412994 -0.404453   \n",
       "4 -1     12  1.673555  41347.0 -47.028702 -166.154999  185.337006 -0.403087   \n",
       "\n",
       "       tpy      tpz    weight  \n",
       "0 -1.60070  1.72855  0.000039  \n",
       "1 -1.60673  1.72910  0.000033  \n",
       "2 -1.61292  1.72897  0.000028  \n",
       "3 -1.62118  1.72873  0.000023  \n",
       "4 -1.62212  1.72811  0.000020  "
      ]
     },
     "execution_count": 16,
     "metadata": {},
     "output_type": "execute_result"
    }
   ],
   "source": [
    "reconstructable_particles.head()"
   ]
  },
  {
   "cell_type": "code",
   "execution_count": 17,
   "metadata": {},
   "outputs": [
    {
     "data": {
      "text/plain": [
       "9635"
      ]
     },
     "execution_count": 17,
     "metadata": {},
     "output_type": "execute_result"
    }
   ],
   "source": [
    "len(np.unique(reconstructable_particles.particle_id))"
   ]
  },
  {
   "cell_type": "markdown",
   "metadata": {},
   "source": [
    "### remove particles with weight == 0, i.e. non-constructable particles"
   ]
  },
  {
   "cell_type": "code",
   "execution_count": 18,
   "metadata": {},
   "outputs": [],
   "source": [
    "truth_particles = particles.merge(truth, on='particle_id', how='left')\n",
    "non_recostructable_particles = truth_particles[truth_particles.weight.abs() < 1e-7]"
   ]
  },
  {
   "cell_type": "code",
   "execution_count": 19,
   "metadata": {},
   "outputs": [
    {
     "data": {
      "text/plain": [
       "(95370, 18)"
      ]
     },
     "execution_count": 19,
     "metadata": {},
     "output_type": "execute_result"
    }
   ],
   "source": [
    "recostructable_particles = truth_particles[~truth_particles['particle_id'].isin(np.unique(non_recostructable_particles.particle_id))]\n",
    "recostructable_particles.shape"
   ]
  },
  {
   "cell_type": "markdown",
   "metadata": {},
   "source": [
    "### remove noise hits\n",
    "Their weights are zero"
   ]
  },
  {
   "cell_type": "code",
   "execution_count": 22,
   "metadata": {},
   "outputs": [
    {
     "data": {
      "text/html": [
       "<div>\n",
       "<style scoped>\n",
       "    .dataframe tbody tr th:only-of-type {\n",
       "        vertical-align: middle;\n",
       "    }\n",
       "\n",
       "    .dataframe tbody tr th {\n",
       "        vertical-align: top;\n",
       "    }\n",
       "\n",
       "    .dataframe thead th {\n",
       "        text-align: right;\n",
       "    }\n",
       "</style>\n",
       "<table border=\"1\" class=\"dataframe\">\n",
       "  <thead>\n",
       "    <tr style=\"text-align: right;\">\n",
       "      <th></th>\n",
       "      <th>hit_id</th>\n",
       "      <th>particle_id</th>\n",
       "      <th>tx</th>\n",
       "      <th>ty</th>\n",
       "      <th>tz</th>\n",
       "      <th>tpx</th>\n",
       "      <th>tpy</th>\n",
       "      <th>tpz</th>\n",
       "      <th>weight</th>\n",
       "    </tr>\n",
       "  </thead>\n",
       "  <tbody>\n",
       "    <tr>\n",
       "      <th>0</th>\n",
       "      <td>1</td>\n",
       "      <td>418835796137607168</td>\n",
       "      <td>-62.044899</td>\n",
       "      <td>-8.80437</td>\n",
       "      <td>-1502.5</td>\n",
       "      <td>-0.275382</td>\n",
       "      <td>-0.019044</td>\n",
       "      <td>-6.58252</td>\n",
       "      <td>0.000010</td>\n",
       "    </tr>\n",
       "    <tr>\n",
       "      <th>1</th>\n",
       "      <td>2</td>\n",
       "      <td>211686362355597312</td>\n",
       "      <td>-56.781799</td>\n",
       "      <td>2.68623</td>\n",
       "      <td>-1502.5</td>\n",
       "      <td>-0.222526</td>\n",
       "      <td>0.027606</td>\n",
       "      <td>-5.80354</td>\n",
       "      <td>0.000008</td>\n",
       "    </tr>\n",
       "    <tr>\n",
       "      <th>2</th>\n",
       "      <td>3</td>\n",
       "      <td>517920279339466752</td>\n",
       "      <td>-88.781898</td>\n",
       "      <td>-4.98339</td>\n",
       "      <td>-1502.5</td>\n",
       "      <td>-0.526577</td>\n",
       "      <td>-0.000612</td>\n",
       "      <td>-8.85540</td>\n",
       "      <td>0.000008</td>\n",
       "    </tr>\n",
       "    <tr>\n",
       "      <th>3</th>\n",
       "      <td>4</td>\n",
       "      <td>616995416692490240</td>\n",
       "      <td>-68.249702</td>\n",
       "      <td>-9.66492</td>\n",
       "      <td>-1502.5</td>\n",
       "      <td>-0.424269</td>\n",
       "      <td>-0.083626</td>\n",
       "      <td>-9.49401</td>\n",
       "      <td>0.000008</td>\n",
       "    </tr>\n",
       "    <tr>\n",
       "      <th>4</th>\n",
       "      <td>5</td>\n",
       "      <td>0</td>\n",
       "      <td>-90.478897</td>\n",
       "      <td>-14.19510</td>\n",
       "      <td>-1502.5</td>\n",
       "      <td>-605192.000000</td>\n",
       "      <td>-319191.000000</td>\n",
       "      <td>-729287.00000</td>\n",
       "      <td>0.000000</td>\n",
       "    </tr>\n",
       "  </tbody>\n",
       "</table>\n",
       "</div>"
      ],
      "text/plain": [
       "   hit_id         particle_id         tx        ty      tz            tpx  \\\n",
       "0       1  418835796137607168 -62.044899  -8.80437 -1502.5      -0.275382   \n",
       "1       2  211686362355597312 -56.781799   2.68623 -1502.5      -0.222526   \n",
       "2       3  517920279339466752 -88.781898  -4.98339 -1502.5      -0.526577   \n",
       "3       4  616995416692490240 -68.249702  -9.66492 -1502.5      -0.424269   \n",
       "4       5                   0 -90.478897 -14.19510 -1502.5 -605192.000000   \n",
       "\n",
       "             tpy           tpz    weight  \n",
       "0      -0.019044      -6.58252  0.000010  \n",
       "1       0.027606      -5.80354  0.000008  \n",
       "2      -0.000612      -8.85540  0.000008  \n",
       "3      -0.083626      -9.49401  0.000008  \n",
       "4 -319191.000000 -729287.00000  0.000000  "
      ]
     },
     "execution_count": 22,
     "metadata": {},
     "output_type": "execute_result"
    }
   ],
   "source": [
    "truth.head()"
   ]
  },
  {
   "cell_type": "code",
   "execution_count": 23,
   "metadata": {},
   "outputs": [
    {
     "data": {
      "text/plain": [
       "(113668, 15)"
      ]
     },
     "execution_count": 23,
     "metadata": {},
     "output_type": "execute_result"
    }
   ],
   "source": [
    "hits = hits.merge(truth, on='hit_id', how='left')\n",
    "hits.shape"
   ]
  },
  {
   "cell_type": "code",
   "execution_count": 24,
   "metadata": {},
   "outputs": [
    {
     "data": {
      "text/plain": [
       "(95687, 15)"
      ]
     },
     "execution_count": 24,
     "metadata": {},
     "output_type": "execute_result"
    }
   ],
   "source": [
    "hits_no_noise = hits[hits['particle_id'] != 0]\n",
    "hits_no_noise.shape"
   ]
  },
  {
   "cell_type": "code",
   "execution_count": 25,
   "metadata": {},
   "outputs": [
    {
     "data": {
      "text/plain": [
       "(17981, 15)"
      ]
     },
     "execution_count": 25,
     "metadata": {},
     "output_type": "execute_result"
    }
   ],
   "source": [
    "hits_with_noise = hits[hits['particle_id'] == 0]\n",
    "hits_with_noise.shape"
   ]
  },
  {
   "cell_type": "code",
   "execution_count": 26,
   "metadata": {},
   "outputs": [
    {
     "data": {
      "text/html": [
       "<div>\n",
       "<style scoped>\n",
       "    .dataframe tbody tr th:only-of-type {\n",
       "        vertical-align: middle;\n",
       "    }\n",
       "\n",
       "    .dataframe tbody tr th {\n",
       "        vertical-align: top;\n",
       "    }\n",
       "\n",
       "    .dataframe thead th {\n",
       "        text-align: right;\n",
       "    }\n",
       "</style>\n",
       "<table border=\"1\" class=\"dataframe\">\n",
       "  <thead>\n",
       "    <tr style=\"text-align: right;\">\n",
       "      <th></th>\n",
       "      <th>hit_id</th>\n",
       "      <th>x</th>\n",
       "      <th>y</th>\n",
       "      <th>z</th>\n",
       "      <th>volume_id</th>\n",
       "      <th>layer_id</th>\n",
       "      <th>module_id</th>\n",
       "      <th>particle_id</th>\n",
       "      <th>tx</th>\n",
       "      <th>ty</th>\n",
       "      <th>tz</th>\n",
       "      <th>tpx</th>\n",
       "      <th>tpy</th>\n",
       "      <th>tpz</th>\n",
       "      <th>weight</th>\n",
       "    </tr>\n",
       "  </thead>\n",
       "  <tbody>\n",
       "    <tr>\n",
       "      <th>4</th>\n",
       "      <td>5</td>\n",
       "      <td>-90.476799</td>\n",
       "      <td>-14.19560</td>\n",
       "      <td>-1502.5</td>\n",
       "      <td>7</td>\n",
       "      <td>2</td>\n",
       "      <td>1</td>\n",
       "      <td>0</td>\n",
       "      <td>-90.478897</td>\n",
       "      <td>-14.19510</td>\n",
       "      <td>-1502.5</td>\n",
       "      <td>-605192.000000</td>\n",
       "      <td>-319191.000000</td>\n",
       "      <td>-729287.0</td>\n",
       "      <td>0.0</td>\n",
       "    </tr>\n",
       "    <tr>\n",
       "      <th>12</th>\n",
       "      <td>13</td>\n",
       "      <td>-175.481995</td>\n",
       "      <td>-11.73980</td>\n",
       "      <td>-1502.0</td>\n",
       "      <td>7</td>\n",
       "      <td>2</td>\n",
       "      <td>2</td>\n",
       "      <td>0</td>\n",
       "      <td>-175.475006</td>\n",
       "      <td>-11.73800</td>\n",
       "      <td>-1502.0</td>\n",
       "      <td>-712801.000000</td>\n",
       "      <td>-141456.000000</td>\n",
       "      <td>-686953.0</td>\n",
       "      <td>0.0</td>\n",
       "    </tr>\n",
       "    <tr>\n",
       "      <th>17</th>\n",
       "      <td>18</td>\n",
       "      <td>-160.253998</td>\n",
       "      <td>-7.88448</td>\n",
       "      <td>-1502.0</td>\n",
       "      <td>7</td>\n",
       "      <td>2</td>\n",
       "      <td>2</td>\n",
       "      <td>0</td>\n",
       "      <td>-160.263000</td>\n",
       "      <td>-7.88796</td>\n",
       "      <td>-1502.0</td>\n",
       "      <td>72055.101562</td>\n",
       "      <td>-10575.299805</td>\n",
       "      <td>-997345.0</td>\n",
       "      <td>0.0</td>\n",
       "    </tr>\n",
       "    <tr>\n",
       "      <th>25</th>\n",
       "      <td>26</td>\n",
       "      <td>-107.153999</td>\n",
       "      <td>-11.62250</td>\n",
       "      <td>-1498.0</td>\n",
       "      <td>7</td>\n",
       "      <td>2</td>\n",
       "      <td>3</td>\n",
       "      <td>0</td>\n",
       "      <td>-107.153999</td>\n",
       "      <td>-11.61800</td>\n",
       "      <td>-1498.0</td>\n",
       "      <td>294730.000000</td>\n",
       "      <td>125584.000000</td>\n",
       "      <td>-947292.0</td>\n",
       "      <td>0.0</td>\n",
       "    </tr>\n",
       "    <tr>\n",
       "      <th>41</th>\n",
       "      <td>42</td>\n",
       "      <td>-49.432598</td>\n",
       "      <td>-11.50780</td>\n",
       "      <td>-1498.0</td>\n",
       "      <td>7</td>\n",
       "      <td>2</td>\n",
       "      <td>4</td>\n",
       "      <td>0</td>\n",
       "      <td>-49.436001</td>\n",
       "      <td>-11.51160</td>\n",
       "      <td>-1498.0</td>\n",
       "      <td>151245.000000</td>\n",
       "      <td>171064.000000</td>\n",
       "      <td>-973582.0</td>\n",
       "      <td>0.0</td>\n",
       "    </tr>\n",
       "  </tbody>\n",
       "</table>\n",
       "</div>"
      ],
      "text/plain": [
       "    hit_id           x         y       z  volume_id  layer_id  module_id  \\\n",
       "4        5  -90.476799 -14.19560 -1502.5          7         2          1   \n",
       "12      13 -175.481995 -11.73980 -1502.0          7         2          2   \n",
       "17      18 -160.253998  -7.88448 -1502.0          7         2          2   \n",
       "25      26 -107.153999 -11.62250 -1498.0          7         2          3   \n",
       "41      42  -49.432598 -11.50780 -1498.0          7         2          4   \n",
       "\n",
       "    particle_id          tx        ty      tz            tpx            tpy  \\\n",
       "4             0  -90.478897 -14.19510 -1502.5 -605192.000000 -319191.000000   \n",
       "12            0 -175.475006 -11.73800 -1502.0 -712801.000000 -141456.000000   \n",
       "17            0 -160.263000  -7.88796 -1502.0   72055.101562  -10575.299805   \n",
       "25            0 -107.153999 -11.61800 -1498.0  294730.000000  125584.000000   \n",
       "41            0  -49.436001 -11.51160 -1498.0  151245.000000  171064.000000   \n",
       "\n",
       "         tpz  weight  \n",
       "4  -729287.0     0.0  \n",
       "12 -686953.0     0.0  \n",
       "17 -997345.0     0.0  \n",
       "25 -947292.0     0.0  \n",
       "41 -973582.0     0.0  "
      ]
     },
     "execution_count": 26,
     "metadata": {},
     "output_type": "execute_result"
    }
   ],
   "source": [
    "hits_with_noise.head()"
   ]
  },
  {
   "cell_type": "code",
   "execution_count": 27,
   "metadata": {},
   "outputs": [],
   "source": [
    "tpx = hits_with_noise.tpx\n",
    "tpy = hits_with_noise.tpy\n",
    "tpt = np.sqrt(tpx**2 + tpy**2)\n",
    "hits_with_noise = hits_with_noise.assign(tpt=tpt)"
   ]
  },
  {
   "cell_type": "code",
   "execution_count": 28,
   "metadata": {},
   "outputs": [
    {
     "data": {
      "text/html": [
       "<div>\n",
       "<style scoped>\n",
       "    .dataframe tbody tr th:only-of-type {\n",
       "        vertical-align: middle;\n",
       "    }\n",
       "\n",
       "    .dataframe tbody tr th {\n",
       "        vertical-align: top;\n",
       "    }\n",
       "\n",
       "    .dataframe thead th {\n",
       "        text-align: right;\n",
       "    }\n",
       "</style>\n",
       "<table border=\"1\" class=\"dataframe\">\n",
       "  <thead>\n",
       "    <tr style=\"text-align: right;\">\n",
       "      <th></th>\n",
       "      <th>hit_id</th>\n",
       "      <th>x</th>\n",
       "      <th>y</th>\n",
       "      <th>z</th>\n",
       "      <th>volume_id</th>\n",
       "      <th>layer_id</th>\n",
       "      <th>module_id</th>\n",
       "      <th>particle_id</th>\n",
       "      <th>tx</th>\n",
       "      <th>ty</th>\n",
       "      <th>tz</th>\n",
       "      <th>tpx</th>\n",
       "      <th>tpy</th>\n",
       "      <th>tpz</th>\n",
       "      <th>weight</th>\n",
       "      <th>tpt</th>\n",
       "    </tr>\n",
       "  </thead>\n",
       "  <tbody>\n",
       "    <tr>\n",
       "      <th>count</th>\n",
       "      <td>17981.000000</td>\n",
       "      <td>17981.000000</td>\n",
       "      <td>17981.000000</td>\n",
       "      <td>17981.000000</td>\n",
       "      <td>17981.000000</td>\n",
       "      <td>17981.000000</td>\n",
       "      <td>17981.000000</td>\n",
       "      <td>17981.0</td>\n",
       "      <td>17981.000000</td>\n",
       "      <td>17981.000000</td>\n",
       "      <td>17981.000000</td>\n",
       "      <td>17981.000000</td>\n",
       "      <td>17981.000000</td>\n",
       "      <td>17981.000000</td>\n",
       "      <td>17981.0</td>\n",
       "      <td>1.798100e+04</td>\n",
       "    </tr>\n",
       "    <tr>\n",
       "      <th>mean</th>\n",
       "      <td>80274.559035</td>\n",
       "      <td>-0.540786</td>\n",
       "      <td>-3.569317</td>\n",
       "      <td>0.123575</td>\n",
       "      <td>13.449919</td>\n",
       "      <td>5.429175</td>\n",
       "      <td>758.874701</td>\n",
       "      <td>0.0</td>\n",
       "      <td>-0.542579</td>\n",
       "      <td>-3.571928</td>\n",
       "      <td>0.144708</td>\n",
       "      <td>925.832031</td>\n",
       "      <td>-4909.362793</td>\n",
       "      <td>155.381348</td>\n",
       "      <td>0.0</td>\n",
       "      <td>6.323655e+05</td>\n",
       "    </tr>\n",
       "    <tr>\n",
       "      <th>std</th>\n",
       "      <td>28978.741168</td>\n",
       "      <td>468.733704</td>\n",
       "      <td>466.668091</td>\n",
       "      <td>1064.204956</td>\n",
       "      <td>3.363318</td>\n",
       "      <td>2.888482</td>\n",
       "      <td>780.108455</td>\n",
       "      <td>0.0</td>\n",
       "      <td>468.715485</td>\n",
       "      <td>466.671387</td>\n",
       "      <td>1064.201538</td>\n",
       "      <td>496425.687500</td>\n",
       "      <td>489968.843750</td>\n",
       "      <td>716604.125000</td>\n",
       "      <td>0.0</td>\n",
       "      <td>2.943186e+05</td>\n",
       "    </tr>\n",
       "    <tr>\n",
       "      <th>min</th>\n",
       "      <td>5.000000</td>\n",
       "      <td>-1024.280029</td>\n",
       "      <td>-1025.170044</td>\n",
       "      <td>-2955.500000</td>\n",
       "      <td>7.000000</td>\n",
       "      <td>2.000000</td>\n",
       "      <td>1.000000</td>\n",
       "      <td>0.0</td>\n",
       "      <td>-1024.280029</td>\n",
       "      <td>-1025.170044</td>\n",
       "      <td>-2955.500000</td>\n",
       "      <td>-999889.000000</td>\n",
       "      <td>-999427.000000</td>\n",
       "      <td>-1000000.000000</td>\n",
       "      <td>0.0</td>\n",
       "      <td>7.221105e+01</td>\n",
       "    </tr>\n",
       "    <tr>\n",
       "      <th>25%</th>\n",
       "      <td>64379.000000</td>\n",
       "      <td>-303.970001</td>\n",
       "      <td>-305.723999</td>\n",
       "      <td>-623.400024</td>\n",
       "      <td>12.000000</td>\n",
       "      <td>4.000000</td>\n",
       "      <td>96.000000</td>\n",
       "      <td>0.0</td>\n",
       "      <td>-303.953003</td>\n",
       "      <td>-305.713013</td>\n",
       "      <td>-625.870972</td>\n",
       "      <td>-360422.000000</td>\n",
       "      <td>-358939.000000</td>\n",
       "      <td>-727708.000000</td>\n",
       "      <td>0.0</td>\n",
       "      <td>3.822332e+05</td>\n",
       "    </tr>\n",
       "    <tr>\n",
       "      <th>50%</th>\n",
       "      <td>87700.000000</td>\n",
       "      <td>-1.146870</td>\n",
       "      <td>-4.361710</td>\n",
       "      <td>-5.096170</td>\n",
       "      <td>13.000000</td>\n",
       "      <td>4.000000</td>\n",
       "      <td>499.000000</td>\n",
       "      <td>0.0</td>\n",
       "      <td>-1.147760</td>\n",
       "      <td>-4.362890</td>\n",
       "      <td>-3.561310</td>\n",
       "      <td>1769.390015</td>\n",
       "      <td>-4065.520020</td>\n",
       "      <td>855.784973</td>\n",
       "      <td>0.0</td>\n",
       "      <td>6.851878e+05</td>\n",
       "    </tr>\n",
       "    <tr>\n",
       "      <th>75%</th>\n",
       "      <td>104625.000000</td>\n",
       "      <td>305.928986</td>\n",
       "      <td>297.334991</td>\n",
       "      <td>634.200012</td>\n",
       "      <td>17.000000</td>\n",
       "      <td>8.000000</td>\n",
       "      <td>1198.000000</td>\n",
       "      <td>0.0</td>\n",
       "      <td>305.917999</td>\n",
       "      <td>297.229004</td>\n",
       "      <td>633.414001</td>\n",
       "      <td>355648.000000</td>\n",
       "      <td>344786.000000</td>\n",
       "      <td>728940.000000</td>\n",
       "      <td>0.0</td>\n",
       "      <td>9.107042e+05</td>\n",
       "    </tr>\n",
       "    <tr>\n",
       "      <th>max</th>\n",
       "      <td>113785.000000</td>\n",
       "      <td>1024.760010</td>\n",
       "      <td>1024.180054</td>\n",
       "      <td>2955.500000</td>\n",
       "      <td>18.000000</td>\n",
       "      <td>14.000000</td>\n",
       "      <td>3189.000000</td>\n",
       "      <td>0.0</td>\n",
       "      <td>1024.750000</td>\n",
       "      <td>1024.180054</td>\n",
       "      <td>2955.500000</td>\n",
       "      <td>999899.000000</td>\n",
       "      <td>999801.000000</td>\n",
       "      <td>1000000.000000</td>\n",
       "      <td>0.0</td>\n",
       "      <td>1.000000e+06</td>\n",
       "    </tr>\n",
       "  </tbody>\n",
       "</table>\n",
       "</div>"
      ],
      "text/plain": [
       "              hit_id             x             y             z     volume_id  \\\n",
       "count   17981.000000  17981.000000  17981.000000  17981.000000  17981.000000   \n",
       "mean    80274.559035     -0.540786     -3.569317      0.123575     13.449919   \n",
       "std     28978.741168    468.733704    466.668091   1064.204956      3.363318   \n",
       "min         5.000000  -1024.280029  -1025.170044  -2955.500000      7.000000   \n",
       "25%     64379.000000   -303.970001   -305.723999   -623.400024     12.000000   \n",
       "50%     87700.000000     -1.146870     -4.361710     -5.096170     13.000000   \n",
       "75%    104625.000000    305.928986    297.334991    634.200012     17.000000   \n",
       "max    113785.000000   1024.760010   1024.180054   2955.500000     18.000000   \n",
       "\n",
       "           layer_id     module_id  particle_id            tx            ty  \\\n",
       "count  17981.000000  17981.000000      17981.0  17981.000000  17981.000000   \n",
       "mean       5.429175    758.874701          0.0     -0.542579     -3.571928   \n",
       "std        2.888482    780.108455          0.0    468.715485    466.671387   \n",
       "min        2.000000      1.000000          0.0  -1024.280029  -1025.170044   \n",
       "25%        4.000000     96.000000          0.0   -303.953003   -305.713013   \n",
       "50%        4.000000    499.000000          0.0     -1.147760     -4.362890   \n",
       "75%        8.000000   1198.000000          0.0    305.917999    297.229004   \n",
       "max       14.000000   3189.000000          0.0   1024.750000   1024.180054   \n",
       "\n",
       "                 tz            tpx            tpy             tpz   weight  \\\n",
       "count  17981.000000   17981.000000   17981.000000    17981.000000  17981.0   \n",
       "mean       0.144708     925.832031   -4909.362793      155.381348      0.0   \n",
       "std     1064.201538  496425.687500  489968.843750   716604.125000      0.0   \n",
       "min    -2955.500000 -999889.000000 -999427.000000 -1000000.000000      0.0   \n",
       "25%     -625.870972 -360422.000000 -358939.000000  -727708.000000      0.0   \n",
       "50%       -3.561310    1769.390015   -4065.520020      855.784973      0.0   \n",
       "75%      633.414001  355648.000000  344786.000000   728940.000000      0.0   \n",
       "max     2955.500000  999899.000000  999801.000000  1000000.000000      0.0   \n",
       "\n",
       "                tpt  \n",
       "count  1.798100e+04  \n",
       "mean   6.323655e+05  \n",
       "std    2.943186e+05  \n",
       "min    7.221105e+01  \n",
       "25%    3.822332e+05  \n",
       "50%    6.851878e+05  \n",
       "75%    9.107042e+05  \n",
       "max    1.000000e+06  "
      ]
     },
     "execution_count": 28,
     "metadata": {},
     "output_type": "execute_result"
    }
   ],
   "source": [
    "hits_with_noise.describe()"
   ]
  },
  {
   "cell_type": "markdown",
   "metadata": {},
   "source": [
    "pT distribution of noise hits"
   ]
  },
  {
   "cell_type": "code",
   "execution_count": 29,
   "metadata": {},
   "outputs": [
    {
     "data": {
      "image/png": "[encoded data removed]",
      "text/plain": [
       "<Figure size 432x288 with 1 Axes>"
      ]
     },
     "metadata": {
      "needs_background": "light"
     },
     "output_type": "display_data"
    }
   ],
   "source": [
    "fig, ax = plt.subplots()\n",
    "vals, bins, _ = ax.hist(hits_with_noise['tpt'], histtype='step', lw=2, label='noise', log=True)"
   ]
  },
  {
   "cell_type": "code",
   "execution_count": 30,
   "metadata": {},
   "outputs": [
    {
     "data": {
      "text/plain": [
       "(95687, 24)"
      ]
     },
     "execution_count": 30,
     "metadata": {},
     "output_type": "execute_result"
    }
   ],
   "source": [
    "hits_no_noise = hits_no_noise.merge(particles, on='particle_id')\n",
    "hits_no_noise.shape"
   ]
  },
  {
   "cell_type": "code",
   "execution_count": 31,
   "metadata": {},
   "outputs": [],
   "source": [
    "import matplotlib.pyplot as plt"
   ]
  },
  {
   "cell_type": "markdown",
   "metadata": {},
   "source": [
    "pT distribution of particles in this event"
   ]
  },
  {
   "cell_type": "code",
   "execution_count": 32,
   "metadata": {},
   "outputs": [
    {
     "data": {
      "image/png": "[encoded data removed]",
      "text/plain": [
       "<Figure size 432x288 with 1 Axes>"
      ]
     },
     "metadata": {
      "needs_background": "light"
     },
     "output_type": "display_data"
    }
   ],
   "source": [
    "fig, ax = plt.subplots()\n",
    "bins = np.linspace(0, 5, 51)\n",
    "tot_vals, bins, _ = ax.hist(particles['pt'], bins=bins, histtype='step', lw=2, label='no-noise', log=True)"
   ]
  },
  {
   "cell_type": "markdown",
   "metadata": {},
   "source": [
    "## Seletect hits at barrel layers"
   ]
  },
  {
   "cell_type": "code",
   "execution_count": 33,
   "metadata": {},
   "outputs": [],
   "source": [
    "vlids = [(8,2), (8,4), (8,6), (8,8),\n",
    "         (13,2), (13,4), (13,6), (13,8),\n",
    "         (17,2), (17,4)]\n",
    "n_det_layers = len(vlids)\n",
    "\n",
    "# Select barrel layers and assign convenient layer number [0-9]\n",
    "vlid_groups = hits_no_noise.groupby(['volume_id', 'layer_id'])\n",
    "hits_barrel = pd.concat([vlid_groups.get_group(vlids[i]).assign(layer=i)\n",
    "                  for i in range(n_det_layers)])"
   ]
  },
  {
   "cell_type": "code",
   "execution_count": 34,
   "metadata": {},
   "outputs": [
    {
     "data": {
      "text/plain": [
       "(47989, 25)"
      ]
     },
     "execution_count": 34,
     "metadata": {},
     "output_type": "execute_result"
    }
   ],
   "source": [
    "hits_barrel.shape"
   ]
  },
  {
   "cell_type": "code",
   "execution_count": 35,
   "metadata": {},
   "outputs": [
    {
     "data": {
      "text/html": [
       "<div>\n",
       "<style scoped>\n",
       "    .dataframe tbody tr th:only-of-type {\n",
       "        vertical-align: middle;\n",
       "    }\n",
       "\n",
       "    .dataframe tbody tr th {\n",
       "        vertical-align: top;\n",
       "    }\n",
       "\n",
       "    .dataframe thead th {\n",
       "        text-align: right;\n",
       "    }\n",
       "</style>\n",
       "<table border=\"1\" class=\"dataframe\">\n",
       "  <thead>\n",
       "    <tr style=\"text-align: right;\">\n",
       "      <th></th>\n",
       "      <th>hit_id</th>\n",
       "      <th>x</th>\n",
       "      <th>y</th>\n",
       "      <th>z</th>\n",
       "      <th>volume_id</th>\n",
       "      <th>layer_id</th>\n",
       "      <th>module_id</th>\n",
       "      <th>particle_id</th>\n",
       "      <th>tx</th>\n",
       "      <th>ty</th>\n",
       "      <th>...</th>\n",
       "      <th>vx</th>\n",
       "      <th>vy</th>\n",
       "      <th>vz</th>\n",
       "      <th>px</th>\n",
       "      <th>py</th>\n",
       "      <th>pz</th>\n",
       "      <th>q</th>\n",
       "      <th>nhits</th>\n",
       "      <th>pt</th>\n",
       "      <th>layer</th>\n",
       "    </tr>\n",
       "  </thead>\n",
       "  <tbody>\n",
       "    <tr>\n",
       "      <th>211</th>\n",
       "      <td>16181</td>\n",
       "      <td>-31.937000</td>\n",
       "      <td>0.854461</td>\n",
       "      <td>-311.917999</td>\n",
       "      <td>8</td>\n",
       "      <td>2</td>\n",
       "      <td>48</td>\n",
       "      <td>418837307966095360</td>\n",
       "      <td>-31.937799</td>\n",
       "      <td>0.84008</td>\n",
       "      <td>...</td>\n",
       "      <td>0.001866</td>\n",
       "      <td>-0.010319</td>\n",
       "      <td>-1.984870</td>\n",
       "      <td>-0.321843</td>\n",
       "      <td>0.018488</td>\n",
       "      <td>-3.12345</td>\n",
       "      <td>-1</td>\n",
       "      <td>13</td>\n",
       "      <td>0.322374</td>\n",
       "      <td>0</td>\n",
       "    </tr>\n",
       "    <tr>\n",
       "      <th>250</th>\n",
       "      <td>16588</td>\n",
       "      <td>-31.398800</td>\n",
       "      <td>1.605670</td>\n",
       "      <td>-271.118011</td>\n",
       "      <td>8</td>\n",
       "      <td>2</td>\n",
       "      <td>64</td>\n",
       "      <td>211690073207341056</td>\n",
       "      <td>-31.399300</td>\n",
       "      <td>1.59701</td>\n",
       "      <td>...</td>\n",
       "      <td>0.018914</td>\n",
       "      <td>0.003020</td>\n",
       "      <td>-0.489561</td>\n",
       "      <td>-0.670819</td>\n",
       "      <td>0.043316</td>\n",
       "      <td>-5.78108</td>\n",
       "      <td>-1</td>\n",
       "      <td>15</td>\n",
       "      <td>0.672216</td>\n",
       "      <td>0</td>\n",
       "    </tr>\n",
       "    <tr>\n",
       "      <th>278</th>\n",
       "      <td>15959</td>\n",
       "      <td>-31.528601</td>\n",
       "      <td>8.095710</td>\n",
       "      <td>-488.497009</td>\n",
       "      <td>8</td>\n",
       "      <td>2</td>\n",
       "      <td>16</td>\n",
       "      <td>171140359252869120</td>\n",
       "      <td>-31.528799</td>\n",
       "      <td>8.09068</td>\n",
       "      <td>...</td>\n",
       "      <td>-12.166900</td>\n",
       "      <td>11.274100</td>\n",
       "      <td>-311.657990</td>\n",
       "      <td>-0.249725</td>\n",
       "      <td>-0.035172</td>\n",
       "      <td>-2.26913</td>\n",
       "      <td>-1</td>\n",
       "      <td>15</td>\n",
       "      <td>0.252190</td>\n",
       "      <td>0</td>\n",
       "    </tr>\n",
       "    <tr>\n",
       "      <th>485</th>\n",
       "      <td>16011</td>\n",
       "      <td>-30.985100</td>\n",
       "      <td>-8.137190</td>\n",
       "      <td>-311.738007</td>\n",
       "      <td>8</td>\n",
       "      <td>2</td>\n",
       "      <td>33</td>\n",
       "      <td>103589732096671744</td>\n",
       "      <td>-30.986601</td>\n",
       "      <td>-8.13293</td>\n",
       "      <td>...</td>\n",
       "      <td>0.005339</td>\n",
       "      <td>0.005712</td>\n",
       "      <td>-0.453590</td>\n",
       "      <td>-0.586576</td>\n",
       "      <td>-0.163658</td>\n",
       "      <td>-5.91685</td>\n",
       "      <td>1</td>\n",
       "      <td>10</td>\n",
       "      <td>0.608979</td>\n",
       "      <td>0</td>\n",
       "    </tr>\n",
       "    <tr>\n",
       "      <th>539</th>\n",
       "      <td>16200</td>\n",
       "      <td>-30.657700</td>\n",
       "      <td>-7.573420</td>\n",
       "      <td>-263.018005</td>\n",
       "      <td>8</td>\n",
       "      <td>2</td>\n",
       "      <td>49</td>\n",
       "      <td>517919111108362240</td>\n",
       "      <td>-30.658199</td>\n",
       "      <td>-7.57199</td>\n",
       "      <td>...</td>\n",
       "      <td>-0.007501</td>\n",
       "      <td>0.015426</td>\n",
       "      <td>10.662300</td>\n",
       "      <td>-1.357800</td>\n",
       "      <td>-0.345717</td>\n",
       "      <td>-12.14450</td>\n",
       "      <td>1</td>\n",
       "      <td>11</td>\n",
       "      <td>1.401121</td>\n",
       "      <td>0</td>\n",
       "    </tr>\n",
       "  </tbody>\n",
       "</table>\n",
       "<p>5 rows × 25 columns</p>\n",
       "</div>"
      ],
      "text/plain": [
       "     hit_id          x         y           z  volume_id  layer_id  module_id  \\\n",
       "211   16181 -31.937000  0.854461 -311.917999          8         2         48   \n",
       "250   16588 -31.398800  1.605670 -271.118011          8         2         64   \n",
       "278   15959 -31.528601  8.095710 -488.497009          8         2         16   \n",
       "485   16011 -30.985100 -8.137190 -311.738007          8         2         33   \n",
       "539   16200 -30.657700 -7.573420 -263.018005          8         2         49   \n",
       "\n",
       "            particle_id         tx       ty  ...           vx         vy  \\\n",
       "211  418837307966095360 -31.937799  0.84008  ...     0.001866  -0.010319   \n",
       "250  211690073207341056 -31.399300  1.59701  ...     0.018914   0.003020   \n",
       "278  171140359252869120 -31.528799  8.09068  ...   -12.166900  11.274100   \n",
       "485  103589732096671744 -30.986601 -8.13293  ...     0.005339   0.005712   \n",
       "539  517919111108362240 -30.658199 -7.57199  ...    -0.007501   0.015426   \n",
       "\n",
       "             vz        px        py        pz  q  nhits        pt  layer  \n",
       "211   -1.984870 -0.321843  0.018488  -3.12345 -1     13  0.322374      0  \n",
       "250   -0.489561 -0.670819  0.043316  -5.78108 -1     15  0.672216      0  \n",
       "278 -311.657990 -0.249725 -0.035172  -2.26913 -1     15  0.252190      0  \n",
       "485   -0.453590 -0.586576 -0.163658  -5.91685  1     10  0.608979      0  \n",
       "539   10.662300 -1.357800 -0.345717 -12.14450  1     11  1.401121      0  \n",
       "\n",
       "[5 rows x 25 columns]"
      ]
     },
     "execution_count": 35,
     "metadata": {},
     "output_type": "execute_result"
    }
   ],
   "source": [
    "hits_barrel.head()"
   ]
  },
  {
   "cell_type": "code",
   "execution_count": 36,
   "metadata": {},
   "outputs": [
    {
     "name": "stdout",
     "output_type": "stream",
     "text": [
      "7492 0.671\n"
     ]
    }
   ],
   "source": [
    "barrel_particles = np.unique(hits_barrel['particle_id'])\n",
    "tot_barrel_particles = len(barrel_particles)\n",
    "print(tot_barrel_particles, \"{:.3f}\".format(tot_barrel_particles/tot_particles))"
   ]
  },
  {
   "cell_type": "code",
   "execution_count": 52,
   "metadata": {},
   "outputs": [],
   "source": [
    "np.savez(\"hello.npz\", barrel_particles)"
   ]
  },
  {
   "cell_type": "code",
   "execution_count": 53,
   "metadata": {},
   "outputs": [],
   "source": [
    "np.savez(\"hello_pt.npz\", particles.pt.values)"
   ]
  },
  {
   "cell_type": "code",
   "execution_count": 42,
   "metadata": {},
   "outputs": [
    {
     "data": {
      "image/png": "[encoded data removed]",
      "text/plain": [
       "<Figure size 576x576 with 1 Axes>"
      ]
     },
     "metadata": {
      "needs_background": "light"
     },
     "output_type": "display_data"
    }
   ],
   "source": [
    "fontsize=16\n",
    "minor_size=14\n",
    "fig, ax = plt.subplots(figsize=(8, 8), constrained_layout=True)\n",
    "bins = [-0.1, 0.1, 0.3, 0.5, 0.7, 0.9, 1.1, 1.5, 1.9, 2.4, 5]\n",
    "hist_configs = {\n",
    "    'bins': bins,\n",
    "    'histtype': 'step',\n",
    "    'lw': 2,\n",
    "    'log': True\n",
    "}\n",
    "\n",
    "bb_vals, bins, _ = plt.hist(particles[particles.particle_id.isin(barrel_particles)]['pt'], **hist_configs, label='barrel')"
   ]
  },
  {
   "cell_type": "code",
   "execution_count": 48,
   "metadata": {},
   "outputs": [
    {
     "data": {
      "text/plain": [
       "array([    0.,  2487.,  2092.,  1133.,   626.,   343.,   374.,   207.,\n",
       "         110.,   104.])"
      ]
     },
     "execution_count": 48,
     "metadata": {},
     "output_type": "execute_result"
    }
   ],
   "source": [
    "bb_vals"
   ]
  },
  {
   "cell_type": "code",
   "execution_count": 44,
   "metadata": {},
   "outputs": [
    {
     "data": {
      "text/plain": [
       "array([-0.1,  0.1,  0.3,  0.5,  0.7,  0.9,  1.1,  1.5,  1.9,  2.4,  5. ])"
      ]
     },
     "execution_count": 44,
     "metadata": {},
     "output_type": "execute_result"
    }
   ],
   "source": [
    "bins"
   ]
  },
  {
   "cell_type": "code",
   "execution_count": 46,
   "metadata": {},
   "outputs": [
    {
     "data": {
      "text/plain": [
       "<a list of 1 Patch objects>"
      ]
     },
     "execution_count": 46,
     "metadata": {},
     "output_type": "execute_result"
    }
   ],
   "source": [
    "_"
   ]
  },
  {
   "cell_type": "code",
   "execution_count": 51,
   "metadata": {},
   "outputs": [
    {
     "name": "stderr",
     "output_type": "stream",
     "text": [
      "/global/common/cori/software/python/3.6-anaconda-5.2/lib/python3.6/site-packages/ipykernel_launcher.py:1: RuntimeWarning: overflow encountered in long_scalars\n",
      "  \"\"\"Entry point for launching an IPython kernel.\n"
     ]
    },
    {
     "data": {
      "text/plain": [
       "7714113270454720522"
      ]
     },
     "execution_count": 51,
     "metadata": {},
     "output_type": "execute_result"
    }
   ],
   "source": [
    "sum(barrel_particles)"
   ]
  },
  {
   "cell_type": "code",
   "execution_count": null,
   "metadata": {},
   "outputs": [],
   "source": []
  },
  {
   "cell_type": "code",
   "execution_count": 37,
   "metadata": {},
   "outputs": [
    {
     "data": {
      "text/plain": [
       "array([4503668346847232, 4503805785800704, 4503874505277440,\n",
       "       4503943224754176, 4504011944230912, 4504286822137856,\n",
       "       4504355541614592, 4504424261091328, 4504561700044800,\n",
       "       4504630419521536])"
      ]
     },
     "execution_count": 37,
     "metadata": {},
     "output_type": "execute_result"
    }
   ],
   "source": [
    "barrel_particles[:10]"
   ]
  },
  {
   "cell_type": "code",
   "execution_count": 35,
   "metadata": {},
   "outputs": [],
   "source": [
    "n_particles = [0]*10 # 100%, 70%, 50%, >3 hits, =1, =2, =3\n",
    "dict_pp = {\"not-l0\": []}\n",
    "for pid in barrel_particles:\n",
    "    hits_selected = hits_barrel[hits_barrel['particle_id'] == pid]\n",
    "    hits_in_particles = truth[truth['particle_id'] == pid]\n",
    "    if hits_in_particles.shape[0] == hits_selected.shape[0]:\n",
    "        n_particles[0] += 1\n",
    "    \n",
    "    if hits_selected.shape[0] > 0.7 * hits_in_particles.shape[0]:\n",
    "        n_particles[1] += 1\n",
    "    \n",
    "    if hits_selected.shape[0] > 0.5 * hits_in_particles.shape[0]:\n",
    "        n_particles[2] += 1\n",
    "    \n",
    "    if hits_selected.shape[0] > 3:\n",
    "        n_particles[3] += 1\n",
    "        \n",
    "    if hits_selected.shape[0] == 3:\n",
    "        n_particles[4] += 1\n",
    "    if hits_selected.shape[0] == 2:\n",
    "        n_particles[5] += 1\n",
    "    if hits_selected.shape[0] == 1:\n",
    "        n_particles[6] += 1\n",
    "        \n",
    "    if 0 not in hits_selected['layer'].values:\n",
    "        n_particles[7] += 1\n",
    "        dict_pp['not-l0'].append(pid)\n",
    "        \n",
    "    if 1 not in hits_selected['layer'].values:\n",
    "        n_particles[8] += 1"
   ]
  },
  {
   "cell_type": "code",
   "execution_count": 36,
   "metadata": {},
   "outputs": [
    {
     "name": "stdout",
     "output_type": "stream",
     "text": [
      "100%\t 3227\n",
      "70%\t 4460\n",
      "50%\t 5223\n",
      "> 3\t 5152\n",
      "= 1\t 538\n",
      "= 2\t 873\n",
      "= 3\t 929\n",
      "not l0\t 1394\n",
      "not l1\t 2033\n"
     ]
    }
   ],
   "source": [
    "cuts = ['100%', '70%', '50%', '> 3', '= 1', '= 2', '= 3', 'not l0', 'not l1']\n",
    "for ii, nn in enumerate(cuts):\n",
    "    print(\"{}\\t {}\".format(nn, n_particles[ii]))"
   ]
  },
  {
   "cell_type": "code",
   "execution_count": 37,
   "metadata": {},
   "outputs": [
    {
     "data": {
      "text/plain": [
       "['0.289',\n",
       " '0.399',\n",
       " '0.468',\n",
       " '0.461',\n",
       " '0.048',\n",
       " '0.078',\n",
       " '0.083',\n",
       " '0.125',\n",
       " '0.182',\n",
       " '0.000']"
      ]
     },
     "execution_count": 37,
     "metadata": {},
     "output_type": "execute_result"
    }
   ],
   "source": [
    "[\"{:.3f}\".format(x/tot_particles) for x in n_particles]"
   ]
  },
  {
   "cell_type": "code",
   "execution_count": 38,
   "metadata": {},
   "outputs": [
    {
     "data": {
      "text/html": [
       "<div>\n",
       "<style scoped>\n",
       "    .dataframe tbody tr th:only-of-type {\n",
       "        vertical-align: middle;\n",
       "    }\n",
       "\n",
       "    .dataframe tbody tr th {\n",
       "        vertical-align: top;\n",
       "    }\n",
       "\n",
       "    .dataframe thead th {\n",
       "        text-align: right;\n",
       "    }\n",
       "</style>\n",
       "<table border=\"1\" class=\"dataframe\">\n",
       "  <thead>\n",
       "    <tr style=\"text-align: right;\">\n",
       "      <th></th>\n",
       "      <th>hit_id</th>\n",
       "      <th>x</th>\n",
       "      <th>y</th>\n",
       "      <th>z</th>\n",
       "      <th>volume_id</th>\n",
       "      <th>layer_id</th>\n",
       "      <th>module_id</th>\n",
       "      <th>particle_id</th>\n",
       "      <th>tx</th>\n",
       "      <th>ty</th>\n",
       "      <th>...</th>\n",
       "      <th>vx</th>\n",
       "      <th>vy</th>\n",
       "      <th>vz</th>\n",
       "      <th>px</th>\n",
       "      <th>py</th>\n",
       "      <th>pz</th>\n",
       "      <th>q</th>\n",
       "      <th>nhits</th>\n",
       "      <th>pt</th>\n",
       "      <th>layer</th>\n",
       "    </tr>\n",
       "  </thead>\n",
       "  <tbody>\n",
       "    <tr>\n",
       "      <th>79384</th>\n",
       "      <td>71652</td>\n",
       "      <td>-259.860992</td>\n",
       "      <td>-8.876690</td>\n",
       "      <td>445.000000</td>\n",
       "      <td>13</td>\n",
       "      <td>2</td>\n",
       "      <td>561</td>\n",
       "      <td>4507035617988609</td>\n",
       "      <td>-259.859985</td>\n",
       "      <td>-8.865300</td>\n",
       "      <td>...</td>\n",
       "      <td>-67.993401</td>\n",
       "      <td>31.568300</td>\n",
       "      <td>345.247986</td>\n",
       "      <td>-0.143193</td>\n",
       "      <td>-0.088302</td>\n",
       "      <td>0.086228</td>\n",
       "      <td>1</td>\n",
       "      <td>4</td>\n",
       "      <td>0.168230</td>\n",
       "      <td>4</td>\n",
       "    </tr>\n",
       "    <tr>\n",
       "      <th>79385</th>\n",
       "      <td>78616</td>\n",
       "      <td>-356.455994</td>\n",
       "      <td>27.178400</td>\n",
       "      <td>496.399994</td>\n",
       "      <td>13</td>\n",
       "      <td>4</td>\n",
       "      <td>896</td>\n",
       "      <td>4507035617988609</td>\n",
       "      <td>-356.459015</td>\n",
       "      <td>27.167999</td>\n",
       "      <td>...</td>\n",
       "      <td>-67.993401</td>\n",
       "      <td>31.568300</td>\n",
       "      <td>345.247986</td>\n",
       "      <td>-0.143193</td>\n",
       "      <td>-0.088302</td>\n",
       "      <td>0.086228</td>\n",
       "      <td>1</td>\n",
       "      <td>4</td>\n",
       "      <td>0.168230</td>\n",
       "      <td>5</td>\n",
       "    </tr>\n",
       "    <tr>\n",
       "      <th>79383</th>\n",
       "      <td>42454</td>\n",
       "      <td>-171.878998</td>\n",
       "      <td>-8.204190</td>\n",
       "      <td>401.989014</td>\n",
       "      <td>8</td>\n",
       "      <td>8</td>\n",
       "      <td>937</td>\n",
       "      <td>4507035617988609</td>\n",
       "      <td>-171.880005</td>\n",
       "      <td>-8.198800</td>\n",
       "      <td>...</td>\n",
       "      <td>-67.993401</td>\n",
       "      <td>31.568300</td>\n",
       "      <td>345.247986</td>\n",
       "      <td>-0.143193</td>\n",
       "      <td>-0.088302</td>\n",
       "      <td>0.086228</td>\n",
       "      <td>1</td>\n",
       "      <td>4</td>\n",
       "      <td>0.168230</td>\n",
       "      <td>3</td>\n",
       "    </tr>\n",
       "    <tr>\n",
       "      <th>79382</th>\n",
       "      <td>37075</td>\n",
       "      <td>-116.106003</td>\n",
       "      <td>7.871170</td>\n",
       "      <td>372.765991</td>\n",
       "      <td>8</td>\n",
       "      <td>6</td>\n",
       "      <td>676</td>\n",
       "      <td>4507035617988609</td>\n",
       "      <td>-116.106003</td>\n",
       "      <td>7.872170</td>\n",
       "      <td>...</td>\n",
       "      <td>-67.993401</td>\n",
       "      <td>31.568300</td>\n",
       "      <td>345.247986</td>\n",
       "      <td>-0.143193</td>\n",
       "      <td>-0.088302</td>\n",
       "      <td>0.086228</td>\n",
       "      <td>1</td>\n",
       "      <td>4</td>\n",
       "      <td>0.168230</td>\n",
       "      <td>2</td>\n",
       "    </tr>\n",
       "    <tr>\n",
       "      <th>79275</th>\n",
       "      <td>42141</td>\n",
       "      <td>-170.925995</td>\n",
       "      <td>-26.903799</td>\n",
       "      <td>323.955994</td>\n",
       "      <td>8</td>\n",
       "      <td>8</td>\n",
       "      <td>861</td>\n",
       "      <td>4507035618004994</td>\n",
       "      <td>-170.923996</td>\n",
       "      <td>-26.911400</td>\n",
       "      <td>...</td>\n",
       "      <td>-67.993401</td>\n",
       "      <td>31.568300</td>\n",
       "      <td>345.247986</td>\n",
       "      <td>-0.175617</td>\n",
       "      <td>-0.138600</td>\n",
       "      <td>-0.039662</td>\n",
       "      <td>1</td>\n",
       "      <td>9</td>\n",
       "      <td>0.223721</td>\n",
       "      <td>3</td>\n",
       "    </tr>\n",
       "    <tr>\n",
       "      <th>79274</th>\n",
       "      <td>42139</td>\n",
       "      <td>-169.029999</td>\n",
       "      <td>-26.202700</td>\n",
       "      <td>324.329987</td>\n",
       "      <td>8</td>\n",
       "      <td>8</td>\n",
       "      <td>860</td>\n",
       "      <td>4507035618004994</td>\n",
       "      <td>-169.035004</td>\n",
       "      <td>-26.184200</td>\n",
       "      <td>...</td>\n",
       "      <td>-67.993401</td>\n",
       "      <td>31.568300</td>\n",
       "      <td>345.247986</td>\n",
       "      <td>-0.175617</td>\n",
       "      <td>-0.138600</td>\n",
       "      <td>-0.039662</td>\n",
       "      <td>1</td>\n",
       "      <td>9</td>\n",
       "      <td>0.223721</td>\n",
       "      <td>3</td>\n",
       "    </tr>\n",
       "    <tr>\n",
       "      <th>79277</th>\n",
       "      <td>77607</td>\n",
       "      <td>-353.656006</td>\n",
       "      <td>-47.982899</td>\n",
       "      <td>286.799988</td>\n",
       "      <td>13</td>\n",
       "      <td>4</td>\n",
       "      <td>730</td>\n",
       "      <td>4507035618004994</td>\n",
       "      <td>-353.654999</td>\n",
       "      <td>-48.009800</td>\n",
       "      <td>...</td>\n",
       "      <td>-67.993401</td>\n",
       "      <td>31.568300</td>\n",
       "      <td>345.247986</td>\n",
       "      <td>-0.175617</td>\n",
       "      <td>-0.138600</td>\n",
       "      <td>-0.039662</td>\n",
       "      <td>1</td>\n",
       "      <td>9</td>\n",
       "      <td>0.223721</td>\n",
       "      <td>5</td>\n",
       "    </tr>\n",
       "    <tr>\n",
       "      <th>79279</th>\n",
       "      <td>89064</td>\n",
       "      <td>-638.539001</td>\n",
       "      <td>175.994995</td>\n",
       "      <td>211.399994</td>\n",
       "      <td>13</td>\n",
       "      <td>8</td>\n",
       "      <td>1322</td>\n",
       "      <td>4507035618004994</td>\n",
       "      <td>-638.539978</td>\n",
       "      <td>175.992004</td>\n",
       "      <td>...</td>\n",
       "      <td>-67.993401</td>\n",
       "      <td>31.568300</td>\n",
       "      <td>345.247986</td>\n",
       "      <td>-0.175617</td>\n",
       "      <td>-0.138600</td>\n",
       "      <td>-0.039662</td>\n",
       "      <td>1</td>\n",
       "      <td>9</td>\n",
       "      <td>0.223721</td>\n",
       "      <td>7</td>\n",
       "    </tr>\n",
       "    <tr>\n",
       "      <th>79278</th>\n",
       "      <td>83608</td>\n",
       "      <td>-503.053009</td>\n",
       "      <td>10.018500</td>\n",
       "      <td>254.119995</td>\n",
       "      <td>13</td>\n",
       "      <td>6</td>\n",
       "      <td>1014</td>\n",
       "      <td>4507035618004994</td>\n",
       "      <td>-503.058990</td>\n",
       "      <td>9.987500</td>\n",
       "      <td>...</td>\n",
       "      <td>-67.993401</td>\n",
       "      <td>31.568300</td>\n",
       "      <td>345.247986</td>\n",
       "      <td>-0.175617</td>\n",
       "      <td>-0.138600</td>\n",
       "      <td>-0.039662</td>\n",
       "      <td>1</td>\n",
       "      <td>9</td>\n",
       "      <td>0.223721</td>\n",
       "      <td>6</td>\n",
       "    </tr>\n",
       "    <tr>\n",
       "      <th>79276</th>\n",
       "      <td>71236</td>\n",
       "      <td>-252.380005</td>\n",
       "      <td>-48.439301</td>\n",
       "      <td>308.399994</td>\n",
       "      <td>13</td>\n",
       "      <td>2</td>\n",
       "      <td>522</td>\n",
       "      <td>4507035618004994</td>\n",
       "      <td>-252.380005</td>\n",
       "      <td>-48.429001</td>\n",
       "      <td>...</td>\n",
       "      <td>-67.993401</td>\n",
       "      <td>31.568300</td>\n",
       "      <td>345.247986</td>\n",
       "      <td>-0.175617</td>\n",
       "      <td>-0.138600</td>\n",
       "      <td>-0.039662</td>\n",
       "      <td>1</td>\n",
       "      <td>9</td>\n",
       "      <td>0.223721</td>\n",
       "      <td>4</td>\n",
       "    </tr>\n",
       "    <tr>\n",
       "      <th>79272</th>\n",
       "      <td>36453</td>\n",
       "      <td>-116.739998</td>\n",
       "      <td>-1.077980</td>\n",
       "      <td>334.829010</td>\n",
       "      <td>8</td>\n",
       "      <td>6</td>\n",
       "      <td>573</td>\n",
       "      <td>4507035618004994</td>\n",
       "      <td>-116.738998</td>\n",
       "      <td>-1.082840</td>\n",
       "      <td>...</td>\n",
       "      <td>-67.993401</td>\n",
       "      <td>31.568300</td>\n",
       "      <td>345.247986</td>\n",
       "      <td>-0.175617</td>\n",
       "      <td>-0.138600</td>\n",
       "      <td>-0.039662</td>\n",
       "      <td>1</td>\n",
       "      <td>9</td>\n",
       "      <td>0.223721</td>\n",
       "      <td>2</td>\n",
       "    </tr>\n",
       "    <tr>\n",
       "      <th>79273</th>\n",
       "      <td>36815</td>\n",
       "      <td>-114.974998</td>\n",
       "      <td>-0.083634</td>\n",
       "      <td>335.191986</td>\n",
       "      <td>8</td>\n",
       "      <td>6</td>\n",
       "      <td>624</td>\n",
       "      <td>4507035618004994</td>\n",
       "      <td>-114.974998</td>\n",
       "      <td>-0.084399</td>\n",
       "      <td>...</td>\n",
       "      <td>-67.993401</td>\n",
       "      <td>31.568300</td>\n",
       "      <td>345.247986</td>\n",
       "      <td>-0.175617</td>\n",
       "      <td>-0.138600</td>\n",
       "      <td>-0.039662</td>\n",
       "      <td>1</td>\n",
       "      <td>9</td>\n",
       "      <td>0.223721</td>\n",
       "      <td>2</td>\n",
       "    </tr>\n",
       "    <tr>\n",
       "      <th>95481</th>\n",
       "      <td>103210</td>\n",
       "      <td>-768.526978</td>\n",
       "      <td>-288.924011</td>\n",
       "      <td>-65.199997</td>\n",
       "      <td>17</td>\n",
       "      <td>2</td>\n",
       "      <td>1087</td>\n",
       "      <td>4507035634765825</td>\n",
       "      <td>-768.530029</td>\n",
       "      <td>-288.907013</td>\n",
       "      <td>...</td>\n",
       "      <td>-468.915009</td>\n",
       "      <td>158.121994</td>\n",
       "      <td>582.179016</td>\n",
       "      <td>0.092782</td>\n",
       "      <td>-0.150139</td>\n",
       "      <td>-0.166171</td>\n",
       "      <td>1</td>\n",
       "      <td>2</td>\n",
       "      <td>0.176494</td>\n",
       "      <td>8</td>\n",
       "    </tr>\n",
       "    <tr>\n",
       "      <th>95482</th>\n",
       "      <td>103215</td>\n",
       "      <td>-761.927002</td>\n",
       "      <td>-290.076996</td>\n",
       "      <td>-54.400002</td>\n",
       "      <td>17</td>\n",
       "      <td>2</td>\n",
       "      <td>1088</td>\n",
       "      <td>4507035634765825</td>\n",
       "      <td>-761.950989</td>\n",
       "      <td>-289.976990</td>\n",
       "      <td>...</td>\n",
       "      <td>-468.915009</td>\n",
       "      <td>158.121994</td>\n",
       "      <td>582.179016</td>\n",
       "      <td>0.092782</td>\n",
       "      <td>-0.150139</td>\n",
       "      <td>-0.166171</td>\n",
       "      <td>1</td>\n",
       "      <td>2</td>\n",
       "      <td>0.176494</td>\n",
       "      <td>8</td>\n",
       "    </tr>\n",
       "    <tr>\n",
       "      <th>89867</th>\n",
       "      <td>78839</td>\n",
       "      <td>-314.377014</td>\n",
       "      <td>177.490005</td>\n",
       "      <td>653.400024</td>\n",
       "      <td>13</td>\n",
       "      <td>4</td>\n",
       "      <td>948</td>\n",
       "      <td>4507035634769922</td>\n",
       "      <td>-314.388000</td>\n",
       "      <td>177.475998</td>\n",
       "      <td>...</td>\n",
       "      <td>-468.915009</td>\n",
       "      <td>158.121994</td>\n",
       "      <td>582.179016</td>\n",
       "      <td>0.147296</td>\n",
       "      <td>0.064804</td>\n",
       "      <td>0.071765</td>\n",
       "      <td>1</td>\n",
       "      <td>3</td>\n",
       "      <td>0.160921</td>\n",
       "      <td>5</td>\n",
       "    </tr>\n",
       "    <tr>\n",
       "      <th>94971</th>\n",
       "      <td>84740</td>\n",
       "      <td>-472.427002</td>\n",
       "      <td>159.641998</td>\n",
       "      <td>583.200012</td>\n",
       "      <td>13</td>\n",
       "      <td>6</td>\n",
       "      <td>1323</td>\n",
       "      <td>4507035634774018</td>\n",
       "      <td>-472.428986</td>\n",
       "      <td>159.636993</td>\n",
       "      <td>...</td>\n",
       "      <td>-468.915009</td>\n",
       "      <td>158.121994</td>\n",
       "      <td>582.179016</td>\n",
       "      <td>-0.373393</td>\n",
       "      <td>0.160135</td>\n",
       "      <td>0.111396</td>\n",
       "      <td>1</td>\n",
       "      <td>5</td>\n",
       "      <td>0.406283</td>\n",
       "      <td>6</td>\n",
       "    </tr>\n",
       "    <tr>\n",
       "      <th>94973</th>\n",
       "      <td>105424</td>\n",
       "      <td>-734.411987</td>\n",
       "      <td>358.806000</td>\n",
       "      <td>672.400024</td>\n",
       "      <td>17</td>\n",
       "      <td>2</td>\n",
       "      <td>2152</td>\n",
       "      <td>4507035634774018</td>\n",
       "      <td>-734.431030</td>\n",
       "      <td>358.777008</td>\n",
       "      <td>...</td>\n",
       "      <td>-468.915009</td>\n",
       "      <td>158.121994</td>\n",
       "      <td>582.179016</td>\n",
       "      <td>-0.373393</td>\n",
       "      <td>0.160135</td>\n",
       "      <td>0.111396</td>\n",
       "      <td>1</td>\n",
       "      <td>5</td>\n",
       "      <td>0.406283</td>\n",
       "      <td>8</td>\n",
       "    </tr>\n",
       "    <tr>\n",
       "      <th>94970</th>\n",
       "      <td>84737</td>\n",
       "      <td>-477.820007</td>\n",
       "      <td>161.998993</td>\n",
       "      <td>585.000000</td>\n",
       "      <td>13</td>\n",
       "      <td>6</td>\n",
       "      <td>1322</td>\n",
       "      <td>4507035634774018</td>\n",
       "      <td>-477.816986</td>\n",
       "      <td>162.003998</td>\n",
       "      <td>...</td>\n",
       "      <td>-468.915009</td>\n",
       "      <td>158.121994</td>\n",
       "      <td>582.179016</td>\n",
       "      <td>-0.373393</td>\n",
       "      <td>0.160135</td>\n",
       "      <td>0.111396</td>\n",
       "      <td>1</td>\n",
       "      <td>5</td>\n",
       "      <td>0.406283</td>\n",
       "      <td>6</td>\n",
       "    </tr>\n",
       "    <tr>\n",
       "      <th>94972</th>\n",
       "      <td>90123</td>\n",
       "      <td>-617.281006</td>\n",
       "      <td>244.641006</td>\n",
       "      <td>629.400024</td>\n",
       "      <td>13</td>\n",
       "      <td>8</td>\n",
       "      <td>1728</td>\n",
       "      <td>4507035634774018</td>\n",
       "      <td>-617.286011</td>\n",
       "      <td>244.632004</td>\n",
       "      <td>...</td>\n",
       "      <td>-468.915009</td>\n",
       "      <td>158.121994</td>\n",
       "      <td>582.179016</td>\n",
       "      <td>-0.373393</td>\n",
       "      <td>0.160135</td>\n",
       "      <td>0.111396</td>\n",
       "      <td>1</td>\n",
       "      <td>5</td>\n",
       "      <td>0.406283</td>\n",
       "      <td>7</td>\n",
       "    </tr>\n",
       "    <tr>\n",
       "      <th>94974</th>\n",
       "      <td>110256</td>\n",
       "      <td>-848.664978</td>\n",
       "      <td>566.288025</td>\n",
       "      <td>737.200012</td>\n",
       "      <td>17</td>\n",
       "      <td>4</td>\n",
       "      <td>2722</td>\n",
       "      <td>4507035634774018</td>\n",
       "      <td>-848.684021</td>\n",
       "      <td>566.268005</td>\n",
       "      <td>...</td>\n",
       "      <td>-468.915009</td>\n",
       "      <td>158.121994</td>\n",
       "      <td>582.179016</td>\n",
       "      <td>-0.373393</td>\n",
       "      <td>0.160135</td>\n",
       "      <td>0.111396</td>\n",
       "      <td>1</td>\n",
       "      <td>5</td>\n",
       "      <td>0.406283</td>\n",
       "      <td>9</td>\n",
       "    </tr>\n",
       "  </tbody>\n",
       "</table>\n",
       "<p>20 rows × 25 columns</p>\n",
       "</div>"
      ],
      "text/plain": [
       "       hit_id           x           y           z  volume_id  layer_id  \\\n",
       "79384   71652 -259.860992   -8.876690  445.000000         13         2   \n",
       "79385   78616 -356.455994   27.178400  496.399994         13         4   \n",
       "79383   42454 -171.878998   -8.204190  401.989014          8         8   \n",
       "79382   37075 -116.106003    7.871170  372.765991          8         6   \n",
       "79275   42141 -170.925995  -26.903799  323.955994          8         8   \n",
       "79274   42139 -169.029999  -26.202700  324.329987          8         8   \n",
       "79277   77607 -353.656006  -47.982899  286.799988         13         4   \n",
       "79279   89064 -638.539001  175.994995  211.399994         13         8   \n",
       "79278   83608 -503.053009   10.018500  254.119995         13         6   \n",
       "79276   71236 -252.380005  -48.439301  308.399994         13         2   \n",
       "79272   36453 -116.739998   -1.077980  334.829010          8         6   \n",
       "79273   36815 -114.974998   -0.083634  335.191986          8         6   \n",
       "95481  103210 -768.526978 -288.924011  -65.199997         17         2   \n",
       "95482  103215 -761.927002 -290.076996  -54.400002         17         2   \n",
       "89867   78839 -314.377014  177.490005  653.400024         13         4   \n",
       "94971   84740 -472.427002  159.641998  583.200012         13         6   \n",
       "94973  105424 -734.411987  358.806000  672.400024         17         2   \n",
       "94970   84737 -477.820007  161.998993  585.000000         13         6   \n",
       "94972   90123 -617.281006  244.641006  629.400024         13         8   \n",
       "94974  110256 -848.664978  566.288025  737.200012         17         4   \n",
       "\n",
       "       module_id       particle_id          tx          ty  ...            vx  \\\n",
       "79384        561  4507035617988609 -259.859985   -8.865300  ...    -67.993401   \n",
       "79385        896  4507035617988609 -356.459015   27.167999  ...    -67.993401   \n",
       "79383        937  4507035617988609 -171.880005   -8.198800  ...    -67.993401   \n",
       "79382        676  4507035617988609 -116.106003    7.872170  ...    -67.993401   \n",
       "79275        861  4507035618004994 -170.923996  -26.911400  ...    -67.993401   \n",
       "79274        860  4507035618004994 -169.035004  -26.184200  ...    -67.993401   \n",
       "79277        730  4507035618004994 -353.654999  -48.009800  ...    -67.993401   \n",
       "79279       1322  4507035618004994 -638.539978  175.992004  ...    -67.993401   \n",
       "79278       1014  4507035618004994 -503.058990    9.987500  ...    -67.993401   \n",
       "79276        522  4507035618004994 -252.380005  -48.429001  ...    -67.993401   \n",
       "79272        573  4507035618004994 -116.738998   -1.082840  ...    -67.993401   \n",
       "79273        624  4507035618004994 -114.974998   -0.084399  ...    -67.993401   \n",
       "95481       1087  4507035634765825 -768.530029 -288.907013  ...   -468.915009   \n",
       "95482       1088  4507035634765825 -761.950989 -289.976990  ...   -468.915009   \n",
       "89867        948  4507035634769922 -314.388000  177.475998  ...   -468.915009   \n",
       "94971       1323  4507035634774018 -472.428986  159.636993  ...   -468.915009   \n",
       "94973       2152  4507035634774018 -734.431030  358.777008  ...   -468.915009   \n",
       "94970       1322  4507035634774018 -477.816986  162.003998  ...   -468.915009   \n",
       "94972       1728  4507035634774018 -617.286011  244.632004  ...   -468.915009   \n",
       "94974       2722  4507035634774018 -848.684021  566.268005  ...   -468.915009   \n",
       "\n",
       "               vy          vz        px        py        pz  q  nhits  \\\n",
       "79384   31.568300  345.247986 -0.143193 -0.088302  0.086228  1      4   \n",
       "79385   31.568300  345.247986 -0.143193 -0.088302  0.086228  1      4   \n",
       "79383   31.568300  345.247986 -0.143193 -0.088302  0.086228  1      4   \n",
       "79382   31.568300  345.247986 -0.143193 -0.088302  0.086228  1      4   \n",
       "79275   31.568300  345.247986 -0.175617 -0.138600 -0.039662  1      9   \n",
       "79274   31.568300  345.247986 -0.175617 -0.138600 -0.039662  1      9   \n",
       "79277   31.568300  345.247986 -0.175617 -0.138600 -0.039662  1      9   \n",
       "79279   31.568300  345.247986 -0.175617 -0.138600 -0.039662  1      9   \n",
       "79278   31.568300  345.247986 -0.175617 -0.138600 -0.039662  1      9   \n",
       "79276   31.568300  345.247986 -0.175617 -0.138600 -0.039662  1      9   \n",
       "79272   31.568300  345.247986 -0.175617 -0.138600 -0.039662  1      9   \n",
       "79273   31.568300  345.247986 -0.175617 -0.138600 -0.039662  1      9   \n",
       "95481  158.121994  582.179016  0.092782 -0.150139 -0.166171  1      2   \n",
       "95482  158.121994  582.179016  0.092782 -0.150139 -0.166171  1      2   \n",
       "89867  158.121994  582.179016  0.147296  0.064804  0.071765  1      3   \n",
       "94971  158.121994  582.179016 -0.373393  0.160135  0.111396  1      5   \n",
       "94973  158.121994  582.179016 -0.373393  0.160135  0.111396  1      5   \n",
       "94970  158.121994  582.179016 -0.373393  0.160135  0.111396  1      5   \n",
       "94972  158.121994  582.179016 -0.373393  0.160135  0.111396  1      5   \n",
       "94974  158.121994  582.179016 -0.373393  0.160135  0.111396  1      5   \n",
       "\n",
       "             pt  layer  \n",
       "79384  0.168230      4  \n",
       "79385  0.168230      5  \n",
       "79383  0.168230      3  \n",
       "79382  0.168230      2  \n",
       "79275  0.223721      3  \n",
       "79274  0.223721      3  \n",
       "79277  0.223721      5  \n",
       "79279  0.223721      7  \n",
       "79278  0.223721      6  \n",
       "79276  0.223721      4  \n",
       "79272  0.223721      2  \n",
       "79273  0.223721      2  \n",
       "95481  0.176494      8  \n",
       "95482  0.176494      8  \n",
       "89867  0.160921      5  \n",
       "94971  0.406283      6  \n",
       "94973  0.406283      8  \n",
       "94970  0.406283      6  \n",
       "94972  0.406283      7  \n",
       "94974  0.406283      9  \n",
       "\n",
       "[20 rows x 25 columns]"
      ]
     },
     "execution_count": 38,
     "metadata": {},
     "output_type": "execute_result"
    }
   ],
   "source": [
    "hits_barrel_no_layer0 = hits_barrel[hits_barrel['particle_id'].isin(dict_pp['not-l0'])]\n",
    "hits_barrel_no_layer0.sort_values('particle_id').head(20)"
   ]
  },
  {
   "cell_type": "markdown",
   "metadata": {},
   "source": [
    "### Remove duplicated Hits"
   ]
  },
  {
   "cell_type": "code",
   "execution_count": 39,
   "metadata": {},
   "outputs": [],
   "source": [
    "x = hits_barrel.x\n",
    "y = hits_barrel.y\n",
    "r = np.sqrt(x**2 + y**2)\n",
    "phi = np.arctan2(y, x)\n",
    "hits_barrel = hits_barrel.assign(r=r, phi=phi)"
   ]
  },
  {
   "cell_type": "code",
   "execution_count": 40,
   "metadata": {},
   "outputs": [],
   "source": [
    "hits_barrel_no_duplicate_hits = hits_barrel.loc[hits_barrel.groupby(['particle_id', 'layer'], as_index=False).r.idxmin()]"
   ]
  },
  {
   "cell_type": "code",
   "execution_count": 41,
   "metadata": {},
   "outputs": [
    {
     "data": {
      "text/plain": [
       "(38753, 27)"
      ]
     },
     "execution_count": 41,
     "metadata": {},
     "output_type": "execute_result"
    }
   ],
   "source": [
    "hits_barrel_no_duplicate_hits.shape"
   ]
  },
  {
   "cell_type": "code",
   "execution_count": 42,
   "metadata": {},
   "outputs": [
    {
     "data": {
      "text/plain": [
       "0.8075392277396903"
      ]
     },
     "execution_count": 42,
     "metadata": {},
     "output_type": "execute_result"
    }
   ],
   "source": [
    "hits_barrel_no_duplicate_hits.shape[0]/hits_barrel.shape[0]"
   ]
  },
  {
   "cell_type": "code",
   "execution_count": 43,
   "metadata": {},
   "outputs": [],
   "source": [
    "n_particles = [0]*10 # 100%, 70%, 50%, >3 hits, =1, =2, =3\n",
    "dict_pp = {\n",
    "    \"not-l0\": [],\n",
    "    \"=1\": []\n",
    "}\n",
    "for pid in barrel_particles:\n",
    "    hits_selected = hits_barrel_no_duplicate_hits[hits_barrel_no_duplicate_hits['particle_id'] == pid]\n",
    "    hits_in_particles = truth[truth['particle_id'] == pid]\n",
    "    if hits_in_particles.shape[0] == hits_selected.shape[0]:\n",
    "        n_particles[0] += 1\n",
    "    \n",
    "    if hits_selected.shape[0] > 0.7 * hits_in_particles.shape[0]:\n",
    "        n_particles[1] += 1\n",
    "    \n",
    "    if hits_selected.shape[0] > 0.5 * hits_in_particles.shape[0]:\n",
    "        n_particles[2] += 1\n",
    "    \n",
    "    if hits_selected.shape[0] > 3:\n",
    "        n_particles[3] += 1\n",
    "        \n",
    "    if hits_selected.shape[0] == 3:\n",
    "        n_particles[4] += 1\n",
    "    if hits_selected.shape[0] == 2:\n",
    "        n_particles[5] += 1\n",
    "    if hits_selected.shape[0] == 1:\n",
    "        n_particles[6] += 1\n",
    "        dict_pp['=1'].append(pid)\n",
    "        \n",
    "    if 0 not in hits_selected['layer'].values:\n",
    "        n_particles[7] += 1\n",
    "        dict_pp['not-l0'].append(pid)\n",
    "        \n",
    "    if 1 not in hits_selected['layer'].values:\n",
    "        n_particles[8] += 1"
   ]
  },
  {
   "cell_type": "code",
   "execution_count": 44,
   "metadata": {},
   "outputs": [
    {
     "name": "stdout",
     "output_type": "stream",
     "text": [
      "100%\t 957\n",
      "70%\t 3164\n",
      "50%\t 4570\n",
      "> 3\t 4821\n",
      "= 1\t 386\n",
      "= 2\t 1119\n",
      "= 3\t 1166\n",
      "not l0\t 1394\n",
      "not l1\t 2033\n"
     ]
    }
   ],
   "source": [
    "cuts = ['100%', '70%', '50%', '> 3', '= 1', '= 2', '= 3', 'not l0', 'not l1']\n",
    "for ii, nn in enumerate(cuts):\n",
    "    print(\"{}\\t {}\".format(nn, n_particles[ii]))"
   ]
  },
  {
   "cell_type": "code",
   "execution_count": 45,
   "metadata": {},
   "outputs": [],
   "source": [
    "particle_with_one_hit = dict_pp['=1'][0]"
   ]
  },
  {
   "cell_type": "code",
   "execution_count": 46,
   "metadata": {},
   "outputs": [
    {
     "data": {
      "text/html": [
       "<div>\n",
       "<style scoped>\n",
       "    .dataframe tbody tr th:only-of-type {\n",
       "        vertical-align: middle;\n",
       "    }\n",
       "\n",
       "    .dataframe tbody tr th {\n",
       "        vertical-align: top;\n",
       "    }\n",
       "\n",
       "    .dataframe thead th {\n",
       "        text-align: right;\n",
       "    }\n",
       "</style>\n",
       "<table border=\"1\" class=\"dataframe\">\n",
       "  <thead>\n",
       "    <tr style=\"text-align: right;\">\n",
       "      <th></th>\n",
       "      <th>hit_id</th>\n",
       "      <th>x</th>\n",
       "      <th>y</th>\n",
       "      <th>z</th>\n",
       "      <th>volume_id</th>\n",
       "      <th>layer_id</th>\n",
       "      <th>module_id</th>\n",
       "      <th>particle_id</th>\n",
       "      <th>tx</th>\n",
       "      <th>ty</th>\n",
       "      <th>...</th>\n",
       "      <th>vz</th>\n",
       "      <th>px</th>\n",
       "      <th>py</th>\n",
       "      <th>pz</th>\n",
       "      <th>q</th>\n",
       "      <th>nhits</th>\n",
       "      <th>pt</th>\n",
       "      <th>layer</th>\n",
       "      <th>r</th>\n",
       "      <th>phi</th>\n",
       "    </tr>\n",
       "  </thead>\n",
       "  <tbody>\n",
       "    <tr>\n",
       "      <th>79382</th>\n",
       "      <td>37075</td>\n",
       "      <td>-116.106003</td>\n",
       "      <td>7.871170</td>\n",
       "      <td>372.765991</td>\n",
       "      <td>8</td>\n",
       "      <td>6</td>\n",
       "      <td>676</td>\n",
       "      <td>4507035617988609</td>\n",
       "      <td>-116.106003</td>\n",
       "      <td>7.872170</td>\n",
       "      <td>...</td>\n",
       "      <td>345.247986</td>\n",
       "      <td>-0.143193</td>\n",
       "      <td>-0.088302</td>\n",
       "      <td>0.086228</td>\n",
       "      <td>1</td>\n",
       "      <td>4</td>\n",
       "      <td>0.168230</td>\n",
       "      <td>2</td>\n",
       "      <td>116.372498</td>\n",
       "      <td>3.073903</td>\n",
       "    </tr>\n",
       "    <tr>\n",
       "      <th>79383</th>\n",
       "      <td>42454</td>\n",
       "      <td>-171.878998</td>\n",
       "      <td>-8.204190</td>\n",
       "      <td>401.989014</td>\n",
       "      <td>8</td>\n",
       "      <td>8</td>\n",
       "      <td>937</td>\n",
       "      <td>4507035617988609</td>\n",
       "      <td>-171.880005</td>\n",
       "      <td>-8.198800</td>\n",
       "      <td>...</td>\n",
       "      <td>345.247986</td>\n",
       "      <td>-0.143193</td>\n",
       "      <td>-0.088302</td>\n",
       "      <td>0.086228</td>\n",
       "      <td>1</td>\n",
       "      <td>4</td>\n",
       "      <td>0.168230</td>\n",
       "      <td>3</td>\n",
       "      <td>172.074692</td>\n",
       "      <td>-3.093896</td>\n",
       "    </tr>\n",
       "    <tr>\n",
       "      <th>79384</th>\n",
       "      <td>71652</td>\n",
       "      <td>-259.860992</td>\n",
       "      <td>-8.876690</td>\n",
       "      <td>445.000000</td>\n",
       "      <td>13</td>\n",
       "      <td>2</td>\n",
       "      <td>561</td>\n",
       "      <td>4507035617988609</td>\n",
       "      <td>-259.859985</td>\n",
       "      <td>-8.865300</td>\n",
       "      <td>...</td>\n",
       "      <td>345.247986</td>\n",
       "      <td>-0.143193</td>\n",
       "      <td>-0.088302</td>\n",
       "      <td>0.086228</td>\n",
       "      <td>1</td>\n",
       "      <td>4</td>\n",
       "      <td>0.168230</td>\n",
       "      <td>4</td>\n",
       "      <td>260.012573</td>\n",
       "      <td>-3.107447</td>\n",
       "    </tr>\n",
       "    <tr>\n",
       "      <th>79385</th>\n",
       "      <td>78616</td>\n",
       "      <td>-356.455994</td>\n",
       "      <td>27.178400</td>\n",
       "      <td>496.399994</td>\n",
       "      <td>13</td>\n",
       "      <td>4</td>\n",
       "      <td>896</td>\n",
       "      <td>4507035617988609</td>\n",
       "      <td>-356.459015</td>\n",
       "      <td>27.167999</td>\n",
       "      <td>...</td>\n",
       "      <td>345.247986</td>\n",
       "      <td>-0.143193</td>\n",
       "      <td>-0.088302</td>\n",
       "      <td>0.086228</td>\n",
       "      <td>1</td>\n",
       "      <td>4</td>\n",
       "      <td>0.168230</td>\n",
       "      <td>5</td>\n",
       "      <td>357.490601</td>\n",
       "      <td>3.065494</td>\n",
       "    </tr>\n",
       "    <tr>\n",
       "      <th>79273</th>\n",
       "      <td>36815</td>\n",
       "      <td>-114.974998</td>\n",
       "      <td>-0.083634</td>\n",
       "      <td>335.191986</td>\n",
       "      <td>8</td>\n",
       "      <td>6</td>\n",
       "      <td>624</td>\n",
       "      <td>4507035618004994</td>\n",
       "      <td>-114.974998</td>\n",
       "      <td>-0.084399</td>\n",
       "      <td>...</td>\n",
       "      <td>345.247986</td>\n",
       "      <td>-0.175617</td>\n",
       "      <td>-0.138600</td>\n",
       "      <td>-0.039662</td>\n",
       "      <td>1</td>\n",
       "      <td>9</td>\n",
       "      <td>0.223721</td>\n",
       "      <td>2</td>\n",
       "      <td>114.975029</td>\n",
       "      <td>-3.140865</td>\n",
       "    </tr>\n",
       "    <tr>\n",
       "      <th>79274</th>\n",
       "      <td>42139</td>\n",
       "      <td>-169.029999</td>\n",
       "      <td>-26.202700</td>\n",
       "      <td>324.329987</td>\n",
       "      <td>8</td>\n",
       "      <td>8</td>\n",
       "      <td>860</td>\n",
       "      <td>4507035618004994</td>\n",
       "      <td>-169.035004</td>\n",
       "      <td>-26.184200</td>\n",
       "      <td>...</td>\n",
       "      <td>345.247986</td>\n",
       "      <td>-0.175617</td>\n",
       "      <td>-0.138600</td>\n",
       "      <td>-0.039662</td>\n",
       "      <td>1</td>\n",
       "      <td>9</td>\n",
       "      <td>0.223721</td>\n",
       "      <td>3</td>\n",
       "      <td>171.048889</td>\n",
       "      <td>-2.987799</td>\n",
       "    </tr>\n",
       "    <tr>\n",
       "      <th>79276</th>\n",
       "      <td>71236</td>\n",
       "      <td>-252.380005</td>\n",
       "      <td>-48.439301</td>\n",
       "      <td>308.399994</td>\n",
       "      <td>13</td>\n",
       "      <td>2</td>\n",
       "      <td>522</td>\n",
       "      <td>4507035618004994</td>\n",
       "      <td>-252.380005</td>\n",
       "      <td>-48.429001</td>\n",
       "      <td>...</td>\n",
       "      <td>345.247986</td>\n",
       "      <td>-0.175617</td>\n",
       "      <td>-0.138600</td>\n",
       "      <td>-0.039662</td>\n",
       "      <td>1</td>\n",
       "      <td>9</td>\n",
       "      <td>0.223721</td>\n",
       "      <td>4</td>\n",
       "      <td>256.986450</td>\n",
       "      <td>-2.951969</td>\n",
       "    </tr>\n",
       "    <tr>\n",
       "      <th>79277</th>\n",
       "      <td>77607</td>\n",
       "      <td>-353.656006</td>\n",
       "      <td>-47.982899</td>\n",
       "      <td>286.799988</td>\n",
       "      <td>13</td>\n",
       "      <td>4</td>\n",
       "      <td>730</td>\n",
       "      <td>4507035618004994</td>\n",
       "      <td>-353.654999</td>\n",
       "      <td>-48.009800</td>\n",
       "      <td>...</td>\n",
       "      <td>345.247986</td>\n",
       "      <td>-0.175617</td>\n",
       "      <td>-0.138600</td>\n",
       "      <td>-0.039662</td>\n",
       "      <td>1</td>\n",
       "      <td>9</td>\n",
       "      <td>0.223721</td>\n",
       "      <td>5</td>\n",
       "      <td>356.896240</td>\n",
       "      <td>-3.006739</td>\n",
       "    </tr>\n",
       "    <tr>\n",
       "      <th>79278</th>\n",
       "      <td>83608</td>\n",
       "      <td>-503.053009</td>\n",
       "      <td>10.018500</td>\n",
       "      <td>254.119995</td>\n",
       "      <td>13</td>\n",
       "      <td>6</td>\n",
       "      <td>1014</td>\n",
       "      <td>4507035618004994</td>\n",
       "      <td>-503.058990</td>\n",
       "      <td>9.987500</td>\n",
       "      <td>...</td>\n",
       "      <td>345.247986</td>\n",
       "      <td>-0.175617</td>\n",
       "      <td>-0.138600</td>\n",
       "      <td>-0.039662</td>\n",
       "      <td>1</td>\n",
       "      <td>9</td>\n",
       "      <td>0.223721</td>\n",
       "      <td>6</td>\n",
       "      <td>503.152771</td>\n",
       "      <td>3.121680</td>\n",
       "    </tr>\n",
       "    <tr>\n",
       "      <th>79279</th>\n",
       "      <td>89064</td>\n",
       "      <td>-638.539001</td>\n",
       "      <td>175.994995</td>\n",
       "      <td>211.399994</td>\n",
       "      <td>13</td>\n",
       "      <td>8</td>\n",
       "      <td>1322</td>\n",
       "      <td>4507035618004994</td>\n",
       "      <td>-638.539978</td>\n",
       "      <td>175.992004</td>\n",
       "      <td>...</td>\n",
       "      <td>345.247986</td>\n",
       "      <td>-0.175617</td>\n",
       "      <td>-0.138600</td>\n",
       "      <td>-0.039662</td>\n",
       "      <td>1</td>\n",
       "      <td>9</td>\n",
       "      <td>0.223721</td>\n",
       "      <td>7</td>\n",
       "      <td>662.349060</td>\n",
       "      <td>2.872649</td>\n",
       "    </tr>\n",
       "    <tr>\n",
       "      <th>95482</th>\n",
       "      <td>103215</td>\n",
       "      <td>-761.927002</td>\n",
       "      <td>-290.076996</td>\n",
       "      <td>-54.400002</td>\n",
       "      <td>17</td>\n",
       "      <td>2</td>\n",
       "      <td>1088</td>\n",
       "      <td>4507035634765825</td>\n",
       "      <td>-761.950989</td>\n",
       "      <td>-289.976990</td>\n",
       "      <td>...</td>\n",
       "      <td>582.179016</td>\n",
       "      <td>0.092782</td>\n",
       "      <td>-0.150139</td>\n",
       "      <td>-0.166171</td>\n",
       "      <td>1</td>\n",
       "      <td>2</td>\n",
       "      <td>0.176494</td>\n",
       "      <td>8</td>\n",
       "      <td>815.277527</td>\n",
       "      <td>-2.777821</td>\n",
       "    </tr>\n",
       "    <tr>\n",
       "      <th>89867</th>\n",
       "      <td>78839</td>\n",
       "      <td>-314.377014</td>\n",
       "      <td>177.490005</td>\n",
       "      <td>653.400024</td>\n",
       "      <td>13</td>\n",
       "      <td>4</td>\n",
       "      <td>948</td>\n",
       "      <td>4507035634769922</td>\n",
       "      <td>-314.388000</td>\n",
       "      <td>177.475998</td>\n",
       "      <td>...</td>\n",
       "      <td>582.179016</td>\n",
       "      <td>0.147296</td>\n",
       "      <td>0.064804</td>\n",
       "      <td>0.071765</td>\n",
       "      <td>1</td>\n",
       "      <td>3</td>\n",
       "      <td>0.160921</td>\n",
       "      <td>5</td>\n",
       "      <td>361.020233</td>\n",
       "      <td>2.627627</td>\n",
       "    </tr>\n",
       "    <tr>\n",
       "      <th>94971</th>\n",
       "      <td>84740</td>\n",
       "      <td>-472.427002</td>\n",
       "      <td>159.641998</td>\n",
       "      <td>583.200012</td>\n",
       "      <td>13</td>\n",
       "      <td>6</td>\n",
       "      <td>1323</td>\n",
       "      <td>4507035634774018</td>\n",
       "      <td>-472.428986</td>\n",
       "      <td>159.636993</td>\n",
       "      <td>...</td>\n",
       "      <td>582.179016</td>\n",
       "      <td>-0.373393</td>\n",
       "      <td>0.160135</td>\n",
       "      <td>0.111396</td>\n",
       "      <td>1</td>\n",
       "      <td>5</td>\n",
       "      <td>0.406283</td>\n",
       "      <td>6</td>\n",
       "      <td>498.671051</td>\n",
       "      <td>2.815721</td>\n",
       "    </tr>\n",
       "    <tr>\n",
       "      <th>94972</th>\n",
       "      <td>90123</td>\n",
       "      <td>-617.281006</td>\n",
       "      <td>244.641006</td>\n",
       "      <td>629.400024</td>\n",
       "      <td>13</td>\n",
       "      <td>8</td>\n",
       "      <td>1728</td>\n",
       "      <td>4507035634774018</td>\n",
       "      <td>-617.286011</td>\n",
       "      <td>244.632004</td>\n",
       "      <td>...</td>\n",
       "      <td>582.179016</td>\n",
       "      <td>-0.373393</td>\n",
       "      <td>0.160135</td>\n",
       "      <td>0.111396</td>\n",
       "      <td>1</td>\n",
       "      <td>5</td>\n",
       "      <td>0.406283</td>\n",
       "      <td>7</td>\n",
       "      <td>663.991760</td>\n",
       "      <td>2.764262</td>\n",
       "    </tr>\n",
       "    <tr>\n",
       "      <th>94973</th>\n",
       "      <td>105424</td>\n",
       "      <td>-734.411987</td>\n",
       "      <td>358.806000</td>\n",
       "      <td>672.400024</td>\n",
       "      <td>17</td>\n",
       "      <td>2</td>\n",
       "      <td>2152</td>\n",
       "      <td>4507035634774018</td>\n",
       "      <td>-734.431030</td>\n",
       "      <td>358.777008</td>\n",
       "      <td>...</td>\n",
       "      <td>582.179016</td>\n",
       "      <td>-0.373393</td>\n",
       "      <td>0.160135</td>\n",
       "      <td>0.111396</td>\n",
       "      <td>1</td>\n",
       "      <td>5</td>\n",
       "      <td>0.406283</td>\n",
       "      <td>8</td>\n",
       "      <td>817.375488</td>\n",
       "      <td>2.687137</td>\n",
       "    </tr>\n",
       "    <tr>\n",
       "      <th>94974</th>\n",
       "      <td>110256</td>\n",
       "      <td>-848.664978</td>\n",
       "      <td>566.288025</td>\n",
       "      <td>737.200012</td>\n",
       "      <td>17</td>\n",
       "      <td>4</td>\n",
       "      <td>2722</td>\n",
       "      <td>4507035634774018</td>\n",
       "      <td>-848.684021</td>\n",
       "      <td>566.268005</td>\n",
       "      <td>...</td>\n",
       "      <td>582.179016</td>\n",
       "      <td>-0.373393</td>\n",
       "      <td>0.160135</td>\n",
       "      <td>0.111396</td>\n",
       "      <td>1</td>\n",
       "      <td>5</td>\n",
       "      <td>0.406283</td>\n",
       "      <td>9</td>\n",
       "      <td>1020.252136</td>\n",
       "      <td>2.553173</td>\n",
       "    </tr>\n",
       "    <tr>\n",
       "      <th>93268</th>\n",
       "      <td>70577</td>\n",
       "      <td>150.817001</td>\n",
       "      <td>207.145996</td>\n",
       "      <td>145.600006</td>\n",
       "      <td>13</td>\n",
       "      <td>2</td>\n",
       "      <td>467</td>\n",
       "      <td>4507173056942081</td>\n",
       "      <td>150.813004</td>\n",
       "      <td>207.149994</td>\n",
       "      <td>...</td>\n",
       "      <td>175.074997</td>\n",
       "      <td>0.060822</td>\n",
       "      <td>0.209800</td>\n",
       "      <td>-0.021624</td>\n",
       "      <td>1</td>\n",
       "      <td>7</td>\n",
       "      <td>0.218438</td>\n",
       "      <td>4</td>\n",
       "      <td>256.232788</td>\n",
       "      <td>0.941478</td>\n",
       "    </tr>\n",
       "    <tr>\n",
       "      <th>93269</th>\n",
       "      <td>77049</td>\n",
       "      <td>265.029999</td>\n",
       "      <td>242.375000</td>\n",
       "      <td>133.000000</td>\n",
       "      <td>13</td>\n",
       "      <td>4</td>\n",
       "      <td>651</td>\n",
       "      <td>4507173056942081</td>\n",
       "      <td>265.024994</td>\n",
       "      <td>242.382996</td>\n",
       "      <td>...</td>\n",
       "      <td>175.074997</td>\n",
       "      <td>0.060822</td>\n",
       "      <td>0.209800</td>\n",
       "      <td>-0.021624</td>\n",
       "      <td>1</td>\n",
       "      <td>7</td>\n",
       "      <td>0.218438</td>\n",
       "      <td>5</td>\n",
       "      <td>359.146973</td>\n",
       "      <td>0.740779</td>\n",
       "    </tr>\n",
       "    <tr>\n",
       "      <th>93270</th>\n",
       "      <td>83095</td>\n",
       "      <td>448.101990</td>\n",
       "      <td>221.218002</td>\n",
       "      <td>113.199997</td>\n",
       "      <td>13</td>\n",
       "      <td>6</td>\n",
       "      <td>903</td>\n",
       "      <td>4507173056942081</td>\n",
       "      <td>448.102997</td>\n",
       "      <td>221.216995</td>\n",
       "      <td>...</td>\n",
       "      <td>175.074997</td>\n",
       "      <td>0.060822</td>\n",
       "      <td>0.209800</td>\n",
       "      <td>-0.021624</td>\n",
       "      <td>1</td>\n",
       "      <td>7</td>\n",
       "      <td>0.218438</td>\n",
       "      <td>6</td>\n",
       "      <td>499.732727</td>\n",
       "      <td>0.458577</td>\n",
       "    </tr>\n",
       "    <tr>\n",
       "      <th>93272</th>\n",
       "      <td>88637</td>\n",
       "      <td>655.392029</td>\n",
       "      <td>-3.064770</td>\n",
       "      <td>78.400002</td>\n",
       "      <td>13</td>\n",
       "      <td>8</td>\n",
       "      <td>1174</td>\n",
       "      <td>4507173056942081</td>\n",
       "      <td>655.383972</td>\n",
       "      <td>-3.133610</td>\n",
       "      <td>...</td>\n",
       "      <td>175.074997</td>\n",
       "      <td>0.060822</td>\n",
       "      <td>0.209800</td>\n",
       "      <td>-0.021624</td>\n",
       "      <td>1</td>\n",
       "      <td>7</td>\n",
       "      <td>0.218438</td>\n",
       "      <td>7</td>\n",
       "      <td>655.399231</td>\n",
       "      <td>-0.004676</td>\n",
       "    </tr>\n",
       "  </tbody>\n",
       "</table>\n",
       "<p>20 rows × 27 columns</p>\n",
       "</div>"
      ],
      "text/plain": [
       "       hit_id           x           y           z  volume_id  layer_id  \\\n",
       "79382   37075 -116.106003    7.871170  372.765991          8         6   \n",
       "79383   42454 -171.878998   -8.204190  401.989014          8         8   \n",
       "79384   71652 -259.860992   -8.876690  445.000000         13         2   \n",
       "79385   78616 -356.455994   27.178400  496.399994         13         4   \n",
       "79273   36815 -114.974998   -0.083634  335.191986          8         6   \n",
       "79274   42139 -169.029999  -26.202700  324.329987          8         8   \n",
       "79276   71236 -252.380005  -48.439301  308.399994         13         2   \n",
       "79277   77607 -353.656006  -47.982899  286.799988         13         4   \n",
       "79278   83608 -503.053009   10.018500  254.119995         13         6   \n",
       "79279   89064 -638.539001  175.994995  211.399994         13         8   \n",
       "95482  103215 -761.927002 -290.076996  -54.400002         17         2   \n",
       "89867   78839 -314.377014  177.490005  653.400024         13         4   \n",
       "94971   84740 -472.427002  159.641998  583.200012         13         6   \n",
       "94972   90123 -617.281006  244.641006  629.400024         13         8   \n",
       "94973  105424 -734.411987  358.806000  672.400024         17         2   \n",
       "94974  110256 -848.664978  566.288025  737.200012         17         4   \n",
       "93268   70577  150.817001  207.145996  145.600006         13         2   \n",
       "93269   77049  265.029999  242.375000  133.000000         13         4   \n",
       "93270   83095  448.101990  221.218002  113.199997         13         6   \n",
       "93272   88637  655.392029   -3.064770   78.400002         13         8   \n",
       "\n",
       "       module_id       particle_id          tx          ty    ...     \\\n",
       "79382        676  4507035617988609 -116.106003    7.872170    ...      \n",
       "79383        937  4507035617988609 -171.880005   -8.198800    ...      \n",
       "79384        561  4507035617988609 -259.859985   -8.865300    ...      \n",
       "79385        896  4507035617988609 -356.459015   27.167999    ...      \n",
       "79273        624  4507035618004994 -114.974998   -0.084399    ...      \n",
       "79274        860  4507035618004994 -169.035004  -26.184200    ...      \n",
       "79276        522  4507035618004994 -252.380005  -48.429001    ...      \n",
       "79277        730  4507035618004994 -353.654999  -48.009800    ...      \n",
       "79278       1014  4507035618004994 -503.058990    9.987500    ...      \n",
       "79279       1322  4507035618004994 -638.539978  175.992004    ...      \n",
       "95482       1088  4507035634765825 -761.950989 -289.976990    ...      \n",
       "89867        948  4507035634769922 -314.388000  177.475998    ...      \n",
       "94971       1323  4507035634774018 -472.428986  159.636993    ...      \n",
       "94972       1728  4507035634774018 -617.286011  244.632004    ...      \n",
       "94973       2152  4507035634774018 -734.431030  358.777008    ...      \n",
       "94974       2722  4507035634774018 -848.684021  566.268005    ...      \n",
       "93268        467  4507173056942081  150.813004  207.149994    ...      \n",
       "93269        651  4507173056942081  265.024994  242.382996    ...      \n",
       "93270        903  4507173056942081  448.102997  221.216995    ...      \n",
       "93272       1174  4507173056942081  655.383972   -3.133610    ...      \n",
       "\n",
       "               vz        px        py        pz  q  nhits        pt  layer  \\\n",
       "79382  345.247986 -0.143193 -0.088302  0.086228  1      4  0.168230      2   \n",
       "79383  345.247986 -0.143193 -0.088302  0.086228  1      4  0.168230      3   \n",
       "79384  345.247986 -0.143193 -0.088302  0.086228  1      4  0.168230      4   \n",
       "79385  345.247986 -0.143193 -0.088302  0.086228  1      4  0.168230      5   \n",
       "79273  345.247986 -0.175617 -0.138600 -0.039662  1      9  0.223721      2   \n",
       "79274  345.247986 -0.175617 -0.138600 -0.039662  1      9  0.223721      3   \n",
       "79276  345.247986 -0.175617 -0.138600 -0.039662  1      9  0.223721      4   \n",
       "79277  345.247986 -0.175617 -0.138600 -0.039662  1      9  0.223721      5   \n",
       "79278  345.247986 -0.175617 -0.138600 -0.039662  1      9  0.223721      6   \n",
       "79279  345.247986 -0.175617 -0.138600 -0.039662  1      9  0.223721      7   \n",
       "95482  582.179016  0.092782 -0.150139 -0.166171  1      2  0.176494      8   \n",
       "89867  582.179016  0.147296  0.064804  0.071765  1      3  0.160921      5   \n",
       "94971  582.179016 -0.373393  0.160135  0.111396  1      5  0.406283      6   \n",
       "94972  582.179016 -0.373393  0.160135  0.111396  1      5  0.406283      7   \n",
       "94973  582.179016 -0.373393  0.160135  0.111396  1      5  0.406283      8   \n",
       "94974  582.179016 -0.373393  0.160135  0.111396  1      5  0.406283      9   \n",
       "93268  175.074997  0.060822  0.209800 -0.021624  1      7  0.218438      4   \n",
       "93269  175.074997  0.060822  0.209800 -0.021624  1      7  0.218438      5   \n",
       "93270  175.074997  0.060822  0.209800 -0.021624  1      7  0.218438      6   \n",
       "93272  175.074997  0.060822  0.209800 -0.021624  1      7  0.218438      7   \n",
       "\n",
       "                 r       phi  \n",
       "79382   116.372498  3.073903  \n",
       "79383   172.074692 -3.093896  \n",
       "79384   260.012573 -3.107447  \n",
       "79385   357.490601  3.065494  \n",
       "79273   114.975029 -3.140865  \n",
       "79274   171.048889 -2.987799  \n",
       "79276   256.986450 -2.951969  \n",
       "79277   356.896240 -3.006739  \n",
       "79278   503.152771  3.121680  \n",
       "79279   662.349060  2.872649  \n",
       "95482   815.277527 -2.777821  \n",
       "89867   361.020233  2.627627  \n",
       "94971   498.671051  2.815721  \n",
       "94972   663.991760  2.764262  \n",
       "94973   817.375488  2.687137  \n",
       "94974  1020.252136  2.553173  \n",
       "93268   256.232788  0.941478  \n",
       "93269   359.146973  0.740779  \n",
       "93270   499.732727  0.458577  \n",
       "93272   655.399231 -0.004676  \n",
       "\n",
       "[20 rows x 27 columns]"
      ]
     },
     "execution_count": 46,
     "metadata": {},
     "output_type": "execute_result"
    }
   ],
   "source": [
    "hits_barrel_nodup_nolayer0 = hits_barrel_no_duplicate_hits[hits_barrel_no_duplicate_hits['particle_id'].isin(dict_pp['not-l0'])]\n",
    "hits_barrel_nodup_nolayer0.sort_values(['particle_id', 'layer']).head(20)"
   ]
  },
  {
   "cell_type": "code",
   "execution_count": 47,
   "metadata": {},
   "outputs": [
    {
     "data": {
      "text/html": [
       "<div>\n",
       "<style scoped>\n",
       "    .dataframe tbody tr th:only-of-type {\n",
       "        vertical-align: middle;\n",
       "    }\n",
       "\n",
       "    .dataframe tbody tr th {\n",
       "        vertical-align: top;\n",
       "    }\n",
       "\n",
       "    .dataframe thead th {\n",
       "        text-align: right;\n",
       "    }\n",
       "</style>\n",
       "<table border=\"1\" class=\"dataframe\">\n",
       "  <thead>\n",
       "    <tr style=\"text-align: right;\">\n",
       "      <th></th>\n",
       "      <th>hit_id</th>\n",
       "      <th>x</th>\n",
       "      <th>y</th>\n",
       "      <th>z</th>\n",
       "      <th>volume_id</th>\n",
       "      <th>layer_id</th>\n",
       "      <th>module_id</th>\n",
       "      <th>particle_id</th>\n",
       "      <th>tx</th>\n",
       "      <th>ty</th>\n",
       "      <th>...</th>\n",
       "      <th>vz</th>\n",
       "      <th>px</th>\n",
       "      <th>py</th>\n",
       "      <th>pz</th>\n",
       "      <th>q</th>\n",
       "      <th>nhits</th>\n",
       "      <th>pt</th>\n",
       "      <th>layer</th>\n",
       "      <th>r</th>\n",
       "      <th>phi</th>\n",
       "    </tr>\n",
       "  </thead>\n",
       "  <tbody>\n",
       "    <tr>\n",
       "      <th>89867</th>\n",
       "      <td>78839</td>\n",
       "      <td>-314.377014</td>\n",
       "      <td>177.490005</td>\n",
       "      <td>653.400024</td>\n",
       "      <td>13</td>\n",
       "      <td>4</td>\n",
       "      <td>948</td>\n",
       "      <td>4507035634769922</td>\n",
       "      <td>-314.388</td>\n",
       "      <td>177.475998</td>\n",
       "      <td>...</td>\n",
       "      <td>582.179016</td>\n",
       "      <td>0.147296</td>\n",
       "      <td>0.064804</td>\n",
       "      <td>0.071765</td>\n",
       "      <td>1</td>\n",
       "      <td>3</td>\n",
       "      <td>0.160921</td>\n",
       "      <td>5</td>\n",
       "      <td>361.020233</td>\n",
       "      <td>2.627627</td>\n",
       "    </tr>\n",
       "  </tbody>\n",
       "</table>\n",
       "<p>1 rows × 27 columns</p>\n",
       "</div>"
      ],
      "text/plain": [
       "       hit_id           x           y           z  volume_id  layer_id  \\\n",
       "89867   78839 -314.377014  177.490005  653.400024         13         4   \n",
       "\n",
       "       module_id       particle_id       tx          ty    ...             vz  \\\n",
       "89867        948  4507035634769922 -314.388  177.475998    ...     582.179016   \n",
       "\n",
       "             px        py        pz  q  nhits        pt  layer           r  \\\n",
       "89867  0.147296  0.064804  0.071765  1      3  0.160921      5  361.020233   \n",
       "\n",
       "            phi  \n",
       "89867  2.627627  \n",
       "\n",
       "[1 rows x 27 columns]"
      ]
     },
     "execution_count": 47,
     "metadata": {},
     "output_type": "execute_result"
    }
   ],
   "source": [
    "hits_barrel[hits_barrel['particle_id'] == 4507035634769922]"
   ]
  },
  {
   "cell_type": "markdown",
   "metadata": {},
   "source": [
    "### Make pairs"
   ]
  },
  {
   "cell_type": "code",
   "execution_count": 48,
   "metadata": {},
   "outputs": [],
   "source": [
    "gid_keys = 'layer'\n",
    "n_det_layers = 10\n",
    "gid_start = np.arange(0, n_det_layers-1)\n",
    "gid_end = np.arange(1, n_det_layers)"
   ]
  },
  {
   "cell_type": "code",
   "execution_count": 49,
   "metadata": {},
   "outputs": [
    {
     "name": "stdout",
     "output_type": "stream",
     "text": [
      "[0 1 2 3 4 5 6 7 8]\n",
      "[1 2 3 4 5 6 7 8 9]\n"
     ]
    }
   ],
   "source": [
    "print(gid_start)\n",
    "print(gid_end)"
   ]
  },
  {
   "cell_type": "code",
   "execution_count": 50,
   "metadata": {},
   "outputs": [],
   "source": [
    "def cal_deta(hitpair):\n",
    "    r1 = hitpair.r_1\n",
    "    r2 = hitpair.r_2\n",
    "    z1 = hitpair.z_1\n",
    "    z2 = hitpair.z_2\n",
    "    \n",
    "    R1 = np.sqrt(r1**2 + z1**2)\n",
    "    R2 = np.sqrt(r2**2 + z2**2)\n",
    "    theta1 = np.arccos(z1/R1)\n",
    "    theta2 = np.arccos(z2/R2)\n",
    "#     theta1 = np.arctan(r1/z1)\n",
    "#     theta2 = np.arctan(r2/z2)\n",
    "    eta1 = -np.log(np.tan(theta1/2.0))\n",
    "    eta2 = -np.log(np.tan(theta2/2.0))\n",
    "    return eta1 - eta2\n",
    "\n",
    "def calc_dphi(phi1, phi2):\n",
    "    \"\"\"Computes phi2-phi1 given in range [-pi,pi]\"\"\"\n",
    "    dphi = phi2 - phi1\n",
    "    dphi[dphi > np.pi] -= 2*np.pi\n",
    "    dphi[dphi < -np.pi] += 2*np.pi\n",
    "    return dphi"
   ]
  },
  {
   "cell_type": "code",
   "execution_count": 51,
   "metadata": {},
   "outputs": [],
   "source": [
    "hits_barrel_no_duplicate_hits = hits_barrel_no_duplicate_hits.assign(evtid=evtid)"
   ]
  },
  {
   "cell_type": "markdown",
   "metadata": {},
   "source": [
    "### Number of hits not in adjacent layers"
   ]
  },
  {
   "cell_type": "code",
   "execution_count": 52,
   "metadata": {},
   "outputs": [
    {
     "data": {
      "text/html": [
       "<div>\n",
       "<style scoped>\n",
       "    .dataframe tbody tr th:only-of-type {\n",
       "        vertical-align: middle;\n",
       "    }\n",
       "\n",
       "    .dataframe tbody tr th {\n",
       "        vertical-align: top;\n",
       "    }\n",
       "\n",
       "    .dataframe thead th {\n",
       "        text-align: right;\n",
       "    }\n",
       "</style>\n",
       "<table border=\"1\" class=\"dataframe\">\n",
       "  <thead>\n",
       "    <tr style=\"text-align: right;\">\n",
       "      <th></th>\n",
       "      <th>hit_id</th>\n",
       "      <th>x</th>\n",
       "      <th>y</th>\n",
       "      <th>z</th>\n",
       "      <th>volume_id</th>\n",
       "      <th>layer_id</th>\n",
       "      <th>module_id</th>\n",
       "      <th>particle_id</th>\n",
       "      <th>tx</th>\n",
       "      <th>ty</th>\n",
       "      <th>...</th>\n",
       "      <th>px</th>\n",
       "      <th>py</th>\n",
       "      <th>pz</th>\n",
       "      <th>q</th>\n",
       "      <th>nhits</th>\n",
       "      <th>pt</th>\n",
       "      <th>layer</th>\n",
       "      <th>r</th>\n",
       "      <th>phi</th>\n",
       "      <th>evtid</th>\n",
       "    </tr>\n",
       "  </thead>\n",
       "  <tbody>\n",
       "    <tr>\n",
       "      <th>47472</th>\n",
       "      <td>20402</td>\n",
       "      <td>-9.644350</td>\n",
       "      <td>-30.945299</td>\n",
       "      <td>40.206699</td>\n",
       "      <td>8</td>\n",
       "      <td>2</td>\n",
       "      <td>116</td>\n",
       "      <td>4503668346847232</td>\n",
       "      <td>-9.643060</td>\n",
       "      <td>-30.945400</td>\n",
       "      <td>...</td>\n",
       "      <td>-0.505992</td>\n",
       "      <td>-1.59523</td>\n",
       "      <td>1.72873</td>\n",
       "      <td>-1</td>\n",
       "      <td>12</td>\n",
       "      <td>1.673555</td>\n",
       "      <td>0</td>\n",
       "      <td>32.413345</td>\n",
       "      <td>-1.872914</td>\n",
       "      <td>6600</td>\n",
       "    </tr>\n",
       "    <tr>\n",
       "      <th>47473</th>\n",
       "      <td>28815</td>\n",
       "      <td>-20.955299</td>\n",
       "      <td>-69.141701</td>\n",
       "      <td>81.374001</td>\n",
       "      <td>8</td>\n",
       "      <td>4</td>\n",
       "      <td>263</td>\n",
       "      <td>4503668346847232</td>\n",
       "      <td>-20.957300</td>\n",
       "      <td>-69.141403</td>\n",
       "      <td>...</td>\n",
       "      <td>-0.505992</td>\n",
       "      <td>-1.59523</td>\n",
       "      <td>1.72873</td>\n",
       "      <td>-1</td>\n",
       "      <td>12</td>\n",
       "      <td>1.673555</td>\n",
       "      <td>1</td>\n",
       "      <td>72.247482</td>\n",
       "      <td>-1.865074</td>\n",
       "      <td>6600</td>\n",
       "    </tr>\n",
       "    <tr>\n",
       "      <th>47474</th>\n",
       "      <td>35081</td>\n",
       "      <td>-32.765400</td>\n",
       "      <td>-111.283997</td>\n",
       "      <td>126.690002</td>\n",
       "      <td>8</td>\n",
       "      <td>6</td>\n",
       "      <td>427</td>\n",
       "      <td>4503668346847232</td>\n",
       "      <td>-32.765400</td>\n",
       "      <td>-111.283997</td>\n",
       "      <td>...</td>\n",
       "      <td>-0.505992</td>\n",
       "      <td>-1.59523</td>\n",
       "      <td>1.72873</td>\n",
       "      <td>-1</td>\n",
       "      <td>12</td>\n",
       "      <td>1.673555</td>\n",
       "      <td>2</td>\n",
       "      <td>116.007324</td>\n",
       "      <td>-1.857136</td>\n",
       "      <td>6600</td>\n",
       "    </tr>\n",
       "    <tr>\n",
       "      <th>47475</th>\n",
       "      <td>41335</td>\n",
       "      <td>-46.580502</td>\n",
       "      <td>-164.350006</td>\n",
       "      <td>183.408997</td>\n",
       "      <td>8</td>\n",
       "      <td>8</td>\n",
       "      <td>718</td>\n",
       "      <td>4503668346847232</td>\n",
       "      <td>-46.579102</td>\n",
       "      <td>-164.350006</td>\n",
       "      <td>...</td>\n",
       "      <td>-0.505992</td>\n",
       "      <td>-1.59523</td>\n",
       "      <td>1.72873</td>\n",
       "      <td>-1</td>\n",
       "      <td>12</td>\n",
       "      <td>1.673555</td>\n",
       "      <td>3</td>\n",
       "      <td>170.823502</td>\n",
       "      <td>-1.846976</td>\n",
       "      <td>6600</td>\n",
       "    </tr>\n",
       "    <tr>\n",
       "      <th>47477</th>\n",
       "      <td>71311</td>\n",
       "      <td>-66.118301</td>\n",
       "      <td>-249.014008</td>\n",
       "      <td>273.000000</td>\n",
       "      <td>13</td>\n",
       "      <td>2</td>\n",
       "      <td>529</td>\n",
       "      <td>4503668346847232</td>\n",
       "      <td>-66.138298</td>\n",
       "      <td>-249.005997</td>\n",
       "      <td>...</td>\n",
       "      <td>-0.505992</td>\n",
       "      <td>-1.59523</td>\n",
       "      <td>1.72873</td>\n",
       "      <td>-1</td>\n",
       "      <td>12</td>\n",
       "      <td>1.673555</td>\n",
       "      <td>4</td>\n",
       "      <td>257.642395</td>\n",
       "      <td>-1.830328</td>\n",
       "      <td>6600</td>\n",
       "    </tr>\n",
       "  </tbody>\n",
       "</table>\n",
       "<p>5 rows × 28 columns</p>\n",
       "</div>"
      ],
      "text/plain": [
       "       hit_id          x           y           z  volume_id  layer_id  \\\n",
       "47472   20402  -9.644350  -30.945299   40.206699          8         2   \n",
       "47473   28815 -20.955299  -69.141701   81.374001          8         4   \n",
       "47474   35081 -32.765400 -111.283997  126.690002          8         6   \n",
       "47475   41335 -46.580502 -164.350006  183.408997          8         8   \n",
       "47477   71311 -66.118301 -249.014008  273.000000         13         2   \n",
       "\n",
       "       module_id       particle_id         tx          ty  ...          px  \\\n",
       "47472        116  4503668346847232  -9.643060  -30.945400  ...   -0.505992   \n",
       "47473        263  4503668346847232 -20.957300  -69.141403  ...   -0.505992   \n",
       "47474        427  4503668346847232 -32.765400 -111.283997  ...   -0.505992   \n",
       "47475        718  4503668346847232 -46.579102 -164.350006  ...   -0.505992   \n",
       "47477        529  4503668346847232 -66.138298 -249.005997  ...   -0.505992   \n",
       "\n",
       "            py       pz  q  nhits        pt  layer           r       phi  \\\n",
       "47472 -1.59523  1.72873 -1     12  1.673555      0   32.413345 -1.872914   \n",
       "47473 -1.59523  1.72873 -1     12  1.673555      1   72.247482 -1.865074   \n",
       "47474 -1.59523  1.72873 -1     12  1.673555      2  116.007324 -1.857136   \n",
       "47475 -1.59523  1.72873 -1     12  1.673555      3  170.823502 -1.846976   \n",
       "47477 -1.59523  1.72873 -1     12  1.673555      4  257.642395 -1.830328   \n",
       "\n",
       "       evtid  \n",
       "47472   6600  \n",
       "47473   6600  \n",
       "47474   6600  \n",
       "47475   6600  \n",
       "47477   6600  \n",
       "\n",
       "[5 rows x 28 columns]"
      ]
     },
     "execution_count": 52,
     "metadata": {},
     "output_type": "execute_result"
    }
   ],
   "source": [
    "hits_barrel_no_duplicate_hits.head()"
   ]
  },
  {
   "cell_type": "code",
   "execution_count": 53,
   "metadata": {},
   "outputs": [],
   "source": [
    "from postprocess import utils_fit"
   ]
  },
  {
   "cell_type": "code",
   "execution_count": 54,
   "metadata": {},
   "outputs": [],
   "source": [
    "n_not_in_adjacent_layers = 0\n",
    "n_not_in_adjacent_layers_particles = 0\n",
    "pps = np.unique(hits_barrel_no_duplicate_hits['particle_id'])\n",
    "broken_tracks = []\n",
    "for pp in pps:\n",
    "    layer_info = hits_barrel_no_duplicate_hits[hits_barrel_no_duplicate_hits['particle_id'] == pp]['layer'].values\n",
    "    layer_info = list(np.sort(layer_info))\n",
    "    layer_pairs = utils_fit.pairwise(layer_info)\n",
    "    is_broken = False\n",
    "    for b,a in layer_pairs:\n",
    "        if abs(a-b) != 1:\n",
    "            n_not_in_adjacent_layers += 1\n",
    "            is_broken = True\n",
    "    if is_broken:\n",
    "        n_not_in_adjacent_layers_particles += 1\n",
    "        broken_tracks.append(pp)"
   ]
  },
  {
   "cell_type": "code",
   "execution_count": 55,
   "metadata": {},
   "outputs": [
    {
     "name": "stdout",
     "output_type": "stream",
     "text": [
      "902 892\n"
     ]
    }
   ],
   "source": [
    "print(n_not_in_adjacent_layers, n_not_in_adjacent_layers_particles)"
   ]
  },
  {
   "cell_type": "code",
   "execution_count": 56,
   "metadata": {},
   "outputs": [
    {
     "name": "stdout",
     "output_type": "stream",
     "text": [
      "[]\n"
     ]
    }
   ],
   "source": [
    "a = [9]\n",
    "bb = utils_fit.pairwise(a)\n",
    "print(list(bb))"
   ]
  },
  {
   "cell_type": "code",
   "execution_count": 57,
   "metadata": {},
   "outputs": [
    {
     "data": {
      "text/plain": [
       "(38753, 28)"
      ]
     },
     "execution_count": 57,
     "metadata": {},
     "output_type": "execute_result"
    }
   ],
   "source": [
    "hits_barrel_no_duplicate_hits.shape"
   ]
  },
  {
   "cell_type": "code",
   "execution_count": 58,
   "metadata": {},
   "outputs": [
    {
     "data": {
      "text/html": [
       "<div>\n",
       "<style scoped>\n",
       "    .dataframe tbody tr th:only-of-type {\n",
       "        vertical-align: middle;\n",
       "    }\n",
       "\n",
       "    .dataframe tbody tr th {\n",
       "        vertical-align: top;\n",
       "    }\n",
       "\n",
       "    .dataframe thead th {\n",
       "        text-align: right;\n",
       "    }\n",
       "</style>\n",
       "<table border=\"1\" class=\"dataframe\">\n",
       "  <thead>\n",
       "    <tr style=\"text-align: right;\">\n",
       "      <th></th>\n",
       "      <th>hit_id</th>\n",
       "      <th>x</th>\n",
       "      <th>y</th>\n",
       "      <th>z</th>\n",
       "      <th>volume_id</th>\n",
       "      <th>layer_id</th>\n",
       "      <th>module_id</th>\n",
       "      <th>particle_id</th>\n",
       "      <th>tx</th>\n",
       "      <th>ty</th>\n",
       "      <th>...</th>\n",
       "      <th>px</th>\n",
       "      <th>py</th>\n",
       "      <th>pz</th>\n",
       "      <th>q</th>\n",
       "      <th>nhits</th>\n",
       "      <th>pt</th>\n",
       "      <th>layer</th>\n",
       "      <th>r</th>\n",
       "      <th>phi</th>\n",
       "      <th>evtid</th>\n",
       "    </tr>\n",
       "  </thead>\n",
       "  <tbody>\n",
       "    <tr>\n",
       "      <th>47472</th>\n",
       "      <td>20402</td>\n",
       "      <td>-9.644350</td>\n",
       "      <td>-30.945299</td>\n",
       "      <td>40.206699</td>\n",
       "      <td>8</td>\n",
       "      <td>2</td>\n",
       "      <td>116</td>\n",
       "      <td>4503668346847232</td>\n",
       "      <td>-9.643060</td>\n",
       "      <td>-30.945400</td>\n",
       "      <td>...</td>\n",
       "      <td>-0.505992</td>\n",
       "      <td>-1.59523</td>\n",
       "      <td>1.72873</td>\n",
       "      <td>-1</td>\n",
       "      <td>12</td>\n",
       "      <td>1.673555</td>\n",
       "      <td>0</td>\n",
       "      <td>32.413345</td>\n",
       "      <td>-1.872914</td>\n",
       "      <td>6600</td>\n",
       "    </tr>\n",
       "    <tr>\n",
       "      <th>47473</th>\n",
       "      <td>28815</td>\n",
       "      <td>-20.955299</td>\n",
       "      <td>-69.141701</td>\n",
       "      <td>81.374001</td>\n",
       "      <td>8</td>\n",
       "      <td>4</td>\n",
       "      <td>263</td>\n",
       "      <td>4503668346847232</td>\n",
       "      <td>-20.957300</td>\n",
       "      <td>-69.141403</td>\n",
       "      <td>...</td>\n",
       "      <td>-0.505992</td>\n",
       "      <td>-1.59523</td>\n",
       "      <td>1.72873</td>\n",
       "      <td>-1</td>\n",
       "      <td>12</td>\n",
       "      <td>1.673555</td>\n",
       "      <td>1</td>\n",
       "      <td>72.247482</td>\n",
       "      <td>-1.865074</td>\n",
       "      <td>6600</td>\n",
       "    </tr>\n",
       "    <tr>\n",
       "      <th>47474</th>\n",
       "      <td>35081</td>\n",
       "      <td>-32.765400</td>\n",
       "      <td>-111.283997</td>\n",
       "      <td>126.690002</td>\n",
       "      <td>8</td>\n",
       "      <td>6</td>\n",
       "      <td>427</td>\n",
       "      <td>4503668346847232</td>\n",
       "      <td>-32.765400</td>\n",
       "      <td>-111.283997</td>\n",
       "      <td>...</td>\n",
       "      <td>-0.505992</td>\n",
       "      <td>-1.59523</td>\n",
       "      <td>1.72873</td>\n",
       "      <td>-1</td>\n",
       "      <td>12</td>\n",
       "      <td>1.673555</td>\n",
       "      <td>2</td>\n",
       "      <td>116.007324</td>\n",
       "      <td>-1.857136</td>\n",
       "      <td>6600</td>\n",
       "    </tr>\n",
       "    <tr>\n",
       "      <th>47475</th>\n",
       "      <td>41335</td>\n",
       "      <td>-46.580502</td>\n",
       "      <td>-164.350006</td>\n",
       "      <td>183.408997</td>\n",
       "      <td>8</td>\n",
       "      <td>8</td>\n",
       "      <td>718</td>\n",
       "      <td>4503668346847232</td>\n",
       "      <td>-46.579102</td>\n",
       "      <td>-164.350006</td>\n",
       "      <td>...</td>\n",
       "      <td>-0.505992</td>\n",
       "      <td>-1.59523</td>\n",
       "      <td>1.72873</td>\n",
       "      <td>-1</td>\n",
       "      <td>12</td>\n",
       "      <td>1.673555</td>\n",
       "      <td>3</td>\n",
       "      <td>170.823502</td>\n",
       "      <td>-1.846976</td>\n",
       "      <td>6600</td>\n",
       "    </tr>\n",
       "    <tr>\n",
       "      <th>47477</th>\n",
       "      <td>71311</td>\n",
       "      <td>-66.118301</td>\n",
       "      <td>-249.014008</td>\n",
       "      <td>273.000000</td>\n",
       "      <td>13</td>\n",
       "      <td>2</td>\n",
       "      <td>529</td>\n",
       "      <td>4503668346847232</td>\n",
       "      <td>-66.138298</td>\n",
       "      <td>-249.005997</td>\n",
       "      <td>...</td>\n",
       "      <td>-0.505992</td>\n",
       "      <td>-1.59523</td>\n",
       "      <td>1.72873</td>\n",
       "      <td>-1</td>\n",
       "      <td>12</td>\n",
       "      <td>1.673555</td>\n",
       "      <td>4</td>\n",
       "      <td>257.642395</td>\n",
       "      <td>-1.830328</td>\n",
       "      <td>6600</td>\n",
       "    </tr>\n",
       "  </tbody>\n",
       "</table>\n",
       "<p>5 rows × 28 columns</p>\n",
       "</div>"
      ],
      "text/plain": [
       "       hit_id          x           y           z  volume_id  layer_id  \\\n",
       "47472   20402  -9.644350  -30.945299   40.206699          8         2   \n",
       "47473   28815 -20.955299  -69.141701   81.374001          8         4   \n",
       "47474   35081 -32.765400 -111.283997  126.690002          8         6   \n",
       "47475   41335 -46.580502 -164.350006  183.408997          8         8   \n",
       "47477   71311 -66.118301 -249.014008  273.000000         13         2   \n",
       "\n",
       "       module_id       particle_id         tx          ty  ...          px  \\\n",
       "47472        116  4503668346847232  -9.643060  -30.945400  ...   -0.505992   \n",
       "47473        263  4503668346847232 -20.957300  -69.141403  ...   -0.505992   \n",
       "47474        427  4503668346847232 -32.765400 -111.283997  ...   -0.505992   \n",
       "47475        718  4503668346847232 -46.579102 -164.350006  ...   -0.505992   \n",
       "47477        529  4503668346847232 -66.138298 -249.005997  ...   -0.505992   \n",
       "\n",
       "            py       pz  q  nhits        pt  layer           r       phi  \\\n",
       "47472 -1.59523  1.72873 -1     12  1.673555      0   32.413345 -1.872914   \n",
       "47473 -1.59523  1.72873 -1     12  1.673555      1   72.247482 -1.865074   \n",
       "47474 -1.59523  1.72873 -1     12  1.673555      2  116.007324 -1.857136   \n",
       "47475 -1.59523  1.72873 -1     12  1.673555      3  170.823502 -1.846976   \n",
       "47477 -1.59523  1.72873 -1     12  1.673555      4  257.642395 -1.830328   \n",
       "\n",
       "       evtid  \n",
       "47472   6600  \n",
       "47473   6600  \n",
       "47474   6600  \n",
       "47475   6600  \n",
       "47477   6600  \n",
       "\n",
       "[5 rows x 28 columns]"
      ]
     },
     "execution_count": 58,
     "metadata": {},
     "output_type": "execute_result"
    }
   ],
   "source": [
    "hits_barrel_no_duplicate_hits.head()"
   ]
  },
  {
   "cell_type": "code",
   "execution_count": 59,
   "metadata": {},
   "outputs": [],
   "source": [
    "ss = hits_barrel_no_duplicate_hits.groupby('particle_id')[['layer']].apply(lambda x: np.any(x.isin([0])))"
   ]
  },
  {
   "cell_type": "code",
   "execution_count": 60,
   "metadata": {},
   "outputs": [
    {
     "data": {
      "text/plain": [
       "(1394,)"
      ]
     },
     "execution_count": 60,
     "metadata": {},
     "output_type": "execute_result"
    }
   ],
   "source": [
    "ss[~ss].shape"
   ]
  },
  {
   "cell_type": "code",
   "execution_count": 61,
   "metadata": {},
   "outputs": [
    {
     "data": {
      "text/plain": [
       "(6098,)"
      ]
     },
     "execution_count": 61,
     "metadata": {},
     "output_type": "execute_result"
    }
   ],
   "source": [
    "ss[ss].shape"
   ]
  },
  {
   "cell_type": "code",
   "execution_count": 62,
   "metadata": {},
   "outputs": [
    {
     "data": {
      "text/plain": [
       "(7492,)"
      ]
     },
     "execution_count": 62,
     "metadata": {},
     "output_type": "execute_result"
    }
   ],
   "source": [
    "ss.shape"
   ]
  },
  {
   "cell_type": "code",
   "execution_count": 63,
   "metadata": {},
   "outputs": [],
   "source": [
    "def create_segments(hits, gid_start, gid_end, gid_keys='layer'):\n",
    "    segments = []\n",
    "    hit_gid_groups = hits.groupby(gid_keys)\n",
    "\n",
    "    # Loop over geometry ID pairs\n",
    "    for gid1, gid2 in zip(gid_start, gid_end):\n",
    "        hits1 = hit_gid_groups.get_group(gid1)\n",
    "        hits2 = hit_gid_groups.get_group(gid2)\n",
    "\n",
    "        # Join all hit pairs together\n",
    "        hit_pairs = pd.merge(\n",
    "            hits1.reset_index(), hits2.reset_index(),\n",
    "            how='inner', on='evtid', suffixes=('_1', '_2'))\n",
    "\n",
    "        # Calculate coordinate differences\n",
    "        dphi = calc_dphi(hit_pairs.phi_1, hit_pairs.phi_2)\n",
    "        dz = hit_pairs.z_2 - hit_pairs.z_1\n",
    "        dr = hit_pairs.r_2 - hit_pairs.r_1\n",
    "        phi_slope = dphi / dr\n",
    "        z0 = hit_pairs.z_1 - hit_pairs.r_1 * dz / dr\n",
    "        deta = cal_deta(hit_pairs)\n",
    "\n",
    "        # Identify the true pairs\n",
    "        y = (hit_pairs.particle_id_1 == hit_pairs.particle_id_2) & (hit_pairs.particle_id_1 != 0)\n",
    "\n",
    "        # Put the results in a new dataframe\n",
    "        df_pairs = hit_pairs[['evtid', 'index_1', 'index_2', 'hit_id_1', 'hit_id_2', 'layer_1', 'layer_2']].assign(dphi=dphi, dz=dz, dr=dr, y=y, phi_slope=phi_slope, z0=z0, deta=deta)\n",
    "        print('processed:', gid1, gid2, \"True edges {} and Fake Edges {}\".format(df_pairs[df_pairs['y']==True].shape[0], df_pairs[df_pairs['y']==False].shape[0]))\n",
    "        segments.append(df_pairs)\n",
    "    return segments"
   ]
  },
  {
   "cell_type": "code",
   "execution_count": 64,
   "metadata": {},
   "outputs": [
    {
     "name": "stdout",
     "output_type": "stream",
     "text": [
      "processed: 0 1 True edges 5154 and Fake Edges 33283828\n",
      "processed: 1 2 True edges 4405 and Fake Edges 24872258\n",
      "processed: 2 3 True edges 3680 and Fake Edges 17344819\n",
      "processed: 3 4 True edges 3595 and Fake Edges 18456548\n",
      "processed: 4 5 True edges 4127 and Fake Edges 20672009\n",
      "processed: 5 6 True edges 3411 and Fake Edges 14941909\n",
      "processed: 6 7 True edges 2644 and Fake Edges 9439826\n",
      "processed: 7 8 True edges 1943 and Fake Edges 5588107\n",
      "processed: 8 9 True edges 1400 and Fake Edges 2996975\n",
      "CPU times: user 2min 28s, sys: 1min 35s, total: 4min 3s\n",
      "Wall time: 3min 11s\n"
     ]
    }
   ],
   "source": [
    "%%time\n",
    "segments = create_segments(hits_barrel_no_duplicate_hits, gid_start, gid_end, gid_keys=gid_keys)"
   ]
  },
  {
   "cell_type": "code",
   "execution_count": 65,
   "metadata": {},
   "outputs": [],
   "source": [
    "pd_segments = pd.concat(segments, ignore_index=True)"
   ]
  },
  {
   "cell_type": "code",
   "execution_count": 66,
   "metadata": {},
   "outputs": [
    {
     "data": {
      "text/html": [
       "<div>\n",
       "<style scoped>\n",
       "    .dataframe tbody tr th:only-of-type {\n",
       "        vertical-align: middle;\n",
       "    }\n",
       "\n",
       "    .dataframe tbody tr th {\n",
       "        vertical-align: top;\n",
       "    }\n",
       "\n",
       "    .dataframe thead th {\n",
       "        text-align: right;\n",
       "    }\n",
       "</style>\n",
       "<table border=\"1\" class=\"dataframe\">\n",
       "  <thead>\n",
       "    <tr style=\"text-align: right;\">\n",
       "      <th></th>\n",
       "      <th>evtid</th>\n",
       "      <th>index_1</th>\n",
       "      <th>index_2</th>\n",
       "      <th>hit_id_1</th>\n",
       "      <th>hit_id_2</th>\n",
       "      <th>layer_1</th>\n",
       "      <th>layer_2</th>\n",
       "      <th>dphi</th>\n",
       "      <th>dz</th>\n",
       "      <th>dr</th>\n",
       "      <th>y</th>\n",
       "      <th>phi_slope</th>\n",
       "      <th>z0</th>\n",
       "      <th>deta</th>\n",
       "    </tr>\n",
       "  </thead>\n",
       "  <tbody>\n",
       "    <tr>\n",
       "      <th>0</th>\n",
       "      <td>6600</td>\n",
       "      <td>47472</td>\n",
       "      <td>47473</td>\n",
       "      <td>20402</td>\n",
       "      <td>28815</td>\n",
       "      <td>0</td>\n",
       "      <td>1</td>\n",
       "      <td>0.00784</td>\n",
       "      <td>41.167301</td>\n",
       "      <td>39.834137</td>\n",
       "      <td>True</td>\n",
       "      <td>0.000197</td>\n",
       "      <td>6.708546</td>\n",
       "      <td>0.073666</td>\n",
       "    </tr>\n",
       "  </tbody>\n",
       "</table>\n",
       "</div>"
      ],
      "text/plain": [
       "   evtid  index_1  index_2  hit_id_1  hit_id_2  layer_1  layer_2     dphi  \\\n",
       "0   6600    47472    47473     20402     28815        0        1  0.00784   \n",
       "\n",
       "          dz         dr     y  phi_slope        z0      deta  \n",
       "0  41.167301  39.834137  True   0.000197  6.708546  0.073666  "
      ]
     },
     "execution_count": 66,
     "metadata": {},
     "output_type": "execute_result"
    }
   ],
   "source": [
    "pd_segments.head(1)"
   ]
  },
  {
   "cell_type": "code",
   "execution_count": 67,
   "metadata": {},
   "outputs": [
    {
     "data": {
      "text/plain": [
       "(147626638, 14)"
      ]
     },
     "execution_count": 67,
     "metadata": {},
     "output_type": "execute_result"
    }
   ],
   "source": [
    "pd_segments.shape"
   ]
  },
  {
   "cell_type": "code",
   "execution_count": 68,
   "metadata": {},
   "outputs": [],
   "source": [
    "true_edges = pd_segments[pd_segments['y'] == True]"
   ]
  },
  {
   "cell_type": "code",
   "execution_count": 69,
   "metadata": {},
   "outputs": [
    {
     "data": {
      "text/plain": [
       "(30359, 14)"
      ]
     },
     "execution_count": 69,
     "metadata": {},
     "output_type": "execute_result"
    }
   ],
   "source": [
    "true_edges.shape"
   ]
  },
  {
   "cell_type": "code",
   "execution_count": 70,
   "metadata": {},
   "outputs": [
    {
     "data": {
      "text/plain": [
       "(38753, 28)"
      ]
     },
     "execution_count": 70,
     "metadata": {},
     "output_type": "execute_result"
    }
   ],
   "source": [
    "hits_barrel_no_duplicate_hits.shape"
   ]
  },
  {
   "cell_type": "code",
   "execution_count": 71,
   "metadata": {},
   "outputs": [
    {
     "data": {
      "text/html": [
       "<div>\n",
       "<style scoped>\n",
       "    .dataframe tbody tr th:only-of-type {\n",
       "        vertical-align: middle;\n",
       "    }\n",
       "\n",
       "    .dataframe tbody tr th {\n",
       "        vertical-align: top;\n",
       "    }\n",
       "\n",
       "    .dataframe thead th {\n",
       "        text-align: right;\n",
       "    }\n",
       "</style>\n",
       "<table border=\"1\" class=\"dataframe\">\n",
       "  <thead>\n",
       "    <tr style=\"text-align: right;\">\n",
       "      <th></th>\n",
       "      <th>hit_id</th>\n",
       "      <th>x</th>\n",
       "      <th>y</th>\n",
       "      <th>z</th>\n",
       "      <th>volume_id</th>\n",
       "      <th>layer_id</th>\n",
       "      <th>module_id</th>\n",
       "      <th>particle_id</th>\n",
       "      <th>tx</th>\n",
       "      <th>ty</th>\n",
       "      <th>...</th>\n",
       "      <th>px</th>\n",
       "      <th>py</th>\n",
       "      <th>pz</th>\n",
       "      <th>q</th>\n",
       "      <th>nhits</th>\n",
       "      <th>pt</th>\n",
       "      <th>layer</th>\n",
       "      <th>r</th>\n",
       "      <th>phi</th>\n",
       "      <th>evtid</th>\n",
       "    </tr>\n",
       "  </thead>\n",
       "  <tbody>\n",
       "    <tr>\n",
       "      <th>47472</th>\n",
       "      <td>20402</td>\n",
       "      <td>-9.64435</td>\n",
       "      <td>-30.945299</td>\n",
       "      <td>40.206699</td>\n",
       "      <td>8</td>\n",
       "      <td>2</td>\n",
       "      <td>116</td>\n",
       "      <td>4503668346847232</td>\n",
       "      <td>-9.64306</td>\n",
       "      <td>-30.9454</td>\n",
       "      <td>...</td>\n",
       "      <td>-0.505992</td>\n",
       "      <td>-1.59523</td>\n",
       "      <td>1.72873</td>\n",
       "      <td>-1</td>\n",
       "      <td>12</td>\n",
       "      <td>1.673555</td>\n",
       "      <td>0</td>\n",
       "      <td>32.413345</td>\n",
       "      <td>-1.872914</td>\n",
       "      <td>6600</td>\n",
       "    </tr>\n",
       "  </tbody>\n",
       "</table>\n",
       "<p>1 rows × 28 columns</p>\n",
       "</div>"
      ],
      "text/plain": [
       "       hit_id        x          y          z  volume_id  layer_id  module_id  \\\n",
       "47472   20402 -9.64435 -30.945299  40.206699          8         2        116   \n",
       "\n",
       "            particle_id       tx       ty  ...          px       py       pz  \\\n",
       "47472  4503668346847232 -9.64306 -30.9454  ...   -0.505992 -1.59523  1.72873   \n",
       "\n",
       "       q  nhits        pt  layer          r       phi  evtid  \n",
       "47472 -1     12  1.673555      0  32.413345 -1.872914   6600  \n",
       "\n",
       "[1 rows x 28 columns]"
      ]
     },
     "execution_count": 71,
     "metadata": {},
     "output_type": "execute_result"
    }
   ],
   "source": [
    "hits_barrel_no_duplicate_hits.head(1)"
   ]
  },
  {
   "cell_type": "code",
   "execution_count": 72,
   "metadata": {},
   "outputs": [
    {
     "data": {
      "text/html": [
       "<div>\n",
       "<style scoped>\n",
       "    .dataframe tbody tr th:only-of-type {\n",
       "        vertical-align: middle;\n",
       "    }\n",
       "\n",
       "    .dataframe tbody tr th {\n",
       "        vertical-align: top;\n",
       "    }\n",
       "\n",
       "    .dataframe thead th {\n",
       "        text-align: right;\n",
       "    }\n",
       "</style>\n",
       "<table border=\"1\" class=\"dataframe\">\n",
       "  <thead>\n",
       "    <tr style=\"text-align: right;\">\n",
       "      <th></th>\n",
       "      <th>evtid</th>\n",
       "      <th>index_1</th>\n",
       "      <th>index_2</th>\n",
       "      <th>hit_id_1</th>\n",
       "      <th>hit_id_2</th>\n",
       "      <th>layer_1</th>\n",
       "      <th>layer_2</th>\n",
       "      <th>dphi</th>\n",
       "      <th>dz</th>\n",
       "      <th>dr</th>\n",
       "      <th>y</th>\n",
       "      <th>phi_slope</th>\n",
       "      <th>z0</th>\n",
       "      <th>deta</th>\n",
       "    </tr>\n",
       "  </thead>\n",
       "  <tbody>\n",
       "    <tr>\n",
       "      <th>0</th>\n",
       "      <td>6600</td>\n",
       "      <td>47472</td>\n",
       "      <td>47473</td>\n",
       "      <td>20402</td>\n",
       "      <td>28815</td>\n",
       "      <td>0</td>\n",
       "      <td>1</td>\n",
       "      <td>0.00784</td>\n",
       "      <td>41.167301</td>\n",
       "      <td>39.834137</td>\n",
       "      <td>True</td>\n",
       "      <td>0.000197</td>\n",
       "      <td>6.708546</td>\n",
       "      <td>0.073666</td>\n",
       "    </tr>\n",
       "  </tbody>\n",
       "</table>\n",
       "</div>"
      ],
      "text/plain": [
       "   evtid  index_1  index_2  hit_id_1  hit_id_2  layer_1  layer_2     dphi  \\\n",
       "0   6600    47472    47473     20402     28815        0        1  0.00784   \n",
       "\n",
       "          dz         dr     y  phi_slope        z0      deta  \n",
       "0  41.167301  39.834137  True   0.000197  6.708546  0.073666  "
      ]
     },
     "execution_count": 72,
     "metadata": {},
     "output_type": "execute_result"
    }
   ],
   "source": [
    "true_edges.head(1)"
   ]
  },
  {
   "cell_type": "markdown",
   "metadata": {},
   "source": [
    "### Build a graph using true information\n",
    "I want to see if my wrangler could fully reconstruct the tracks using true information!"
   ]
  },
  {
   "cell_type": "raw",
   "metadata": {},
   "source": [
    "n_nodes = hits_barrel_no_duplicate_hits.shape[0]\n",
    "n_edges = true_edges.shape[0]"
   ]
  },
  {
   "cell_type": "code",
   "execution_count": 74,
   "metadata": {},
   "outputs": [],
   "source": [
    "import networkx as nx"
   ]
  },
  {
   "cell_type": "code",
   "execution_count": 75,
   "metadata": {},
   "outputs": [
    {
     "name": "stdout",
     "output_type": "stream",
     "text": [
      "CPU times: user 45.1 s, sys: 2.83 s, total: 47.9 s\n",
      "Wall time: 47.9 s\n"
     ]
    }
   ],
   "source": [
    "%%time\n",
    "graph = nx.Graph()\n",
    "\n",
    "hits_id_dict = {}\n",
    "for idx in range(n_nodes):\n",
    "    hit_id = int(hits_barrel_no_duplicate_hits.iloc[idx]['hit_id'])\n",
    "    graph.add_node(idx, \n",
    "                   pos=hits_barrel_no_duplicate_hits.iloc[idx][['r', 'phi', 'z']],\n",
    "                   hit_id=hit_id,\n",
    "                   solution=[0.0])\n",
    "    hits_id_dict[hit_id] = idx"
   ]
  },
  {
   "cell_type": "code",
   "execution_count": 76,
   "metadata": {},
   "outputs": [
    {
     "name": "stdout",
     "output_type": "stream",
     "text": [
      "CPU times: user 13.2 s, sys: 264 ms, total: 13.5 s\n",
      "Wall time: 13.5 s\n"
     ]
    }
   ],
   "source": [
    "%%time\n",
    "for idx in range(n_edges):\n",
    "    in_hit_idx  = int(true_edges.iloc[idx]['hit_id_1'])\n",
    "    out_hit_idx = int(true_edges.iloc[idx]['hit_id_2'])\n",
    "\n",
    "    in_node_idx  = hits_id_dict[in_hit_idx]\n",
    "    out_node_idx = hits_id_dict[out_hit_idx]\n",
    "\n",
    "    solution = [1.]\n",
    "    graph.add_edge(out_node_idx, in_node_idx, solution=solution)"
   ]
  },
  {
   "cell_type": "code",
   "execution_count": 77,
   "metadata": {},
   "outputs": [],
   "source": [
    "from postprocess import wrangler, analysis"
   ]
  },
  {
   "cell_type": "code",
   "execution_count": 239,
   "metadata": {},
   "outputs": [
    {
     "name": "stdout",
     "output_type": "stream",
     "text": [
      "CPU times: user 2min 53s, sys: 5.24 s, total: 2min 58s\n",
      "Wall time: 2min 58s\n"
     ]
    }
   ],
   "source": [
    "%%time\n",
    "all_true_tracks = wrangler.get_tracks(graph, feature_name='solution', with_fit=False)"
   ]
  },
  {
   "cell_type": "code",
   "execution_count": 240,
   "metadata": {},
   "outputs": [],
   "source": [
    "true_df = analysis.graphs_to_df(all_true_tracks)"
   ]
  },
  {
   "cell_type": "code",
   "execution_count": 241,
   "metadata": {},
   "outputs": [
    {
     "name": "stdout",
     "output_type": "stream",
     "text": [
      "7492\n"
     ]
    }
   ],
   "source": [
    "total_particles = np.unique(true_df.merge(truth, on='hit_id', how='left')['particle_id'])\n",
    "print(len(total_particles))"
   ]
  },
  {
   "cell_type": "code",
   "execution_count": 242,
   "metadata": {},
   "outputs": [],
   "source": [
    "res_truth = analysis.summary_on_prediction(graph, hits_barrel_no_duplicate_hits, true_df)"
   ]
  },
  {
   "cell_type": "code",
   "execution_count": 146,
   "metadata": {},
   "outputs": [],
   "source": [
    "def print_info(res_pred):\n",
    "    print(\"Correct {}, Wrong {}, Isolated {}, Broken {}, Connected {}\".format(res_pred['n_correct'], res_pred['n_wrong'], len(res_pred['isolated_pids']), len(res_pred['broken_pids']), len(res_pred['connected_pids'])))"
   ]
  },
  {
   "cell_type": "code",
   "execution_count": 250,
   "metadata": {},
   "outputs": [
    {
     "name": "stdout",
     "output_type": "stream",
     "text": [
      "Correct 6600, Wrong 892, Isolated 27, Broken 697, Connected 195\n"
     ]
    }
   ],
   "source": [
    "print_info(res_truth)"
   ]
  },
  {
   "cell_type": "markdown",
   "metadata": {},
   "source": [
    "### Build a graph using selected segements"
   ]
  },
  {
   "cell_type": "code",
   "execution_count": 95,
   "metadata": {},
   "outputs": [],
   "source": [
    "selected_segments = pd_segments[ (pd_segments.phi_slope.abs() < 0.0006) & (pd_segments.z0.abs() < 100) ]"
   ]
  },
  {
   "cell_type": "code",
   "execution_count": 96,
   "metadata": {},
   "outputs": [
    {
     "data": {
      "text/plain": [
       "(183945, 14)"
      ]
     },
     "execution_count": 96,
     "metadata": {},
     "output_type": "execute_result"
    }
   ],
   "source": [
    "selected_segments.shape"
   ]
  },
  {
   "cell_type": "code",
   "execution_count": 102,
   "metadata": {},
   "outputs": [],
   "source": [
    "selected_true_segments = selected_segments[selected_segments['y']==True]"
   ]
  },
  {
   "cell_type": "code",
   "execution_count": 119,
   "metadata": {},
   "outputs": [
    {
     "data": {
      "text/plain": [
       "(13309, 14)"
      ]
     },
     "execution_count": 119,
     "metadata": {},
     "output_type": "execute_result"
    }
   ],
   "source": [
    "selected_true_segments.shape"
   ]
  },
  {
   "cell_type": "code",
   "execution_count": 103,
   "metadata": {},
   "outputs": [
    {
     "data": {
      "text/plain": [
       "0.43838729865937615"
      ]
     },
     "execution_count": 103,
     "metadata": {},
     "output_type": "execute_result"
    }
   ],
   "source": [
    "selected_true_segments.shape[0]/true_edges.shape[0]"
   ]
  },
  {
   "cell_type": "code",
   "execution_count": 104,
   "metadata": {},
   "outputs": [
    {
     "name": "stdout",
     "output_type": "stream",
     "text": [
      "CPU times: user 45.3 s, sys: 3.28 s, total: 48.6 s\n",
      "Wall time: 48.6 s\n"
     ]
    }
   ],
   "source": [
    "%%time\n",
    "n_nodes = hits_barrel_no_duplicate_hits.shape[0]\n",
    "n_edges_sel = selected_true_segments.shape[0]\n",
    "\n",
    "graph_sel = nx.Graph()\n",
    "\n",
    "hits_id_dict = {}\n",
    "for idx in range(n_nodes):\n",
    "    hit_id = int(hits_barrel_no_duplicate_hits.iloc[idx]['hit_id'])\n",
    "    graph_sel.add_node(idx, \n",
    "                   pos=hits_barrel_no_duplicate_hits.iloc[idx][['r', 'phi', 'z']],\n",
    "                   hit_id=hit_id,\n",
    "                   solution=[0.0])\n",
    "    hits_id_dict[hit_id] = idx"
   ]
  },
  {
   "cell_type": "code",
   "execution_count": 105,
   "metadata": {},
   "outputs": [
    {
     "name": "stdout",
     "output_type": "stream",
     "text": [
      "CPU times: user 4.48 s, sys: 79.4 ms, total: 4.56 s\n",
      "Wall time: 4.56 s\n"
     ]
    }
   ],
   "source": [
    "%%time\n",
    "for idx in range(n_edges_sel):\n",
    "    in_hit_idx  = int(selected_true_segments.iloc[idx]['hit_id_1'])\n",
    "    out_hit_idx = int(selected_true_segments.iloc[idx]['hit_id_2'])\n",
    "\n",
    "    in_node_idx  = hits_id_dict[in_hit_idx]\n",
    "    out_node_idx = hits_id_dict[out_hit_idx]\n",
    "\n",
    "    solution = [1.]\n",
    "    graph_sel.add_edge(out_node_idx, in_node_idx, solution=solution)"
   ]
  },
  {
   "cell_type": "code",
   "execution_count": 164,
   "metadata": {},
   "outputs": [],
   "source": [
    "def get_corrected_trks(nx_G, truth, hits_in_question, feature_name='solution'):\n",
    "    all_true_tracks = wrangler.get_tracks(nx_G, feature_name=feature_name, with_fit=False)\n",
    "    true_df = analysis.graphs_to_df(all_true_tracks)\n",
    "    n_total_predictions = len(np.unique(true_df['track_id']))\n",
    "    print(\"total predictions:\", n_total_predictions)\n",
    "    res_truth = analysis.summary_on_prediction(nx_G, hits_in_question, true_df)\n",
    "    return res_truth"
   ]
  },
  {
   "cell_type": "code",
   "execution_count": null,
   "metadata": {},
   "outputs": [],
   "source": [
    "n_fully_connected_trks = get_corrected_trks(graph_sel, truth, hits_barrel_no_duplicate_hits)"
   ]
  },
  {
   "cell_type": "code",
   "execution_count": 109,
   "metadata": {},
   "outputs": [
    {
     "name": "stdout",
     "output_type": "stream",
     "text": [
      "Correct 3114, Wrong 4378, Isolated 3558, Broken 4306, Connected 72\n"
     ]
    }
   ],
   "source": [
    "print_info(n_fully_connected_trks)"
   ]
  },
  {
   "cell_type": "markdown",
   "metadata": {},
   "source": [
    "### Split selected segments into eta and phi regions"
   ]
  },
  {
   "cell_type": "code",
   "execution_count": 78,
   "metadata": {},
   "outputs": [],
   "source": [
    "eta_range = (-5, 5)\n",
    "phi_range = (-np.pi, np.pi)\n",
    "n_phi_sections = 8\n",
    "n_eta_sections = 2\n",
    "phi_edges = np.linspace(*phi_range, num=n_phi_sections+1)\n",
    "eta_edges = np.linspace(*eta_range, num=n_eta_sections+1)"
   ]
  },
  {
   "cell_type": "code",
   "execution_count": 79,
   "metadata": {},
   "outputs": [],
   "source": [
    "ihit = hits_barrel_no_duplicate_hits"
   ]
  },
  {
   "cell_type": "code",
   "execution_count": 80,
   "metadata": {},
   "outputs": [
    {
     "data": {
      "text/html": [
       "<div>\n",
       "<style scoped>\n",
       "    .dataframe tbody tr th:only-of-type {\n",
       "        vertical-align: middle;\n",
       "    }\n",
       "\n",
       "    .dataframe tbody tr th {\n",
       "        vertical-align: top;\n",
       "    }\n",
       "\n",
       "    .dataframe thead th {\n",
       "        text-align: right;\n",
       "    }\n",
       "</style>\n",
       "<table border=\"1\" class=\"dataframe\">\n",
       "  <thead>\n",
       "    <tr style=\"text-align: right;\">\n",
       "      <th></th>\n",
       "      <th>hit_id</th>\n",
       "      <th>x</th>\n",
       "      <th>y</th>\n",
       "      <th>z</th>\n",
       "      <th>volume_id</th>\n",
       "      <th>layer_id</th>\n",
       "      <th>module_id</th>\n",
       "      <th>particle_id</th>\n",
       "      <th>tx</th>\n",
       "      <th>ty</th>\n",
       "      <th>...</th>\n",
       "      <th>px</th>\n",
       "      <th>py</th>\n",
       "      <th>pz</th>\n",
       "      <th>q</th>\n",
       "      <th>nhits</th>\n",
       "      <th>pt</th>\n",
       "      <th>layer</th>\n",
       "      <th>r</th>\n",
       "      <th>phi</th>\n",
       "      <th>evtid</th>\n",
       "    </tr>\n",
       "  </thead>\n",
       "  <tbody>\n",
       "    <tr>\n",
       "      <th>47472</th>\n",
       "      <td>20402</td>\n",
       "      <td>-9.64435</td>\n",
       "      <td>-30.945299</td>\n",
       "      <td>40.206699</td>\n",
       "      <td>8</td>\n",
       "      <td>2</td>\n",
       "      <td>116</td>\n",
       "      <td>4503668346847232</td>\n",
       "      <td>-9.64306</td>\n",
       "      <td>-30.9454</td>\n",
       "      <td>...</td>\n",
       "      <td>-0.505992</td>\n",
       "      <td>-1.59523</td>\n",
       "      <td>1.72873</td>\n",
       "      <td>-1</td>\n",
       "      <td>12</td>\n",
       "      <td>1.673555</td>\n",
       "      <td>0</td>\n",
       "      <td>32.413345</td>\n",
       "      <td>-1.872914</td>\n",
       "      <td>6600</td>\n",
       "    </tr>\n",
       "  </tbody>\n",
       "</table>\n",
       "<p>1 rows × 28 columns</p>\n",
       "</div>"
      ],
      "text/plain": [
       "       hit_id        x          y          z  volume_id  layer_id  module_id  \\\n",
       "47472   20402 -9.64435 -30.945299  40.206699          8         2        116   \n",
       "\n",
       "            particle_id       tx       ty  ...          px       py       pz  \\\n",
       "47472  4503668346847232 -9.64306 -30.9454  ...   -0.505992 -1.59523  1.72873   \n",
       "\n",
       "       q  nhits        pt  layer          r       phi  evtid  \n",
       "47472 -1     12  1.673555      0  32.413345 -1.872914   6600  \n",
       "\n",
       "[1 rows x 28 columns]"
      ]
     },
     "execution_count": 80,
     "metadata": {},
     "output_type": "execute_result"
    }
   ],
   "source": [
    "ihit.head(1)"
   ]
  },
  {
   "cell_type": "code",
   "execution_count": 81,
   "metadata": {},
   "outputs": [
    {
     "data": {
      "text/plain": [
       "(38753, 28)"
      ]
     },
     "execution_count": 81,
     "metadata": {},
     "output_type": "execute_result"
    }
   ],
   "source": [
    "ihit.shape"
   ]
  },
  {
   "cell_type": "code",
   "execution_count": 82,
   "metadata": {},
   "outputs": [
    {
     "data": {
      "text/html": [
       "<div>\n",
       "<style scoped>\n",
       "    .dataframe tbody tr th:only-of-type {\n",
       "        vertical-align: middle;\n",
       "    }\n",
       "\n",
       "    .dataframe tbody tr th {\n",
       "        vertical-align: top;\n",
       "    }\n",
       "\n",
       "    .dataframe thead th {\n",
       "        text-align: right;\n",
       "    }\n",
       "</style>\n",
       "<table border=\"1\" class=\"dataframe\">\n",
       "  <thead>\n",
       "    <tr style=\"text-align: right;\">\n",
       "      <th></th>\n",
       "      <th>hit_id</th>\n",
       "      <th>x</th>\n",
       "      <th>y</th>\n",
       "      <th>z</th>\n",
       "      <th>volume_id</th>\n",
       "      <th>layer_id</th>\n",
       "      <th>module_id</th>\n",
       "      <th>particle_id</th>\n",
       "      <th>tx</th>\n",
       "      <th>ty</th>\n",
       "      <th>...</th>\n",
       "      <th>py</th>\n",
       "      <th>pz</th>\n",
       "      <th>q</th>\n",
       "      <th>nhits</th>\n",
       "      <th>pt</th>\n",
       "      <th>layer</th>\n",
       "      <th>r</th>\n",
       "      <th>phi</th>\n",
       "      <th>evtid</th>\n",
       "      <th>eta</th>\n",
       "    </tr>\n",
       "  </thead>\n",
       "  <tbody>\n",
       "    <tr>\n",
       "      <th>47472</th>\n",
       "      <td>20402</td>\n",
       "      <td>-9.64435</td>\n",
       "      <td>-30.945299</td>\n",
       "      <td>40.206699</td>\n",
       "      <td>8</td>\n",
       "      <td>2</td>\n",
       "      <td>116</td>\n",
       "      <td>4503668346847232</td>\n",
       "      <td>-9.64306</td>\n",
       "      <td>-30.9454</td>\n",
       "      <td>...</td>\n",
       "      <td>-1.59523</td>\n",
       "      <td>1.72873</td>\n",
       "      <td>-1</td>\n",
       "      <td>12</td>\n",
       "      <td>1.673555</td>\n",
       "      <td>0</td>\n",
       "      <td>32.413345</td>\n",
       "      <td>-1.872914</td>\n",
       "      <td>6600</td>\n",
       "      <td>1.041605</td>\n",
       "    </tr>\n",
       "  </tbody>\n",
       "</table>\n",
       "<p>1 rows × 29 columns</p>\n",
       "</div>"
      ],
      "text/plain": [
       "       hit_id        x          y          z  volume_id  layer_id  module_id  \\\n",
       "47472   20402 -9.64435 -30.945299  40.206699          8         2        116   \n",
       "\n",
       "            particle_id       tx       ty    ...          py       pz  q  \\\n",
       "47472  4503668346847232 -9.64306 -30.9454    ...    -1.59523  1.72873 -1   \n",
       "\n",
       "       nhits        pt  layer          r       phi  evtid       eta  \n",
       "47472     12  1.673555      0  32.413345 -1.872914   6600  1.041605  \n",
       "\n",
       "[1 rows x 29 columns]"
      ]
     },
     "execution_count": 82,
     "metadata": {},
     "output_type": "execute_result"
    }
   ],
   "source": [
    "theta = np.arctan2(ihit.r, ihit.z)\n",
    "eta = -1*np.log(np.tan(theta/2.))\n",
    "ihit = ihit.assign(eta=eta)\n",
    "ihit.head(1)"
   ]
  },
  {
   "cell_type": "code",
   "execution_count": 83,
   "metadata": {},
   "outputs": [],
   "source": [
    "hits_sections = []\n",
    "\n",
    "for i, (phi_min,phi_max) in enumerate(utils_fit.pairwise(phi_edges)):\n",
    "    phi_hits = ihit[(ihit.phi > phi_min) & (ihit.phi < phi_max)]\n",
    "    centered_phi = phi_hits.phi - (phi_min + phi_max) / 2.\n",
    "\n",
    "    phi_hits = phi_hits.assign(phi=centered_phi, phi_section=i)\n",
    "    for j, (eta_min, eta_max) in enumerate(utils_fit.pairwise(eta_edges)):\n",
    "        sec_hits = phi_hits[(phi_hits.eta > eta_min) & (phi_hits.eta < eta_max)]\n",
    "        sec_hits = sec_hits.assign(\n",
    "            r=sec_hits['r'],\n",
    "            z=sec_hits['z'])\n",
    "        hits_sections.append(sec_hits)"
   ]
  },
  {
   "cell_type": "code",
   "execution_count": 84,
   "metadata": {},
   "outputs": [],
   "source": [
    "feature_scale = np.array([1000., np.pi / n_phi_sections, 1000.])\n",
    "feature_names = ['r', 'phi', 'z']\n",
    "l = np.arange(n_det_layers)\n",
    "layer_pairs = np.stack([l[:-1], l[1:]], axis=1)"
   ]
  },
  {
   "cell_type": "code",
   "execution_count": 85,
   "metadata": {},
   "outputs": [],
   "source": [
    "from prepare_hitsgraph import construct_graph"
   ]
  },
  {
   "cell_type": "code",
   "execution_count": 86,
   "metadata": {},
   "outputs": [],
   "source": [
    "hitsgraphs = [construct_graph(section_hits, layer_pairs,\n",
    "                              phi_slope_max=0.0006, z0_max=100,\n",
    "                              feature_names=feature_names, feature_scale=feature_scale)\n",
    "             for section_hits in hits_sections]"
   ]
  },
  {
   "cell_type": "code",
   "execution_count": 87,
   "metadata": {},
   "outputs": [],
   "source": [
    "from datasets.graph import load_graph"
   ]
  },
  {
   "cell_type": "code",
   "execution_count": 88,
   "metadata": {},
   "outputs": [],
   "source": [
    "hits_graph_dir = '/global/homes/x/xju/atlas/heptrkx/data/hitgraphs_big_000/event{:09d}_g{:03d}.npz'\n",
    "hits_graphID_dir = '/global/homes/x/xju/atlas/heptrkx/data/hitgraphs_big_000/event{:09d}_g{:03d}_ID.npz'"
   ]
  },
  {
   "cell_type": "code",
   "execution_count": 89,
   "metadata": {},
   "outputs": [
    {
     "name": "stdout",
     "output_type": "stream",
     "text": [
      "0 mine: (2393, 9617) steve: (2396, 9642)\n",
      "1 mine: (2346, 9383) steve: (2349, 9421)\n",
      "2 mine: (2289, 8915) steve: (2291, 8935)\n",
      "3 mine: (2328, 9000) steve: (2328, 9000)\n",
      "4 mine: (2405, 9858) steve: (2414, 9970)\n",
      "5 mine: (2405, 9714) steve: (2411, 9780)\n",
      "6 mine: (2378, 9889) steve: (2383, 9919)\n",
      "7 mine: (2459, 9861) steve: (2466, 9916)\n",
      "8 mine: (2501, 10237) steve: (2507, 10253)\n",
      "9 mine: (2444, 9966) steve: (2447, 10008)\n",
      "10 mine: (2503, 10823) steve: (2507, 10843)\n",
      "11 mine: (2410, 10305) steve: (2425, 10447)\n",
      "12 mine: (2518, 10254) steve: (2518, 10254)\n",
      "13 mine: (2550, 11160) steve: (2559, 11237)\n",
      "14 mine: (2360, 9741) steve: (2362, 9745)\n",
      "15 mine: (2464, 10474) steve: (2466, 10505)\n"
     ]
    }
   ],
   "source": [
    "for ii, hitsgraph in enumerate(hitsgraphs):\n",
    "    G = load_graph(hits_graph_dir.format(evtid, ii))\n",
    "    print(ii, \"mine:\", hitsgraph[0].Ri.shape, \"steve:\", G.Ri.shape)"
   ]
  },
  {
   "cell_type": "code",
   "execution_count": 90,
   "metadata": {},
   "outputs": [],
   "source": [
    "saved_hitsgraphs = []\n",
    "for ii in range(16):\n",
    "    G = load_graph(hits_graph_dir.format(evtid, ii))\n",
    "    with np.load(hits_graphID_dir.format(evtid, ii)) as f:\n",
    "        hit_ids = pd.DataFrame(f[\"ID\"], columns=['hit_id'])\n",
    "    saved_hitsgraphs += [((G, hit_ids), )]"
   ]
  },
  {
   "cell_type": "markdown",
   "metadata": {},
   "source": [
    "### What is the total tracks that can be constructed with splitted graphs? Total is 3114 if not splitted"
   ]
  },
  {
   "cell_type": "code",
   "execution_count": null,
   "metadata": {},
   "outputs": [],
   "source": [
    "splitted_segments = [create_segments(section_hits, gid_start, gid_end) for section_hits in hits_sections]"
   ]
  },
  {
   "cell_type": "code",
   "execution_count": 122,
   "metadata": {},
   "outputs": [],
   "source": [
    "merged_splitted_segments = pd.concat([item for sublist in splitted_segments for item in sublist], ignore_index=True)"
   ]
  },
  {
   "cell_type": "code",
   "execution_count": 123,
   "metadata": {},
   "outputs": [
    {
     "data": {
      "text/plain": [
       "(9239826, 14)"
      ]
     },
     "execution_count": 123,
     "metadata": {},
     "output_type": "execute_result"
    }
   ],
   "source": [
    "merged_splitted_segments.shape"
   ]
  },
  {
   "cell_type": "code",
   "execution_count": 124,
   "metadata": {},
   "outputs": [
    {
     "data": {
      "text/html": [
       "<div>\n",
       "<style scoped>\n",
       "    .dataframe tbody tr th:only-of-type {\n",
       "        vertical-align: middle;\n",
       "    }\n",
       "\n",
       "    .dataframe tbody tr th {\n",
       "        vertical-align: top;\n",
       "    }\n",
       "\n",
       "    .dataframe thead th {\n",
       "        text-align: right;\n",
       "    }\n",
       "</style>\n",
       "<table border=\"1\" class=\"dataframe\">\n",
       "  <thead>\n",
       "    <tr style=\"text-align: right;\">\n",
       "      <th></th>\n",
       "      <th>evtid</th>\n",
       "      <th>index_1</th>\n",
       "      <th>index_2</th>\n",
       "      <th>hit_id_1</th>\n",
       "      <th>hit_id_2</th>\n",
       "      <th>layer_1</th>\n",
       "      <th>layer_2</th>\n",
       "      <th>dphi</th>\n",
       "      <th>dz</th>\n",
       "      <th>dr</th>\n",
       "      <th>y</th>\n",
       "      <th>phi_slope</th>\n",
       "      <th>z0</th>\n",
       "      <th>deta</th>\n",
       "    </tr>\n",
       "  </thead>\n",
       "  <tbody>\n",
       "    <tr>\n",
       "      <th>0</th>\n",
       "      <td>6600</td>\n",
       "      <td>29164</td>\n",
       "      <td>29165</td>\n",
       "      <td>18190</td>\n",
       "      <td>25925</td>\n",
       "      <td>0</td>\n",
       "      <td>1</td>\n",
       "      <td>0.045688</td>\n",
       "      <td>-74.682297</td>\n",
       "      <td>39.262421</td>\n",
       "      <td>True</td>\n",
       "      <td>0.001164</td>\n",
       "      <td>6.066746</td>\n",
       "      <td>0.051655</td>\n",
       "    </tr>\n",
       "  </tbody>\n",
       "</table>\n",
       "</div>"
      ],
      "text/plain": [
       "   evtid  index_1  index_2  hit_id_1  hit_id_2  layer_1  layer_2      dphi  \\\n",
       "0   6600    29164    29165     18190     25925        0        1  0.045688   \n",
       "\n",
       "          dz         dr     y  phi_slope        z0      deta  \n",
       "0 -74.682297  39.262421  True   0.001164  6.066746  0.051655  "
      ]
     },
     "execution_count": 124,
     "metadata": {},
     "output_type": "execute_result"
    }
   ],
   "source": [
    "merged_splitted_segments.head(1)"
   ]
  },
  {
   "cell_type": "code",
   "execution_count": 125,
   "metadata": {},
   "outputs": [],
   "source": [
    "splitted_selected_segments = merged_splitted_segments[ (merged_splitted_segments.phi_slope.abs() < 0.0006) & (merged_splitted_segments.z0.abs() < 100) ]"
   ]
  },
  {
   "cell_type": "code",
   "execution_count": 126,
   "metadata": {},
   "outputs": [
    {
     "data": {
      "text/plain": [
       "(159197, 14)"
      ]
     },
     "execution_count": 126,
     "metadata": {},
     "output_type": "execute_result"
    }
   ],
   "source": [
    "splitted_selected_segments.shape"
   ]
  },
  {
   "cell_type": "code",
   "execution_count": 127,
   "metadata": {},
   "outputs": [],
   "source": [
    "splitted_selected_true_segments = merged_splitted_segments[ (merged_splitted_segments['y']==True) & (merged_splitted_segments.phi_slope.abs() < 0.0006) & (merged_splitted_segments.z0.abs() < 100) ]"
   ]
  },
  {
   "cell_type": "code",
   "execution_count": 128,
   "metadata": {},
   "outputs": [
    {
     "data": {
      "text/plain": [
       "(12724, 14)"
      ]
     },
     "execution_count": 128,
     "metadata": {},
     "output_type": "execute_result"
    }
   ],
   "source": [
    "splitted_selected_true_segments.shape"
   ]
  },
  {
   "cell_type": "code",
   "execution_count": 129,
   "metadata": {},
   "outputs": [],
   "source": [
    "def df_to_nx(hits, segments, in_name='hit_id_1', out_name='hit_id_2'):\n",
    "\n",
    "    n_nodes = hits.shape[0]\n",
    "    n_edges = segments.shape[0]\n",
    "\n",
    "    graph = nx.Graph()\n",
    "\n",
    "    hits_id_dict = {}\n",
    "    for idx in range(n_nodes):\n",
    "        hit_id = int(hits.iloc[idx]['hit_id'])\n",
    "        graph.add_node(idx, \n",
    "                       pos=hits.iloc[idx][['r', 'phi', 'z']],\n",
    "                       hit_id=hit_id,\n",
    "                       solution=[0.0])\n",
    "        hits_id_dict[hit_id] = idx\n",
    "        \n",
    "    for idx in range(n_edges):\n",
    "        in_hit_idx  = int(segments.iloc[idx][in_name])\n",
    "        out_hit_idx = int(segments.iloc[idx][out_name])\n",
    "\n",
    "        in_node_idx  = hits_id_dict[in_hit_idx]\n",
    "        out_node_idx = hits_id_dict[out_hit_idx]\n",
    "\n",
    "        solution = [1.]\n",
    "        graph.add_edge(out_node_idx, in_node_idx, solution=solution)\n",
    "        \n",
    "    return graph"
   ]
  },
  {
   "cell_type": "code",
   "execution_count": 130,
   "metadata": {},
   "outputs": [
    {
     "name": "stdout",
     "output_type": "stream",
     "text": [
      "CPU times: user 47.2 s, sys: 2.59 s, total: 49.8 s\n",
      "Wall time: 49.8 s\n"
     ]
    }
   ],
   "source": [
    "%%time\n",
    "nx_G_splitted = df_to_nx(hits_barrel_no_duplicate_hits, splitted_selected_true_segments)"
   ]
  },
  {
   "cell_type": "code",
   "execution_count": 144,
   "metadata": {},
   "outputs": [
    {
     "name": "stdout",
     "output_type": "stream",
     "text": [
      "CPU times: user 10min 38s, sys: 3.23 s, total: 10min 41s\n",
      "Wall time: 10min 41s\n"
     ]
    }
   ],
   "source": [
    "%%time\n",
    "n_trks_with_split = get_corrected_trks(nx_G_splitted, truth, hits_barrel_no_duplicate_hits)"
   ]
  },
  {
   "cell_type": "code",
   "execution_count": 147,
   "metadata": {},
   "outputs": [
    {
     "name": "stdout",
     "output_type": "stream",
     "text": [
      "Correct 2668, Wrong 4824, Isolated 3570, Broken 4457, Connected 367\n"
     ]
    }
   ],
   "source": [
    "print_info(n_trks_with_split)"
   ]
  },
  {
   "cell_type": "markdown",
   "metadata": {},
   "source": [
    "### Start GNN's prediction on the splitted graphs"
   ]
  },
  {
   "cell_type": "code",
   "execution_count": 91,
   "metadata": {},
   "outputs": [],
   "source": [
    "config_file = '../configs/nxgraph_default.yaml'\n",
    "input_ckpt = '../trained_results/nxgraph_big_007/bak'\n",
    "iteration = 89908"
   ]
  },
  {
   "cell_type": "code",
   "execution_count": 107,
   "metadata": {},
   "outputs": [],
   "source": [
    "import tensorflow as tf\n",
    "\n",
    "from nx_graph import utils_io, prepare, get_model, utils_data\n",
    "from graph_nets import utils_np, utils_tf"
   ]
  },
  {
   "cell_type": "code",
   "execution_count": 93,
   "metadata": {},
   "outputs": [],
   "source": [
    "import yaml\n",
    "\n",
    "ckpt_name = 'checkpoint_{:05d}.ckpt'\n",
    "\n",
    "def load_config(config_file):\n",
    "    with open(config_file) as f:\n",
    "        return yaml.load(f)"
   ]
  },
  {
   "cell_type": "code",
   "execution_count": 94,
   "metadata": {},
   "outputs": [],
   "source": [
    "config = utils_io.load_config(config_file)"
   ]
  },
  {
   "cell_type": "code",
   "execution_count": 95,
   "metadata": {},
   "outputs": [
    {
     "name": "stdout",
     "output_type": "stream",
     "text": [
      "Total Events: 7000 with 16 sections, total 112000 files \n",
      "Training data: [0, 5599] events, total 89600 files\n",
      "Testing data:  [5600, 7000] events, total 22400 files\n",
      "Training and testing graphs are selected randomly from their corresponding pools\n"
     ]
    }
   ],
   "source": [
    "config_tr = config['train']\n",
    "batch_size = n_graphs   = config_tr['batch_size']   # need optimization\n",
    "num_processing_steps_tr = config_tr['n_iters']      ## level of message-passing\n",
    "prod_name = config['prod_name']\n",
    "if input_ckpt is None:\n",
    "    input_ckpt = os.path.join(config['output_dir'], prod_name)\n",
    "    \n",
    "generate_input_target = prepare.inputs_generator(config['data']['output_nxgraph_dir'], n_train_fraction=0.8)"
   ]
  },
  {
   "cell_type": "code",
   "execution_count": 96,
   "metadata": {},
   "outputs": [],
   "source": [
    "tf.reset_default_graph()\n",
    "model = get_model(config['model']['name'])\n",
    "\n",
    "input_graphs, target_graphs = generate_input_target(n_graphs)\n",
    "input_ph  = utils_tf.placeholders_from_data_dicts(input_graphs, force_dynamic_num_graphs=True)\n",
    "target_ph = utils_tf.placeholders_from_data_dicts(target_graphs, force_dynamic_num_graphs=True)\n",
    "\n",
    "output_ops_tr = model(input_ph, num_processing_steps_tr)"
   ]
  },
  {
   "cell_type": "code",
   "execution_count": 97,
   "metadata": {},
   "outputs": [
    {
     "name": "stdout",
     "output_type": "stream",
     "text": [
      "INFO:tensorflow:Restoring parameters from ../trained_results/nxgraph_big_007/bak/checkpoint_89908.ckpt\n"
     ]
    }
   ],
   "source": [
    "try:\n",
    "    sess.close()\n",
    "except NameError:\n",
    "    pass\n",
    "\n",
    "sess = tf.Session()\n",
    "saver = tf.train.Saver()\n",
    "if iteration < 0:\n",
    "    saver.restore(sess, tf.train.latest_checkpoint(input_ckpt))\n",
    "else:\n",
    "    saver.restore(sess, os.path.join(input_ckpt, 'checkpoint_{:05d}.ckpt'.format(iteration)))"
   ]
  },
  {
   "cell_type": "code",
   "execution_count": 98,
   "metadata": {},
   "outputs": [],
   "source": [
    "def calc_dphi2(phi1, phi2):\n",
    "    \"\"\"Computes phi2-phi1 given in range [-pi,pi]\"\"\"\n",
    "    dphi = phi2 - phi1\n",
    "    if dphi > np.pi:\n",
    "        dphi -= 2*np.pi\n",
    "    if dphi < -np.pi:\n",
    "        dphi += 2*np.pi\n",
    "    return dphi"
   ]
  },
  {
   "cell_type": "code",
   "execution_count": 99,
   "metadata": {},
   "outputs": [],
   "source": [
    "def get_edge_features(in_node, out_node):\n",
    "    # input are the features of incoming and outgoing nodes\n",
    "    # they are ordered as [r, phi, z]\n",
    "    in_r, in_phi, in_z    = in_node\n",
    "    out_r, out_phi, out_z = out_node\n",
    "\n",
    "    in_r3 = np.sqrt(in_r**2 + in_z**2)\n",
    "    out_r3 = np.sqrt(out_r**2 + out_z**2)\n",
    "\n",
    "    in_theta = np.arccos(in_z/in_r3)\n",
    "    in_eta = -np.log(np.tan(in_theta/2.0))\n",
    "    out_theta = np.arccos(out_z/out_r3)\n",
    "    out_eta = -np.log(np.tan(out_theta/2.0))\n",
    "    deta = out_eta - in_eta\n",
    "    dphi = calc_dphi2(out_phi, in_phi)\n",
    "    dR = np.sqrt(deta**2 + dphi**2)\n",
    "    dZ = in_z - out_z\n",
    "    return np.array([deta, dphi, dR, dZ])"
   ]
  },
  {
   "cell_type": "code",
   "execution_count": 100,
   "metadata": {},
   "outputs": [],
   "source": [
    "def hitsgraph_to_nx(GG, use_digraph=True, bidirection=False):\n",
    "    G, G_ID = GG\n",
    "    n_nodes, n_edges = G.Ri.shape\n",
    "\n",
    "    graph = nx.DiGraph() if use_digraph else nx.Graph()\n",
    "\n",
    "    for i in range(n_nodes):\n",
    "        graph.add_node(i, pos=G.X[i],\n",
    "                       hit_id=G_ID.iloc[i],\n",
    "                       solution=[0.0])\n",
    "\n",
    "    for iedge in range(n_edges):\n",
    "        \"\"\"\n",
    "        In_node:  node is a receiver, hits at outer-most layers can only be In-node\n",
    "        Out-node: node is a sender, so hits in inner-most layer can only be Out-node\n",
    "        \"\"\"\n",
    "        in_node_id  = G.Ri[:, iedge].nonzero()[0][0]\n",
    "        out_node_id = G.Ro[:, iedge].nonzero()[0][0]\n",
    "        solution = [G.y[iedge]]\n",
    "        \n",
    "        f1 = graph.node[out_node_id]['pos']\n",
    "        f2 = graph.node[in_node_id]['pos']\n",
    "        edge_features = {'distance':get_edge_features(f2, f1)}\n",
    "        graph.add_edge(out_node_id, in_node_id, solution=solution, **edge_features)\n",
    "        if bidirection:\n",
    "#             edge_features = utils_data.get_edge_features(f2, f1)\n",
    "            graph.add_edge(in_node_id, out_node_id, solution=solution, **edge_features)\n",
    "\n",
    "    # add global features, not used for now\n",
    "    graph.graph['features'] = np.array([0.])\n",
    "    return graph"
   ]
  },
  {
   "cell_type": "code",
   "execution_count": 101,
   "metadata": {},
   "outputs": [],
   "source": [
    "nx_graphs = [hitsgraph_to_nx(G, bidirection=True) for G in hitsgraphs]"
   ]
  },
  {
   "cell_type": "code",
   "execution_count": 102,
   "metadata": {},
   "outputs": [],
   "source": [
    "input_nx_graphs = []\n",
    "target_nx_graphs = []\n",
    "for nx_g in nx_graphs:\n",
    "    ig, tg = prepare.graph_to_input_target(nx_g)\n",
    "    input_nx_graphs.append(ig)\n",
    "    target_nx_graphs.append(tg)"
   ]
  },
  {
   "cell_type": "code",
   "execution_count": 103,
   "metadata": {},
   "outputs": [],
   "source": [
    "input_graphs = utils_np.networkxs_to_graphs_tuple(input_nx_graphs)\n",
    "target_graphs = utils_np.networkxs_to_graphs_tuple(target_nx_graphs)"
   ]
  },
  {
   "cell_type": "code",
   "execution_count": 104,
   "metadata": {},
   "outputs": [],
   "source": [
    "feed_dict = {\n",
    "    input_ph: input_graphs, \n",
    "    target_ph: target_graphs\n",
    "}\n",
    "\n",
    "predictions = sess.run({\n",
    "    \"outputs\": output_ops_tr,\n",
    "    \"target\": target_ph\n",
    "}, feed_dict=feed_dict)"
   ]
  },
  {
   "cell_type": "code",
   "execution_count": 105,
   "metadata": {},
   "outputs": [],
   "source": [
    "output = predictions['outputs'][-1]"
   ]
  },
  {
   "cell_type": "code",
   "execution_count": 108,
   "metadata": {},
   "outputs": [
    {
     "name": "stdout",
     "output_type": "stream",
     "text": [
      "total_graphs 16\n"
     ]
    }
   ],
   "source": [
    "predicted_graphs = utils_data.predicted_graphs_to_nxs(output, input_graphs, target_graphs, bidirection=False)"
   ]
  },
  {
   "cell_type": "code",
   "execution_count": 109,
   "metadata": {},
   "outputs": [],
   "source": [
    "from nx_graph import utils_plot"
   ]
  },
  {
   "cell_type": "code",
   "execution_count": 110,
   "metadata": {},
   "outputs": [],
   "source": [
    "import sklearn.metrics\n",
    "fontsize=16\n",
    "minor_size=14\n",
    "def plot_metrics2(odd, tdd, odd_th=0.5, tdd_th=0.5, outname='roc_graph_nets.eps'):\n",
    "    y_pred, y_true = (odd > odd_th), (tdd > tdd_th)\n",
    "    accuracy  = sklearn.metrics.accuracy_score(y_true, y_pred)\n",
    "    precision = sklearn.metrics.precision_score(y_true, y_pred)\n",
    "    recall    = sklearn.metrics.recall_score(y_true, y_pred)\n",
    "\n",
    "    print('Accuracy:            %.4f' % accuracy)\n",
    "    print('Precision (purity):  %.4f' % precision)\n",
    "    print('Recall (efficiency): %.4f' % recall)\n",
    "\n",
    "    fpr, tpr, _ = sklearn.metrics.roc_curve(y_true, odd)\n",
    "\n",
    "\n",
    "    fig, axs = plt.subplots(2, 2, figsize=(12, 10), constrained_layout=True)\n",
    "    axs = axs.flatten()\n",
    "    ax0, ax1, ax2, ax3 = axs\n",
    "\n",
    "    # Plot the model outputs\n",
    "    # binning=dict(bins=50, range=(0,1), histtype='step', log=True)\n",
    "    binning=dict(bins=50, histtype='step', log=True)\n",
    "    ax0.hist(odd[y_true==False], lw=2, label='fake', **binning)\n",
    "    ax0.hist(odd[y_true], lw=2, label='true', **binning)\n",
    "    ax0.set_xlabel('Model output', fontsize=fontsize)\n",
    "    ax0.tick_params(width=2, grid_alpha=0.5, labelsize=minor_size)\n",
    "    ax0.legend(loc=0, fontsize=fontsize)\n",
    "\n",
    "    # Plot the ROC curve\n",
    "    auc = sklearn.metrics.auc(fpr, tpr)\n",
    "    ax1.plot(fpr, tpr, lw=2)\n",
    "    ax1.plot([0, 1], [0, 1], '--', lw=2)\n",
    "    ax1.set_xlabel('False positive rate', fontsize=fontsize)\n",
    "    ax1.set_ylabel('True positive rate', fontsize=fontsize)\n",
    "    ax1.set_title('ROC curve, AUC = %.4f' % auc, fontsize=fontsize)\n",
    "    ax1.tick_params(width=2, grid_alpha=0.5, labelsize=minor_size)\n",
    "\n",
    "    p, r, t = sklearn.metrics.precision_recall_curve(y_true, odd)\n",
    "    ax2.plot(t, p[:-1], label='purity', lw=2)\n",
    "    ax2.plot(t, r[:-1], label='efficiency', lw=2)\n",
    "    ax2.set_xlabel('Cut on model score', fontsize=fontsize)\n",
    "    ax2.tick_params(width=2, grid_alpha=0.5, labelsize=minor_size)\n",
    "    ax2.legend(fontsize=fontsize)\n",
    "\n",
    "    ax3.plot(p, r, lw=2)\n",
    "    ax3.set_xlabel('Purity', fontsize=fontsize)\n",
    "    ax3.set_ylabel('Efficiency', fontsize=fontsize)\n",
    "    ax3.tick_params(width=2, grid_alpha=0.5, labelsize=minor_size)\n",
    "\n",
    "    plt.savefig(outname)"
   ]
  },
  {
   "cell_type": "code",
   "execution_count": 111,
   "metadata": {},
   "outputs": [
    {
     "name": "stdout",
     "output_type": "stream",
     "text": [
      "Accuracy:            0.9934\n",
      "Precision (purity):  0.9577\n",
      "Recall (efficiency): 0.9592\n"
     ]
    },
    {
     "data": {
      "image/png": "[encoded data removed]",
      "text/plain": [
       "<Figure size 864x720 with 4 Axes>"
      ]
     },
     "metadata": {},
     "output_type": "display_data"
    }
   ],
   "source": [
    "weights_ = []\n",
    "truths_ = []\n",
    "for G in predicted_graphs:\n",
    "    weights_ += [G.edges[edge]['predict'][0] for edge in G.edges()]\n",
    "    truths_  += [G.edges[edge]['solution'][0] for edge in G.edges()]\n",
    "\n",
    "    \n",
    "weights_ = np.array(weights_)\n",
    "truths_ = np.array(truths_)\n",
    "plot_metrics2(weights_, truths_, odd_th=0.5)"
   ]
  },
  {
   "cell_type": "code",
   "execution_count": 114,
   "metadata": {},
   "outputs": [],
   "source": [
    "for input_nx_graph, predicted_graph in zip(input_nx_graphs, predicted_graphs):\n",
    "    n_nodes_input = len(input_nx_graph.nodes())\n",
    "    n_nodes_predict = len(predicted_graph.nodes())\n",
    "    if n_nodes_input == n_nodes_predict:\n",
    "        for inode in range(n_nodes_input):\n",
    "            predicted_graph.node[inode].update(hit_id=input_nx_graph.node[inode]['hit_id'])\n",
    "    else:\n",
    "        print(\"Not the same\")"
   ]
  },
  {
   "cell_type": "code",
   "execution_count": 252,
   "metadata": {},
   "outputs": [
    {
     "data": {
      "text/plain": [
       "{'pos': array([ 0.81527752, -0.07366344, -0.0544    ]), 'hit_id': 103215}"
      ]
     },
     "execution_count": 252,
     "metadata": {},
     "output_type": "execute_result"
    }
   ],
   "source": [
    "predicted_graphs[0].node[0]"
   ]
  },
  {
   "cell_type": "code",
   "execution_count": 253,
   "metadata": {},
   "outputs": [],
   "source": [
    "all_predicted_nodes = sum([len(gg.nodes()) for gg in predicted_graphs])"
   ]
  },
  {
   "cell_type": "code",
   "execution_count": 254,
   "metadata": {},
   "outputs": [
    {
     "name": "stdout",
     "output_type": "stream",
     "text": [
      "38753 38753\n"
     ]
    }
   ],
   "source": [
    "print(all_predicted_nodes, hits_barrel_no_duplicate_hits.shape[0])"
   ]
  },
  {
   "cell_type": "code",
   "execution_count": 255,
   "metadata": {},
   "outputs": [],
   "source": [
    "all_predicted_edges = sum([len(gg.edges()) for gg in predicted_graphs])"
   ]
  },
  {
   "cell_type": "code",
   "execution_count": 256,
   "metadata": {},
   "outputs": [
    {
     "name": "stdout",
     "output_type": "stream",
     "text": [
      "318394 159197\n"
     ]
    }
   ],
   "source": [
    "print(all_predicted_edges, splitted_selected_segments.shape[0])"
   ]
  },
  {
   "cell_type": "code",
   "execution_count": 257,
   "metadata": {},
   "outputs": [
    {
     "data": {
      "text/plain": [
       "{'solution': array([0.]), 'predict': array([5.84421066e-06])}"
      ]
     },
     "execution_count": 257,
     "metadata": {},
     "output_type": "execute_result"
    }
   ],
   "source": [
    "predicted_graphs[0].edges[(0, 801)]"
   ]
  },
  {
   "cell_type": "code",
   "execution_count": 112,
   "metadata": {},
   "outputs": [],
   "source": [
    "def nx_to_pandas(nx_G):\n",
    "    df_nodes = pd.DataFrame([(ii, nx_G.node[ii]['hit_id']) for ii in nx_G.nodes()],\n",
    "                            columns=['node_idx', 'hit_id'])\n",
    "    df_edges = pd.DataFrame([(ii, nx_G.node[ff[0]]['hit_id'], nx_G.node[ff[1]]['hit_id'], ff[2]['predict'][0], ff[2]['solution'][0]) \n",
    "                             for ii, ff in enumerate(nx_G.edges(data=True))],\n",
    "                            columns=['edge_idx', 'sender', 'receiver', 'predict', 'solution'])\n",
    "    return df_nodes, df_edges"
   ]
  },
  {
   "cell_type": "code",
   "execution_count": 115,
   "metadata": {},
   "outputs": [],
   "source": [
    "segments_with_prediction = [nx_to_pandas(jj)[1] for jj in predicted_graphs]"
   ]
  },
  {
   "cell_type": "code",
   "execution_count": 116,
   "metadata": {},
   "outputs": [],
   "source": [
    "merged_segments_with_prediction = pd.concat(segments_with_prediction, ignore_index=True)"
   ]
  },
  {
   "cell_type": "code",
   "execution_count": 261,
   "metadata": {},
   "outputs": [
    {
     "data": {
      "text/html": [
       "<div>\n",
       "<style scoped>\n",
       "    .dataframe tbody tr th:only-of-type {\n",
       "        vertical-align: middle;\n",
       "    }\n",
       "\n",
       "    .dataframe tbody tr th {\n",
       "        vertical-align: top;\n",
       "    }\n",
       "\n",
       "    .dataframe thead th {\n",
       "        text-align: right;\n",
       "    }\n",
       "</style>\n",
       "<table border=\"1\" class=\"dataframe\">\n",
       "  <thead>\n",
       "    <tr style=\"text-align: right;\">\n",
       "      <th></th>\n",
       "      <th>edge_idx</th>\n",
       "      <th>sender</th>\n",
       "      <th>receiver</th>\n",
       "      <th>predict</th>\n",
       "      <th>solution</th>\n",
       "    </tr>\n",
       "  </thead>\n",
       "  <tbody>\n",
       "    <tr>\n",
       "      <th>0</th>\n",
       "      <td>0</td>\n",
       "      <td>103215</td>\n",
       "      <td>87841</td>\n",
       "      <td>0.02781</td>\n",
       "      <td>0.0</td>\n",
       "    </tr>\n",
       "  </tbody>\n",
       "</table>\n",
       "</div>"
      ],
      "text/plain": [
       "   edge_idx  sender  receiver  predict  solution\n",
       "0         0  103215     87841  0.02781       0.0"
      ]
     },
     "execution_count": 261,
     "metadata": {},
     "output_type": "execute_result"
    }
   ],
   "source": [
    "merged_segments_with_prediction.head(1)"
   ]
  },
  {
   "cell_type": "code",
   "execution_count": 117,
   "metadata": {},
   "outputs": [],
   "source": [
    "def df_to_nx2(hits, segments, in_name='hit_id_1', out_name='hit_id_2'):\n",
    "\n",
    "    n_nodes = hits.shape[0]\n",
    "    n_edges = segments.shape[0]\n",
    "\n",
    "    graph = nx.Graph()\n",
    "\n",
    "    hits_id_dict = {}\n",
    "    for idx in range(n_nodes):\n",
    "        hit_id = int(hits.iloc[idx]['hit_id'])\n",
    "        graph.add_node(idx, \n",
    "                       pos=hits.iloc[idx][['r', 'phi', 'z']],\n",
    "                       hit_id=hit_id,\n",
    "                       solution=[0.0])\n",
    "        hits_id_dict[hit_id] = idx\n",
    "        \n",
    "    for idx in range(n_edges):\n",
    "        in_hit_idx  = int(segments.iloc[idx][in_name])\n",
    "        out_hit_idx = int(segments.iloc[idx][out_name])\n",
    "\n",
    "        in_node_idx  = hits_id_dict[in_hit_idx]\n",
    "        out_node_idx = hits_id_dict[out_hit_idx]\n",
    "\n",
    "        graph.add_edge(out_node_idx, in_node_idx,\n",
    "                       solution=np.array([segments.iloc[idx]['solution']]),\n",
    "                       predict=np.array([segments.iloc[idx]['predict']])\n",
    "                      )\n",
    "    return graph"
   ]
  },
  {
   "cell_type": "code",
   "execution_count": null,
   "metadata": {},
   "outputs": [],
   "source": [
    "hits_after_split_graph = hits_barrel_no_duplicate_hits[hits_barrel_no_duplicate_hits['particle_id'].isin()]"
   ]
  },
  {
   "cell_type": "code",
   "execution_count": 118,
   "metadata": {},
   "outputs": [
    {
     "data": {
      "text/plain": [
       "(318394, 5)"
      ]
     },
     "execution_count": 118,
     "metadata": {},
     "output_type": "execute_result"
    }
   ],
   "source": [
    "merged_segments_with_prediction.shape"
   ]
  },
  {
   "cell_type": "code",
   "execution_count": 150,
   "metadata": {},
   "outputs": [
    {
     "data": {
      "text/html": [
       "<div>\n",
       "<style scoped>\n",
       "    .dataframe tbody tr th:only-of-type {\n",
       "        vertical-align: middle;\n",
       "    }\n",
       "\n",
       "    .dataframe tbody tr th {\n",
       "        vertical-align: top;\n",
       "    }\n",
       "\n",
       "    .dataframe thead th {\n",
       "        text-align: right;\n",
       "    }\n",
       "</style>\n",
       "<table border=\"1\" class=\"dataframe\">\n",
       "  <thead>\n",
       "    <tr style=\"text-align: right;\">\n",
       "      <th></th>\n",
       "      <th>edge_idx</th>\n",
       "      <th>sender</th>\n",
       "      <th>receiver</th>\n",
       "      <th>predict</th>\n",
       "      <th>solution</th>\n",
       "    </tr>\n",
       "  </thead>\n",
       "  <tbody>\n",
       "    <tr>\n",
       "      <th>0</th>\n",
       "      <td>0</td>\n",
       "      <td>103215</td>\n",
       "      <td>87841</td>\n",
       "      <td>0.02781</td>\n",
       "      <td>0.0</td>\n",
       "    </tr>\n",
       "  </tbody>\n",
       "</table>\n",
       "</div>"
      ],
      "text/plain": [
       "   edge_idx  sender  receiver  predict  solution\n",
       "0         0  103215     87841  0.02781       0.0"
      ]
     },
     "execution_count": 150,
     "metadata": {},
     "output_type": "execute_result"
    }
   ],
   "source": [
    "merged_segments_with_prediction.head(1)"
   ]
  },
  {
   "cell_type": "code",
   "execution_count": 148,
   "metadata": {},
   "outputs": [],
   "source": [
    "### select segments that survives from above selections\n",
    "particles_after_split_graph = n_trks_with_split['correct_pids']"
   ]
  },
  {
   "cell_type": "code",
   "execution_count": 149,
   "metadata": {},
   "outputs": [],
   "source": [
    "hits_after_split_graph = hits_barrel_no_duplicate_hits[hits_barrel_no_duplicate_hits['particle_id'].isin(particles_after_split_graph)]"
   ]
  },
  {
   "cell_type": "code",
   "execution_count": 153,
   "metadata": {},
   "outputs": [],
   "source": [
    "segments_with_prediction_after_split_graph = merged_segments_with_prediction[(merged_segments_with_prediction['sender'].isin(hits_after_split_graph['hit_id'].values)) & (merged_segments_with_prediction['receiver'].isin(hits_after_split_graph['hit_id'].values))]"
   ]
  },
  {
   "cell_type": "code",
   "execution_count": 154,
   "metadata": {},
   "outputs": [],
   "source": [
    "nx_G_GNN_after_split_graph = df_to_nx2(hits_after_split_graph, segments_with_prediction_after_split_graph, in_name='sender', out_name='receiver')"
   ]
  },
  {
   "cell_type": "code",
   "execution_count": 156,
   "metadata": {},
   "outputs": [],
   "source": [
    "all_gnn_tracks = wrangler.get_tracks(nx_G_GNN_after_split_graph, feature_name=feature_name, with_fit=False)"
   ]
  },
  {
   "cell_type": "code",
   "execution_count": 159,
   "metadata": {},
   "outputs": [],
   "source": [
    "gnn_pred_tracks = analysis.graphs_to_df(all_gnn_tracks)"
   ]
  },
  {
   "cell_type": "code",
   "execution_count": 160,
   "metadata": {},
   "outputs": [
    {
     "name": "stdout",
     "output_type": "stream",
     "text": [
      "2650\n"
     ]
    }
   ],
   "source": [
    "n_total_predictions = len(np.unique(gnn_pred_tracks['track_id']))\n",
    "print(n_total_predictions)"
   ]
  },
  {
   "cell_type": "code",
   "execution_count": 161,
   "metadata": {},
   "outputs": [
    {
     "data": {
      "text/plain": [
       "0.9773584905660377"
      ]
     },
     "execution_count": 161,
     "metadata": {},
     "output_type": "execute_result"
    }
   ],
   "source": [
    "2590./2650"
   ]
  },
  {
   "cell_type": "code",
   "execution_count": 165,
   "metadata": {},
   "outputs": [
    {
     "name": "stdout",
     "output_type": "stream",
     "text": [
      "total predictions: 2650\n"
     ]
    }
   ],
   "source": [
    "n_trks_with_splitGNN_after_split = get_corrected_trks(nx_G_GNN_after_split_graph, truth, hits_after_split_graph, feature_name='predict')"
   ]
  },
  {
   "cell_type": "code",
   "execution_count": 166,
   "metadata": {},
   "outputs": [
    {
     "name": "stdout",
     "output_type": "stream",
     "text": [
      "Correct 2612, Wrong 56, Isolated 0, Broken 0, Connected 56\n"
     ]
    }
   ],
   "source": [
    "print_info(n_trks_with_splitGNN_after_split)"
   ]
  },
  {
   "cell_type": "code",
   "execution_count": 167,
   "metadata": {},
   "outputs": [
    {
     "data": {
      "text/plain": [
       "0.9856603773584905"
      ]
     },
     "execution_count": 167,
     "metadata": {},
     "output_type": "execute_result"
    }
   ],
   "source": [
    "2612/2650"
   ]
  },
  {
   "cell_type": "code",
   "execution_count": 168,
   "metadata": {},
   "outputs": [
    {
     "data": {
      "text/plain": [
       "0.06740123345289396"
      ]
     },
     "execution_count": 168,
     "metadata": {},
     "output_type": "execute_result"
    }
   ],
   "source": [
    "2612/38753"
   ]
  },
  {
   "cell_type": "code",
   "execution_count": null,
   "metadata": {},
   "outputs": [],
   "source": []
  },
  {
   "cell_type": "code",
   "execution_count": 119,
   "metadata": {},
   "outputs": [],
   "source": [
    "nx_G_splitted_withPrediction = df_to_nx2(hits_barrel_no_duplicate_hits, merged_segments_with_prediction, in_name='sender', out_name='receiver')"
   ]
  },
  {
   "cell_type": "code",
   "execution_count": 120,
   "metadata": {},
   "outputs": [
    {
     "name": "stdout",
     "output_type": "stream",
     "text": [
      "38753\n"
     ]
    }
   ],
   "source": [
    "print(len(nx_G_splitted_withPrediction))"
   ]
  },
  {
   "cell_type": "code",
   "execution_count": 138,
   "metadata": {},
   "outputs": [],
   "source": [
    "feature_name='predict'\n",
    "all_gnn_tracks = wrangler.get_tracks(nx_G_splitted_withPrediction, feature_name=feature_name, with_fit=False)"
   ]
  },
  {
   "cell_type": "code",
   "execution_count": 141,
   "metadata": {},
   "outputs": [],
   "source": [
    "gnn_pred_tracks = analysis.graphs_to_df(all_gnn_tracks)"
   ]
  },
  {
   "cell_type": "code",
   "execution_count": 142,
   "metadata": {},
   "outputs": [],
   "source": [
    "n_total_predictions = len(np.unique(gnn_pred_tracks['track_id']))"
   ]
  },
  {
   "cell_type": "code",
   "execution_count": 143,
   "metadata": {},
   "outputs": [
    {
     "data": {
      "text/plain": [
       "24537"
      ]
     },
     "execution_count": 143,
     "metadata": {},
     "output_type": "execute_result"
    }
   ],
   "source": [
    "n_total_predictions"
   ]
  },
  {
   "cell_type": "code",
   "execution_count": 284,
   "metadata": {},
   "outputs": [
    {
     "name": "stdout",
     "output_type": "stream",
     "text": [
      "CPU times: user 12min 39s, sys: 13.5 s, total: 12min 52s\n",
      "Wall time: 12min 53s\n"
     ]
    }
   ],
   "source": [
    "%%time\n",
    "n_trks_with_splitGNN = get_corrected_trks(nx_G_splitted_withPrediction, truth, hits_barrel_no_duplicate_hits, feature_name='predict')"
   ]
  },
  {
   "cell_type": "code",
   "execution_count": 285,
   "metadata": {},
   "outputs": [
    {
     "name": "stdout",
     "output_type": "stream",
     "text": [
      "Correct 2590, Wrong 4902, Isolated 14, Broken 1286, Connected 3616\n"
     ]
    }
   ],
   "source": [
    "print_info(n_trks_with_splitGNN)"
   ]
  },
  {
   "cell_type": "markdown",
   "metadata": {},
   "source": [
    "### pT distribution at different stages and their ratios"
   ]
  },
  {
   "cell_type": "code",
   "execution_count": 271,
   "metadata": {},
   "outputs": [],
   "source": [
    "hits_barrel_no_dup_no_missing = hits_barrel_no_duplicate_hits[~hits_barrel_no_duplicate_hits['particle_id'].isin(broken_tracks)]"
   ]
  },
  {
   "cell_type": "code",
   "execution_count": 273,
   "metadata": {},
   "outputs": [
    {
     "name": "stdout",
     "output_type": "stream",
     "text": [
      "6600\n"
     ]
    }
   ],
   "source": [
    "bb_no_missing_pids = np.unique(hits_barrel_no_dup_no_missing['particle_id'])\n",
    "print(len(bb_no_missing_pids))"
   ]
  },
  {
   "cell_type": "code",
   "execution_count": 299,
   "metadata": {},
   "outputs": [
    {
     "data": {
      "text/plain": [
       "array([0. , 0.1, 0.2, 0.3, 0.4, 0.5, 0.6, 0.7, 0.8, 0.9, 1. , 1.1, 1.2,\n",
       "       1.3, 1.4, 1.5, 1.6, 1.7, 1.8, 1.9, 2. , 2.1, 2.2, 2.3, 2.4, 2.5,\n",
       "       2.6, 2.7, 2.8, 2.9, 3. , 3.1, 3.2, 3.3, 3.4, 3.5, 3.6, 3.7, 3.8,\n",
       "       3.9, 4. , 4.1, 4.2, 4.3, 4.4, 4.5, 4.6, 4.7, 4.8, 4.9, 5. ])"
      ]
     },
     "execution_count": 299,
     "metadata": {},
     "output_type": "execute_result"
    }
   ],
   "source": []
  },
  {
   "cell_type": "code",
   "execution_count": null,
   "metadata": {},
   "outputs": [],
   "source": []
  },
  {
   "cell_type": "code",
   "execution_count": 385,
   "metadata": {},
   "outputs": [
    {
     "data": {
      "image/png": "[encoded data removed]",
      "text/plain": [
       "<Figure size 576x576 with 1 Axes>"
      ]
     },
     "metadata": {},
     "output_type": "display_data"
    }
   ],
   "source": [
    "fig, ax = plt.subplots(figsize=(8, 8), constrained_layout=True)\n",
    "bins = [-0.1, 0.1, 0.3, 0.5, 0.7, 0.9, 1.1, 1.5, 1.9, 2.4, 5]\n",
    "hist_configs = {\n",
    "    'bins': bins,\n",
    "    'histtype': 'step',\n",
    "    'lw': 2,\n",
    "    'log': True\n",
    "}\n",
    "\n",
    "tot_vals, bins, _ = ax.hist(particles['pt'], **hist_configs, label='total')\n",
    "\n",
    "constructable_vals, bins, _ = ax.hist(particles[particles['particle_id'].isin(np.unique(reconstructable_particles.particle_id))]['pt'],\n",
    "                                  **hist_configs, label='reconstructable')\n",
    "\n",
    "bb_vals, bins, _ = ax.hist(particles[particles['particle_id'].isin(barrel_particles)]['pt'], **hist_configs, label='barrel')\n",
    "miss_hits_vals, bins, _ = ax.hist(particles[particles['particle_id'].isin(bb_no_missing_pids)]['pt'],\n",
    "                                  **hist_configs, label='no-missing-hits')\n",
    "graph_forming_vals, bins, _ = ax.hist(particles[particles['particle_id'].isin(n_fully_connected_trks['correct_pids'].values)]['pt'],\n",
    "                                  **hist_configs, label='Edge selection')\n",
    "split_graph_vals, bins, _ = ax.hist(particles[particles['particle_id'].isin(n_trks_with_split['correct_pids'].values)]['pt'],\n",
    "                                  **hist_configs, label='Split Graph')\n",
    "gnn_vals, bins, _ = ax.hist(particles[particles['particle_id'].isin(n_trks_with_splitGNN['correct_pids'].values)]['pt'],\n",
    "                                  **hist_configs, label='GNN+CTD')\n",
    "ax.set_ylabel('N particles', fontsize=fontsize)\n",
    "ax.set_xlabel('pT [GeV]', fontsize=fontsize)\n",
    "ax.tick_params(width=2, grid_alpha=0.5, labelsize=minor_size)\n",
    "ax.set_ylim(10, 5000)\n",
    "ax.legend(fontsize=fontsize)\n",
    "plt.savefig(\"number_of_particles_vs_pt.eps\")\n",
    "plt.savefig(\"number_of_particles_vs_pt.png\")"
   ]
  },
  {
   "cell_type": "code",
   "execution_count": 316,
   "metadata": {},
   "outputs": [],
   "source": [
    "def get_ratio(x_vals, y_vals):\n",
    "    res = [x/y if y!=0 else 0.0 for x,y in zip(x_vals, y_vals)]\n",
    "    return res[1:]"
   ]
  },
  {
   "cell_type": "code",
   "execution_count": null,
   "metadata": {},
   "outputs": [],
   "source": []
  },
  {
   "cell_type": "code",
   "execution_count": null,
   "metadata": {},
   "outputs": [],
   "source": [
    "tot_ratio = get_ratio(tot_vals, tot_vals)\n",
    "constructable_ratio = get_ratio(constructable_vals, tot_vals)\n",
    "bb_ratio  = get_ratio(bb_vals, tot_vals)\n",
    "misshits_ratio  = get_ratio(miss_hits_vals, tot_vals)\n",
    "graphforming_ratio = get_ratio(graph_forming_vals, tot_vals)\n",
    "graphsplit_ratio = get_ratio(split_graph_vals, tot_vals)\n",
    "gnn_ratio = get_ratio(gnn_vals, tot_vals)"
   ]
  },
  {
   "cell_type": "code",
   "execution_count": 387,
   "metadata": {},
   "outputs": [],
   "source": [
    "ratio_dict = {\n",
    "    \"total\": tot_ratio, \n",
    "    \"reconstructable\": constructable_ratio,\n",
    "    \"barrel\": bb_ratio,\n",
    "    \"no-missing-hits\": misshits_ratio,\n",
    "    'Edge selection': graphforming_ratio,\n",
    "    'Split Graph': graphsplit_ratio,\n",
    "    'GNN+CTD': gnn_ratio\n",
    "}"
   ]
  },
  {
   "cell_type": "code",
   "execution_count": 372,
   "metadata": {},
   "outputs": [
    {
     "name": "stdout",
     "output_type": "stream",
     "text": [
      "[0.9923518164435946, 0.9968553459119497, 0.968365553602812, 0.955, 0.9527896995708155, 0.9507042253521126, 0.9636363636363636, 0.9438202247191011, 0.9871794871794872]\n"
     ]
    }
   ],
   "source": [
    "gnn_ratio2 = get_ratio(gnn_vals, split_graph_vals)\n",
    "print(gnn_ratio2)"
   ]
  },
  {
   "cell_type": "code",
   "execution_count": 373,
   "metadata": {},
   "outputs": [],
   "source": [
    "xvals = [0.5*(x[0]+x[1]) for x in utils_fit.pairwise(bins)][1:]"
   ]
  },
  {
   "cell_type": "code",
   "execution_count": 384,
   "metadata": {},
   "outputs": [
    {
     "data": {
      "image/png": "[encoded data removed]",
      "text/plain": [
       "<Figure size 576x576 with 1 Axes>"
      ]
     },
     "metadata": {},
     "output_type": "display_data"
    }
   ],
   "source": [
    "fig, ax = plt.subplots(figsize=(8, 8), constrained_layout=True)\n",
    "\n",
    "line_configs = {'lw': 2}\n",
    "lstype = '-o'\n",
    "ax.plot(xvals, tot_ratio, lstype, **line_configs, label=\"total\")\n",
    "ax.plot(xvals, constructable_ratio, lstype, **line_configs, label=\"reconstructable\")\n",
    "ax.plot(xvals, bb_ratio, lstype, **line_configs, label='barrel')\n",
    "ax.plot(xvals, misshits_ratio, lstype, **line_configs, label='no-missing-hits')\n",
    "ax.plot(xvals, graphforming_ratio, lstype, **line_configs, label='Edge selection')\n",
    "ax.plot(xvals, graphsplit_ratio, lstype, **line_configs, label='Split Graph')\n",
    "ax.plot(xvals, gnn_ratio, lstype, **line_configs, label='GNN+CTD')\n",
    "ax.set_ylim(0, 1.05)\n",
    "ax.tick_params(width=2, grid_alpha=0.5, labelsize=minor_size)\n",
    "ax.set_ylabel(\"N particles after selection / N total particles\", fontsize=fontsize)\n",
    "ax.set_xlabel(\"pT [GeV]\", fontsize=fontsize)\n",
    "ax.legend(fontsize=fontsize)\n",
    "plt.savefig(\"selection_efficiency_vs_particle_pt.eps\")\n",
    "plt.savefig(\"selection_efficiency_vs_particle_pt.png\")"
   ]
  },
  {
   "cell_type": "code",
   "execution_count": 396,
   "metadata": {},
   "outputs": [],
   "source": [
    "def plot_ratio(x, y_list, labels):\n",
    "    fig, ax = plt.subplots(figsize=(8, 8), constrained_layout=True)\n",
    "\n",
    "    line_configs = {'lw': 2}\n",
    "    lstype = '-o'\n",
    "    for y,label in zip(y_list, labels):\n",
    "        ax.plot(x, y, lstype, **line_configs, label=label)\n",
    "    ax.set_ylim(0, 1.05)\n",
    "    ax.tick_params(width=2, grid_alpha=0.5, labelsize=minor_size)\n",
    "    ax.set_ylabel(\"N particles after selection / N total particles\", fontsize=fontsize)\n",
    "    ax.set_xlabel(\"pT [GeV]\", fontsize=fontsize)\n",
    "    ax.legend(fontsize=fontsize, loc=4)\n",
    "    plt.savefig(\"selection_efficiency_vs_particle_pt_{}.eps\".format(label))\n",
    "    plt.savefig(\"selection_efficiency_vs_particle_pt_{}.png\".format(label))"
   ]
  },
  {
   "cell_type": "code",
   "execution_count": 397,
   "metadata": {},
   "outputs": [
    {
     "data": {
      "image/png": "[encoded data removed]",
      "text/plain": [
       "<Figure size 576x576 with 1 Axes>"
      ]
     },
     "metadata": {},
     "output_type": "display_data"
    },
    {
     "data": {
      "image/png": "[encoded data removed]",
      "text/plain": [
       "<Figure size 576x576 with 1 Axes>"
      ]
     },
     "metadata": {},
     "output_type": "display_data"
    },
    {
     "data": {
      "image/png": "[encoded data removed]",
      "text/plain": [
       "<Figure size 576x576 with 1 Axes>"
      ]
     },
     "metadata": {},
     "output_type": "display_data"
    },
    {
     "data": {
      "image/png": "[encoded data removed]",
      "text/plain": [
       "<Figure size 576x576 with 1 Axes>"
      ]
     },
     "metadata": {},
     "output_type": "display_data"
    },
    {
     "data": {
      "image/png": "[encoded data removed]",
      "text/plain": [
       "<Figure size 576x576 with 1 Axes>"
      ]
     },
     "metadata": {},
     "output_type": "display_data"
    },
    {
     "data": {
      "image/png": "[encoded data removed]",
      "text/plain": [
       "<Figure size 576x576 with 1 Axes>"
      ]
     },
     "metadata": {},
     "output_type": "display_data"
    },
    {
     "data": {
      "image/png": "[encoded data removed]",
      "text/plain": [
       "<Figure size 576x576 with 1 Axes>"
      ]
     },
     "metadata": {},
     "output_type": "display_data"
    }
   ],
   "source": [
    "# prop_cycle = plt.rcParams['axes.prop_cycle']\n",
    "# colors = prop_cycle.by_key()['color']\n",
    "icolor = 0\n",
    "ratio_to_plot = []\n",
    "labels_to_plot = []\n",
    "for key,value in ratio_dict.items():\n",
    "    ratio_to_plot.append(value)\n",
    "    labels_to_plot.append(key)\n",
    "    plot_ratio(xvals, ratio_to_plot, labels_to_plot)\n",
    "    icolor += 1"
   ]
  },
  {
   "cell_type": "code",
   "execution_count": null,
   "metadata": {},
   "outputs": [],
   "source": []
  },
  {
   "cell_type": "code",
   "execution_count": 383,
   "metadata": {},
   "outputs": [
    {
     "data": {
      "image/png": "[encoded data removed]",
      "text/plain": [
       "<Figure size 576x576 with 1 Axes>"
      ]
     },
     "metadata": {},
     "output_type": "display_data"
    }
   ],
   "source": [
    "constructable_ratio2 = get_ratio(constructable_vals, constructable_vals)\n",
    "bb_ratio2  = get_ratio(bb_vals, constructable_vals)\n",
    "misshits_ratio2  = get_ratio(miss_hits_vals, constructable_vals)\n",
    "graphforming_ratio2 = get_ratio(graph_forming_vals, constructable_vals)\n",
    "graphsplit_ratio2 = get_ratio(split_graph_vals, constructable_vals)\n",
    "gnn_ratio2 = get_ratio(gnn_vals, constructable_vals)\n",
    "\n",
    "\n",
    "fig, ax = plt.subplots(figsize=(8, 8), constrained_layout=True)\n",
    "\n",
    "line_configs = {'lw': 2}\n",
    "lstype = '-o'\n",
    "ax.plot(xvals, constructable_ratio2, lstype, **line_configs, label=\"reconstructable\")\n",
    "ax.plot(xvals, bb_ratio2, lstype, **line_configs, label='barrel')\n",
    "ax.plot(xvals, misshits_ratio2, lstype, **line_configs, label='no-missing-hits')\n",
    "ax.plot(xvals, graphforming_ratio2, lstype, **line_configs, label='Edge selection')\n",
    "ax.plot(xvals, graphsplit_ratio2, lstype, **line_configs, label='Split Graph')\n",
    "ax.plot(xvals, gnn_ratio2, lstype, **line_configs, label='GNN+CTD')\n",
    "ax.set_ylim(0, 1.05)\n",
    "ax.tick_params(width=2, grid_alpha=0.5, labelsize=minor_size)\n",
    "ax.set_ylabel(\"N particles after selection / N constructable particles\", fontsize=fontsize)\n",
    "ax.set_xlabel(\"pT [GeV]\", fontsize=fontsize)\n",
    "ax.legend(fontsize=fontsize)\n",
    "plt.savefig(\"selection_efficiency_wrt_constructable_vs_particle_pt.eps\")\n",
    "plt.savefig(\"selection_efficiency_wrt_constructable_vs_particle_pt.png\")"
   ]
  },
  {
   "cell_type": "code",
   "execution_count": 331,
   "metadata": {},
   "outputs": [
    {
     "name": "stderr",
     "output_type": "stream",
     "text": [
      "No handles with labels found to put in legend.\n"
     ]
    },
    {
     "data": {
      "text/plain": [
       "<matplotlib.legend.Legend at 0x2ab1e8d55898>"
      ]
     },
     "execution_count": 331,
     "metadata": {},
     "output_type": "execute_result"
    },
    {
     "data": {
      "image/png": "[encoded data removed]",
      "text/plain": [
       "<Figure size 576x576 with 1 Axes>"
      ]
     },
     "metadata": {},
     "output_type": "display_data"
    }
   ],
   "source": [
    "fig, ax = plt.subplots(figsize=(8, 8), constrained_layout=True)\n",
    "\n",
    "line_configs = {'lw': 2}\n",
    "lstype = '-o'\n",
    "ax.plot(xvals, gnn_ratio2, lstype, **line_configs)\n",
    "ax.set_ylim(0, 1.05)\n",
    "ax.tick_params(width=2, grid_alpha=0.5, labelsize=minor_size)\n",
    "# ax.set_ylabel(\"N particles after GNN / N total particles after \", fontsize=fontsize)\n",
    "ax.set_xlabel(\"pT [GeV]\", fontsize=fontsize)\n",
    "ax.set_title(\"N particles after GNN / N particls after Split Graph\")\n",
    "ax.set_ylim(0.9, 1.01)\n",
    "ax.legend(fontsize=fontsize)"
   ]
  },
  {
   "cell_type": "code",
   "execution_count": null,
   "metadata": {},
   "outputs": [],
   "source": []
  }
 ],
 "metadata": {
  "kernelspec": {
   "display_name": "Python 3",
   "language": "python",
   "name": "python3"
  },
  "language_info": {
   "codemirror_mode": {
    "name": "ipython",
    "version": 3
   },
   "file_extension": ".py",
   "mimetype": "text/x-python",
   "name": "python",
   "nbconvert_exporter": "python",
   "pygments_lexer": "ipython3",
   "version": "3.7.3"
  }
 },
 "nbformat": 4,
 "nbformat_minor": 4
}
