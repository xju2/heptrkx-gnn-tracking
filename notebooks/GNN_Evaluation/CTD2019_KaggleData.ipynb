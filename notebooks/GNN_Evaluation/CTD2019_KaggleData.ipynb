{
 "cells": [
  {
   "cell_type": "markdown",
   "metadata": {},
   "source": [
    "# Tensor Flow with High density, trained with weighted Loss function"
   ]
  },
  {
   "cell_type": "code",
   "execution_count": 9,
   "metadata": {},
   "outputs": [],
   "source": [
    "\n",
    "import networkx as nx\n",
    "import numpy as np\n",
    "import matplotlib.pyplot as plt\n",
    "\n",
    "from graph_nets import utils_np\n",
    "from trackml.dataset import load_event\n",
    "\n",
    "from heptrkx.nx_graph.utils_plot import plot_networkx\n",
    "from heptrkx.nx_graph.utils_data import correct_networkx\n",
    "from heptrkx.nx_graph.utils_data import merge_truth_info_to_hits\n",
    "from heptrkx.postprocess.evaluate_tf import create_evaluator\n",
    "from heptrkx import load_yaml\n",
    "\n",
    "import os\n",
    "import glob"
   ]
  },
  {
   "cell_type": "code",
   "execution_count": 7,
   "metadata": {},
   "outputs": [
    {
     "name": "stderr",
     "output_type": "stream",
     "text": [
      "W1031 16:38:07.633769 46912496622976 deprecation_wrapper.py:119] From /global/homes/x/xju/.conda/envs/heptrk/lib/python3.6/site-packages/sonnet/python/modules/base.py:177: The name tf.make_template is deprecated. Please use tf.compat.v1.make_template instead.\n",
      "\n",
      "W1031 16:38:07.710573 46912496622976 deprecation_wrapper.py:119] From /global/homes/x/xju/.conda/envs/heptrk/lib/python3.6/site-packages/sonnet/python/modules/base.py:278: The name tf.get_default_graph is deprecated. Please use tf.compat.v1.get_default_graph instead.\n",
      "\n",
      "W1031 16:38:07.711924 46912496622976 deprecation_wrapper.py:119] From /global/homes/x/xju/.conda/envs/heptrk/lib/python3.6/site-packages/sonnet/python/modules/base.py:579: The name tf.variable_scope is deprecated. Please use tf.compat.v1.variable_scope instead.\n",
      "\n"
     ]
    },
    {
     "name": "stdout",
     "output_type": "stream",
     "text": [
      "Total Events: 4786 with 16 sections, total 76576 files \n",
      "Training data: [0, 3827] events, total 61248 files\n",
      "Testing data:  [3828, 4786] events, total 15328 files\n",
      "Training and testing graphs are selected sequantially from their corresponding pools\n"
     ]
    },
    {
     "name": "stderr",
     "output_type": "stream",
     "text": [
      "W1031 16:38:08.459224 46912496622976 deprecation.py:506] From /global/homes/x/xju/.conda/envs/heptrk/lib/python3.6/site-packages/sonnet/python/modules/basic.py:126: calling TruncatedNormal.__init__ (from tensorflow.python.ops.init_ops) with dtype is deprecated and will be removed in a future version.\n",
      "Instructions for updating:\n",
      "Call initializer instance with the dtype argument instead of passing it to the constructor\n",
      "W1031 16:38:08.461062 46912496622976 deprecation.py:506] From /global/homes/x/xju/.conda/envs/heptrk/lib/python3.6/site-packages/sonnet/python/modules/basic.py:131: calling Zeros.__init__ (from tensorflow.python.ops.init_ops) with dtype is deprecated and will be removed in a future version.\n",
      "Instructions for updating:\n",
      "Call initializer instance with the dtype argument instead of passing it to the constructor\n",
      "W1031 16:38:09.646521 46912496622976 deprecation_wrapper.py:119] From /global/project/projectdirs/atlas/xju/heptrack/gnn/code/heptrkx/heptrkx/postprocess/evaluate_tf.py:51: The name tf.train.Saver is deprecated. Please use tf.compat.v1.train.Saver instead.\n",
      "\n",
      "W1031 16:38:09.712157 46912496622976 deprecation.py:323] From /global/homes/x/xju/.conda/envs/heptrk/lib/python3.6/site-packages/tensorflow/python/training/saver.py:1276: checkpoint_exists (from tensorflow.python.training.checkpoint_management) is deprecated and will be removed in a future version.\n",
      "Instructions for updating:\n",
      "Use standard file APIs to check for files with this prefix.\n"
     ]
    }
   ],
   "source": [
    "config_file = '../configs/train_edge_classifier_kaggle.yaml'\n",
    "input_ckpt = '/global/project/projectdirs/atlas/xju/heptrkx/models/trackml/nxgraph_big_007/bak'\n",
    "iteration = 89908\n",
    "\n",
    "model = create_evaluator(config_file, iteration, input_ckpt)"
   ]
  },
  {
   "cell_type": "code",
   "execution_count": 16,
   "metadata": {},
   "outputs": [],
   "source": [
    "config = load_yaml(config_file)\n",
    "file_dir = config['make_graph']['out_graph']\n",
    "hits_graph_dir = config['data']['input_hitsgraph_dir']\n",
    "trk_dir = config['track_ml']['dir']\n",
    "\n",
    "base_dir =  os.path.join(file_dir, \"event{:09d}_g{:09d}_INPUT.npz\")\n",
    "true_features = ['pt', 'particle_id', 'nhits']"
   ]
  },
  {
   "cell_type": "code",
   "execution_count": 17,
   "metadata": {},
   "outputs": [
    {
     "name": "stdout",
     "output_type": "stream",
     "text": [
      "/global/cscratch1/sd/xju/heptrkx/data/nxgraphs_big_000\n"
     ]
    }
   ],
   "source": [
    "print(file_dir)"
   ]
  },
  {
   "cell_type": "code",
   "execution_count": 18,
   "metadata": {},
   "outputs": [],
   "source": [
    "evtid = 1391\n",
    "isec = -1\n",
    "batch_size = 4"
   ]
  },
  {
   "cell_type": "code",
   "execution_count": 19,
   "metadata": {},
   "outputs": [],
   "source": [
    "file_names = []\n",
    "if isec < 0:\n",
    "    section_patten = base_dir.format(evtid, 0).replace('_g{:09}'.format(0), '*')\n",
    "    n_sections = int(len(glob.glob(section_patten)))\n",
    "    file_names = [(base_dir.format(evtid, ii), ii) for ii in range(n_sections)]\n",
    "else:\n",
    "    file_names = [(base_dir.format(evtid, isec), isec)]"
   ]
  },
  {
   "cell_type": "code",
   "execution_count": 20,
   "metadata": {},
   "outputs": [],
   "source": [
    "n_batches = len(file_names)//batch_size if len(file_names)%batch_size==0 else len(file_names)//batch_size + 1\n",
    "split_inputs = np.array_split(file_names, n_batches)"
   ]
  },
  {
   "cell_type": "code",
   "execution_count": 26,
   "metadata": {},
   "outputs": [],
   "source": [
    "dd = os.path.join(trk_dir, 'event{:09d}')\n",
    "hits, particles, truth = load_event(dd.format(evtid), parts=['hits', 'particles', 'truth'])\n",
    "hits = merge_truth_info_to_hits(hits, particles, truth)\n",
    "true_features = ['pt', 'particle_id', 'nhits']"
   ]
  },
  {
   "cell_type": "code",
   "execution_count": 22,
   "metadata": {},
   "outputs": [
    {
     "name": "stdout",
     "output_type": "stream",
     "text": [
      "total_graphs 4\n",
      "total_graphs 4\n",
      "total_graphs 4\n",
      "total_graphs 4\n",
      "CPU times: user 7min 14s, sys: 52.7 s, total: 8min 7s\n",
      "Wall time: 4min 20s\n"
     ]
    }
   ],
   "source": [
    "%%time\n",
    "all_graphs = []\n",
    "is_digraph = True\n",
    "is_bidirection = False\n",
    "# evaluate each graph\n",
    "for ibatch in range(n_batches):\n",
    "    ## pad batch_size\n",
    "    current_files = list(split_inputs[ibatch])\n",
    "    if len(current_files) < batch_size:\n",
    "        last_file = current_files[-1]\n",
    "        current_files += [last_file] *(batch_size-len(current_files))\n",
    "\n",
    "#     print(current_files)\n",
    "    input_graphs = []\n",
    "    target_graphs = []\n",
    "    for items in current_files:\n",
    "        file_name = items[0]\n",
    "        with np.load(file_name) as f:\n",
    "            input_graphs.append(dict(f.items()))\n",
    "\n",
    "        with np.load(file_name.replace(\"INPUT\", \"TARGET\")) as f:\n",
    "            target_graphs.append(dict(f.items()))\n",
    "\n",
    "    graphs = model(utils_np.data_dicts_to_graphs_tuple(input_graphs),\n",
    "                   utils_np.data_dicts_to_graphs_tuple(target_graphs),\n",
    "                   use_digraph=is_digraph, bidirection=is_bidirection\n",
    "                  )\n",
    "    if len(graphs) != batch_size:\n",
    "        raise ValueError(\"graph size not the same as batch-size\")\n",
    "\n",
    "    # decorate the graph with truth info\n",
    "    for ii in range(batch_size):\n",
    "        idx = int(current_files[ii][1])\n",
    "        id_name = os.path.join(hits_graph_dir, \"event{:09d}_g{:03d}_ID.npz\".format(evtid, idx))\n",
    "        with np.load(id_name) as f:\n",
    "            hit_ids = f['ID']\n",
    "\n",
    "        for node in graphs[ii].nodes():\n",
    "            hit_id = hit_ids[node]\n",
    "            graphs[ii].node[node]['hit_id'] = hit_id\n",
    "            graphs[ii].node[node]['info'] = hits[hits['hit_id'] == hit_id][true_features].values\n",
    "        \n",
    "        graphs[ii].graph['info'] = [idx] ## section ID\n",
    "\n",
    "    all_graphs += graphs"
   ]
  },
  {
   "cell_type": "markdown",
   "metadata": {},
   "source": [
    "#### Analyze these graphs. Edge features include 'predict' for predictions and 'solution' for truth"
   ]
  },
  {
   "cell_type": "code",
   "execution_count": 23,
   "metadata": {},
   "outputs": [],
   "source": [
    "from heptrkx.nx_graph import utils_plot"
   ]
  },
  {
   "cell_type": "code",
   "execution_count": 24,
   "metadata": {},
   "outputs": [],
   "source": [
    "import sklearn.metrics\n",
    "fontsize=16\n",
    "minor_size=14\n",
    "def plot_metrics2(odd, tdd, odd_th=0.5, tdd_th=0.5, outname='roc_graph_nets.eps'):\n",
    "    y_pred, y_true = (odd > odd_th), (tdd > tdd_th)\n",
    "    accuracy  = sklearn.metrics.accuracy_score(y_true, y_pred)\n",
    "    precision = sklearn.metrics.precision_score(y_true, y_pred)\n",
    "    recall    = sklearn.metrics.recall_score(y_true, y_pred)\n",
    "\n",
    "    print('Accuracy:            %.4f' % accuracy)\n",
    "    print('Precision (purity):  %.4f' % precision)\n",
    "    print('Recall (efficiency): %.4f' % recall)\n",
    "\n",
    "    fpr, tpr, _ = sklearn.metrics.roc_curve(y_true, odd)\n",
    "\n",
    "\n",
    "    fig, ax0 = plt.subplots(figsize=(6, 6), constrained_layout=True)\n",
    "\n",
    "    # Plot the model outputs\n",
    "    # binning=dict(bins=50, range=(0,1), histtype='step', log=True)\n",
    "    binning=dict(bins=50, histtype='step', log=True)\n",
    "    ax0.hist(odd[y_true==False], lw=2, label='fake', **binning)\n",
    "    ax0.hist(odd[y_true], lw=2, label='true', **binning)\n",
    "    ax0.set_xlabel('Model output', fontsize=fontsize)\n",
    "    ax0.tick_params(width=2, grid_alpha=0.5, labelsize=minor_size)\n",
    "    ax0.set_xlim(0, 1)\n",
    "    ax0.legend(loc=0, fontsize=fontsize)\n",
    "\n",
    "    plt.savefig(outname)"
   ]
  },
  {
   "cell_type": "code",
   "execution_count": 25,
   "metadata": {},
   "outputs": [
    {
     "name": "stdout",
     "output_type": "stream",
     "text": [
      "Accuracy:            0.993562\n",
      "Precision (purity):  0.957573\n",
      "Recall (efficiency): 0.959093\n"
     ]
    },
    {
     "name": "stderr",
     "output_type": "stream",
     "text": [
      "/global/project/projectdirs/atlas/xju/heptrack/gnn/code/heptrkx/heptrkx/nx_graph/utils_plot.py:170: UserWarning: Creating legend with loc=\"best\" can be slow with large amounts of data.\n",
      "  plt.savefig(outname)\n",
      "/global/homes/x/xju/.conda/envs/heptrk/lib/python3.6/site-packages/IPython/core/pylabtools.py:128: UserWarning: Creating legend with loc=\"best\" can be slow with large amounts of data.\n",
      "  fig.canvas.print_figure(bytes_io, **kw)\n"
     ]
    },
    {
     "data": {
      "image/png": "[encoded data removed]",
      "text/plain": [
       "<Figure size 864x720 with 4 Axes>"
      ]
     },
     "metadata": {
      "needs_background": "light"
     },
     "output_type": "display_data"
    }
   ],
   "source": [
    "weights = []\n",
    "truths = []\n",
    "for G in all_graphs:\n",
    "    weights += [G.edges[edge]['predict'][0] for edge in G.edges()]\n",
    "    truths += [G.edges[edge]['solution'][0] for edge in G.edges()]\n",
    "    \n",
    "weights = np.array(weights)\n",
    "truths = np.array(truths)\n",
    "utils_plot.plot_metrics(weights, truths, odd_th=0.5)\n",
    "# plot_metrics2(weights, truths, odd_th=0.5)"
   ]
  },
  {
   "cell_type": "code",
   "execution_count": 33,
   "metadata": {},
   "outputs": [],
   "source": [
    "from heptrkx.postprocess import wrangler, analysis"
   ]
  },
  {
   "cell_type": "code",
   "execution_count": 34,
   "metadata": {},
   "outputs": [
    {
     "name": "stdout",
     "output_type": "stream",
     "text": [
      "703\n"
     ]
    }
   ],
   "source": [
    "all_true_tracks = wrangler.get_tracks(G, feature_name='solution')\n",
    "all_predict_tracks = wrangler.get_tracks(G, feature_name='predict')\n",
    "true_df = analysis.graphs_to_df(all_true_tracks)\n",
    "pred_df = analysis.graphs_to_df(all_predict_tracks)\n",
    "total_particles = np.unique(true_df.merge(truth, on='hit_id', how='left')['particle_id'])\n",
    "print(len(total_particles))"
   ]
  },
  {
   "cell_type": "code",
   "execution_count": 35,
   "metadata": {},
   "outputs": [],
   "source": [
    "th = 0."
   ]
  },
  {
   "cell_type": "code",
   "execution_count": 36,
   "metadata": {},
   "outputs": [],
   "source": [
    "good_pids, bad_pids = analysis.label_particles(pred_df, truth, th, ignore_noise=True)\n",
    "good_trks = hits[hits['particle_id'].isin(good_pids)]"
   ]
  },
  {
   "cell_type": "code",
   "execution_count": 39,
   "metadata": {},
   "outputs": [],
   "source": [
    "def print_info(res_pred):\n",
    "    print(res_pred['n_correct'], res_pred['n_wrong'])"
   ]
  },
  {
   "cell_type": "code",
   "execution_count": 40,
   "metadata": {},
   "outputs": [
    {
     "name": "stdout",
     "output_type": "stream",
     "text": [
      "Track ML score:  0.5539014905253343\n",
      "Prediction Info\n",
      "627 -250\n",
      "True Info\n",
      "Track ML score:  0.5814894255504931\n",
      "642 -265\n"
     ]
    }
   ],
   "source": [
    "res_pred = analysis.summary_on_prediction(G, good_trks, pred_df)\n",
    "print(\"Prediction Info\")\n",
    "print_info(res_pred)\n",
    "print(\"True Info\")\n",
    "res_truth = analysis.summary_on_prediction(G, good_trks, true_df)\n",
    "print_info(res_truth)"
   ]
  },
  {
   "cell_type": "code",
   "execution_count": 45,
   "metadata": {},
   "outputs": [
    {
     "name": "stdout",
     "output_type": "stream",
     "text": [
      "efficiency: 0.8704784130688448\n",
      "purity: 0.9221260815822002\n",
      "CPU times: user 3min 52s, sys: 1.65 s, total: 3min 53s\n",
      "Wall time: 3min 53s\n"
     ]
    }
   ],
   "source": [
    "%%time\n",
    "eff, purity, true_ones, fake_ones = analysis.trk_eff_purity(all_true_tracks, all_predict_tracks)\n",
    "print(\"efficiency:\", eff)\n",
    "print(\"purity:\", purity)"
   ]
  },
  {
   "cell_type": "code",
   "execution_count": null,
   "metadata": {},
   "outputs": [],
   "source": []
  }
 ],
 "metadata": {
  "kernelspec": {
   "display_name": "Python [conda env:.conda-heptrk]",
   "language": "python",
   "name": "conda-env-.conda-heptrk-py"
  },
  "language_info": {
   "codemirror_mode": {
    "name": "ipython",
    "version": 3
   },
   "file_extension": ".py",
   "mimetype": "text/x-python",
   "name": "python",
   "nbconvert_exporter": "python",
   "pygments_lexer": "ipython3",
   "version": "3.6.8"
  }
 },
 "nbformat": 4,
 "nbformat_minor": 4
}
