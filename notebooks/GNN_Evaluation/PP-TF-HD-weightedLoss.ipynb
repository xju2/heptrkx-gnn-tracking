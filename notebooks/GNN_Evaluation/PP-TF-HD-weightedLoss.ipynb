{
 "cells": [
  {
   "cell_type": "markdown",
   "metadata": {},
   "source": [
    "## GNN core for testing data"
   ]
  },
  {
   "cell_type": "code",
   "execution_count": 22,
   "metadata": {},
   "outputs": [],
   "source": [
    "from heptrkx.postprocess.evaluate_tf import create_evaluator\n",
    "\n",
    "import networkx as nx\n",
    "import numpy as np\n",
    "import matplotlib.pyplot as plt\n",
    "\n",
    "from graph_nets import utils_np\n",
    "from trackml.dataset import load_event\n",
    "\n",
    "from heptrkx.nx_graph.utils_plot import plot_networkx\n",
    "from heptrkx.nx_graph.utils_data import correct_networkx\n",
    "from heptrkx.nx_graph.utils_data import merge_truth_info_to_hits\n",
    "\n",
    "\n",
    "import os\n",
    "import glob"
   ]
  },
  {
   "cell_type": "code",
   "execution_count": 23,
   "metadata": {},
   "outputs": [
    {
     "name": "stdout",
     "output_type": "stream",
     "text": [
      "Total Events: 4682 with 16 sections, total 74912 files \n",
      "Training data: [0, 3744] events, total 59920 files\n",
      "Testing data:  [3745, 4682] events, total 14992 files\n",
      "Training and testing graphs are selected randomly from their corresponding pools\n"
     ]
    }
   ],
   "source": [
    "config_file = '../../configs/train_edge_classifier_coda_old_edge_features.yaml'\n",
    "# input_ckpt = '/global/cscratch1/sd/xju/heptrkx/trackml/trained_results/nxgraph_big_007/bak'\n",
    "# iteration = 89908\n",
    "\n",
    "input_ckpt = '/global/project/projectdirs/m3443/usr/xju/heptrkx/codalab/models/segments/v0_nxgraphs_bigs_001/bak'\n",
    "iteration = 17293\n",
    "\n",
    "model = create_evaluator(config_file, iteration, input_ckpt)"
   ]
  },
  {
   "cell_type": "code",
   "execution_count": 24,
   "metadata": {},
   "outputs": [],
   "source": [
    "file_dir = '/global/project/projectdirs/m3443/usr/xju/heptrkx/codalab/outputs/nxgraphs_bigs_001'\n",
    "hits_graph_dir = '/global/project/projectdirs/m3443/usr/xju/heptrkx/codalab/outputs/hitgraphs_big_000'\n",
    "trk_dir = '/global/project/projectdirs/m3443/usr/xju/heptrkx/codalab/inputs/train_all'\n",
    "\n",
    "base_dir =  os.path.join(file_dir, \"event{:09d}_g{:09d}_INPUT.npz\")"
   ]
  },
  {
   "cell_type": "code",
   "execution_count": 25,
   "metadata": {},
   "outputs": [],
   "source": [
    "evtid = 26001\n",
    "isec = -1\n",
    "batch_size = 4"
   ]
  },
  {
   "cell_type": "code",
   "execution_count": 26,
   "metadata": {},
   "outputs": [
    {
     "name": "stdout",
     "output_type": "stream",
     "text": [
      "16\n"
     ]
    }
   ],
   "source": [
    "file_names = []\n",
    "if isec < 0:\n",
    "    section_patten = base_dir.format(evtid, 0).replace('_g{:09}'.format(0), '*')\n",
    "    n_sections = int(len(glob.glob(section_patten)))\n",
    "    file_names = [(base_dir.format(evtid, ii), ii) for ii in range(n_sections)]\n",
    "    print(n_sections)\n",
    "else:\n",
    "    file_names = [(base_dir.format(evtid, isec), isec)]"
   ]
  },
  {
   "cell_type": "code",
   "execution_count": 27,
   "metadata": {},
   "outputs": [],
   "source": [
    "n_batches = len(file_names)//batch_size if len(file_names)%batch_size==0 else len(file_names)//batch_size + 1\n",
    "split_inputs = np.array_split(file_names, n_batches)"
   ]
  },
  {
   "cell_type": "code",
   "execution_count": 28,
   "metadata": {},
   "outputs": [],
   "source": [
    "dd = os.path.join(trk_dir, 'event{:09d}')\n",
    "hits, particles, truth = load_event(dd.format(evtid), parts=['hits', 'particles', 'truth'])\n",
    "hits = merge_truth_info_to_hits(hits, particles, truth)\n",
    "true_features = ['pt', 'particle_id', 'nhits']"
   ]
  },
  {
   "cell_type": "code",
   "execution_count": 29,
   "metadata": {},
   "outputs": [
    {
     "name": "stdout",
     "output_type": "stream",
     "text": [
      "total_graphs 4\n",
      "total_graphs 4\n",
      "total_graphs 4\n",
      "total_graphs 4\n",
      "CPU times: user 3min 9s, sys: 1min 5s, total: 4min 15s\n",
      "Wall time: 1min 22s\n"
     ]
    }
   ],
   "source": [
    "%%time\n",
    "all_graphs = []\n",
    "is_digraph = True\n",
    "is_bidirection = True\n",
    "# evaluate each graph\n",
    "for ibatch in range(n_batches):\n",
    "    ## pad batch_size\n",
    "    current_files = list(split_inputs[ibatch])\n",
    "    if len(current_files) < batch_size:\n",
    "        last_file = current_files[-1]\n",
    "        current_files += [last_file] *(batch_size-len(current_files))\n",
    "\n",
    "#     print(current_files)\n",
    "    input_graphs = []\n",
    "    target_graphs = []\n",
    "    for items in current_files:\n",
    "        file_name = items[0]\n",
    "        with np.load(file_name) as f:\n",
    "            input_graphs.append(dict(f.items()))\n",
    "\n",
    "        with np.load(file_name.replace(\"INPUT\", \"TARGET\")) as f:\n",
    "            target_graphs.append(dict(f.items()))\n",
    "\n",
    "    graphs = model(utils_np.data_dicts_to_graphs_tuple(input_graphs),\n",
    "                   utils_np.data_dicts_to_graphs_tuple(target_graphs),\n",
    "                   use_digraph=is_digraph, bidirection=is_bidirection\n",
    "                  )\n",
    "    if len(graphs) != batch_size:\n",
    "        raise ValueError(\"graph size not the same as batch-size\")\n",
    "\n",
    "    # decorate the graph with truth info\n",
    "    for ii in range(batch_size):\n",
    "        idx = int(current_files[ii][1])\n",
    "        id_name = os.path.join(hits_graph_dir, \"event{:09d}_g{:03d}_ID.npz\".format(evtid, idx))\n",
    "        with np.load(id_name) as f:\n",
    "            hit_ids = f['ID']\n",
    "\n",
    "        for node in graphs[ii].nodes():\n",
    "            hit_id = hit_ids[node]\n",
    "            graphs[ii].node[node]['hit_id'] = hit_id\n",
    "            graphs[ii].node[node]['info'] = hits[hits['hit_id'] == hit_id][true_features].values\n",
    "        \n",
    "        graphs[ii].graph['info'] = [idx] ## section ID\n",
    "\n",
    "    all_graphs += graphs"
   ]
  },
  {
   "cell_type": "markdown",
   "metadata": {},
   "source": [
    "#### Analyze these graphs. Edge features include 'predict' for predictions and 'solution' for truth"
   ]
  },
  {
   "cell_type": "code",
   "execution_count": 30,
   "metadata": {},
   "outputs": [],
   "source": [
    "from heptrkx.nx_graph import utils_plot"
   ]
  },
  {
   "cell_type": "code",
   "execution_count": 31,
   "metadata": {},
   "outputs": [
    {
     "name": "stdout",
     "output_type": "stream",
     "text": [
      "Accuracy:            0.986860\n",
      "Precision (purity):  0.954197\n",
      "Recall (efficiency): 0.884761\n"
     ]
    },
    {
     "data": {
      "image/png": "[encoded data removed]",
      "text/plain": [
       "<Figure size 864x720 with 4 Axes>"
      ]
     },
     "metadata": {
      "needs_background": "light"
     },
     "output_type": "display_data"
    }
   ],
   "source": [
    "weights = []\n",
    "truths = []\n",
    "for G in all_graphs:\n",
    "    weight = [G.edges[edge]['predict'][0] for edge in G.edges()]\n",
    "    truth_  = [G.edges[edge]['solution'][0] for edge in G.edges()]\n",
    "    weights += weight\n",
    "    truths += truth_\n",
    "\n",
    "    \n",
    "weights = np.array(weights)\n",
    "truths = np.array(truths)\n",
    "utils_plot.plot_metrics(weights, truths, odd_th=0.5)"
   ]
  },
  {
   "cell_type": "code",
   "execution_count": 32,
   "metadata": {},
   "outputs": [],
   "source": [
    "from heptrkx.postprocess import wrangler, analysis"
   ]
  },
  {
   "cell_type": "code",
   "execution_count": 33,
   "metadata": {},
   "outputs": [
    {
     "name": "stderr",
     "output_type": "stream",
     "text": [
      "/global/project/projectdirs/atlas/xju/heptrack/gnn/code/heptrkx/heptrkx/postprocess/wrangler.py:84: RankWarning: Polyfit may be poorly conditioned\n",
      "  _, _, diff = utils_fit.poly_fit_phi(z, phi)\n",
      "/global/project/projectdirs/atlas/xju/heptrack/gnn/code/heptrkx/heptrkx/postprocess/wrangler.py:84: RankWarning: Polyfit may be poorly conditioned\n",
      "  _, _, diff = utils_fit.poly_fit_phi(z, phi)\n"
     ]
    }
   ],
   "source": [
    "all_true_tracks = wrangler.get_tracks(G, feature_name='solution')\n",
    "all_predict_tracks = wrangler.get_tracks(G, feature_name='predict')\n",
    "true_df = analysis.graphs_to_df(all_true_tracks)\n",
    "pred_df = analysis.graphs_to_df(all_predict_tracks)"
   ]
  },
  {
   "cell_type": "code",
   "execution_count": 34,
   "metadata": {},
   "outputs": [
    {
     "name": "stdout",
     "output_type": "stream",
     "text": [
      "640\n"
     ]
    }
   ],
   "source": [
    "total_particles = np.unique(true_df.merge(truth, on='hit_id', how='left')['particle_id'])\n",
    "print(len(total_particles))"
   ]
  },
  {
   "cell_type": "code",
   "execution_count": 35,
   "metadata": {},
   "outputs": [],
   "source": [
    "th = 0."
   ]
  },
  {
   "cell_type": "code",
   "execution_count": 36,
   "metadata": {},
   "outputs": [],
   "source": [
    "good_pids, bad_pids = analysis.label_particles(pred_df, truth, th, ignore_noise=True)\n",
    "good_trks = hits[hits['particle_id'].isin(good_pids)]"
   ]
  },
  {
   "cell_type": "code",
   "execution_count": 37,
   "metadata": {},
   "outputs": [],
   "source": [
    "def print_info(res_pred):\n",
    "    print(res_pred['n_correct'], res_pred['n_wrong'])"
   ]
  },
  {
   "cell_type": "code",
   "execution_count": 38,
   "metadata": {},
   "outputs": [
    {
     "name": "stdout",
     "output_type": "stream",
     "text": [
      "Track ML score:  0.5211204217701377\n",
      "Prediction Info\n",
      "454 -190\n",
      "True Info\n",
      "Track ML score:  0.609543175551819\n",
      "491 -227\n"
     ]
    }
   ],
   "source": [
    "res_pred = analysis.summary_on_prediction(G, good_trks, pred_df)\n",
    "print(\"Prediction Info\")\n",
    "print_info(res_pred)\n",
    "print(\"True Info\")\n",
    "res_truth = analysis.summary_on_prediction(G, good_trks, true_df)\n",
    "print_info(res_truth)"
   ]
  },
  {
   "cell_type": "code",
   "execution_count": 39,
   "metadata": {},
   "outputs": [
    {
     "data": {
      "text/plain": [
       "[0.008247567976491364, 0.029359376, 0.016454647591672256, 0.028397913707522093]"
      ]
     },
     "execution_count": 39,
     "metadata": {},
     "output_type": "execute_result"
    }
   ],
   "source": [
    "analysis.score_nxgraphs(all_true_tracks, truth)"
   ]
  },
  {
   "cell_type": "code",
   "execution_count": 40,
   "metadata": {},
   "outputs": [
    {
     "data": {
      "text/plain": [
       "[0.00771219990461165, 0.029359376, 0.016454647591672256, 0.028397913707522093]"
      ]
     },
     "execution_count": 40,
     "metadata": {},
     "output_type": "execute_result"
    }
   ],
   "source": [
    "analysis.score_nxgraphs(all_predict_tracks, truth)"
   ]
  },
  {
   "cell_type": "code",
   "execution_count": 41,
   "metadata": {},
   "outputs": [
    {
     "name": "stdout",
     "output_type": "stream",
     "text": [
      "CPU times: user 1min 37s, sys: 83 ms, total: 1min 37s\n",
      "Wall time: 1min 37s\n"
     ]
    }
   ],
   "source": [
    "%%time\n",
    "eff, purity, true_ones, fake_ones = analysis.trk_eff_purity(all_true_tracks, all_predict_tracks)"
   ]
  },
  {
   "cell_type": "code",
   "execution_count": 42,
   "metadata": {},
   "outputs": [
    {
     "name": "stdout",
     "output_type": "stream",
     "text": [
      "Tracking efficiency: 0.785\n",
      "Tracking purity: 0.881\n"
     ]
    }
   ],
   "source": [
    "print(\"Tracking efficiency: {:.3f}\".format(eff))\n",
    "print(\"Tracking purity: {:.3f}\".format(purity))"
   ]
  }
 ],
 "metadata": {
  "kernelspec": {
   "display_name": "Python [conda env:.conda-heptrk]",
   "language": "python",
   "name": "conda-env-.conda-heptrk-py"
  },
  "language_info": {
   "codemirror_mode": {
    "name": "ipython",
    "version": 3
   },
   "file_extension": ".py",
   "mimetype": "text/x-python",
   "name": "python",
   "nbconvert_exporter": "python",
   "pygments_lexer": "ipython3",
   "version": "3.6.8"
  }
 },
 "nbformat": 4,
 "nbformat_minor": 4
}
